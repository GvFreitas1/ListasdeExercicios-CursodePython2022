{
 "cells": [
  {
   "attachments": {},
   "cell_type": "markdown",
   "metadata": {},
   "source": [
    "# __Aula 4 - Funções__\n",
    "\n",
    "##### *Grupo 4:*\n",
    "* **Guilherme Freitas** - [GvFreitas1](https://github.com/GvFreitas1)\n",
    "* **Henrique Lindoso** - [Osodnil](https://github.com/Osodnil)\n",
    "* **Leticia Amy** - [leticiaamyy](https://github.com/leticiaamyy)\n",
    "* **Milena Ramos** - [mi-ramos](https://github.com/mi-ramos)\n",
    "\n",
    "##### *Monitora:*\n",
    "* **Cinthya Beneducci** - [LaQuokka](https://github.com/LaQuokka)\n"
   ]
  },
  {
   "attachments": {},
   "cell_type": "markdown",
   "metadata": {},
   "source": [
    "### __Introdução__"
   ]
  },
  {
   "attachments": {},
   "cell_type": "markdown",
   "metadata": {},
   "source": [
    "* Uma função é uma sequência de comandos que executa tarefas específicas e que tem um nome.\n",
    "* Suas principais finalidades são facilitar o desenvolvimento do código e auxiliar na sua organização.<br><br>\n",
    "\n",
    "<h3> Rotina </h3>\n",
    "<img src=\"https://img.freepik.com/vetores-premium/mesa-de-rotina-diaria-infantil-com-ilustracao-vetorial-de-desenho-animado-de-menino-bonito_181313-3789.jpg?w=2000\" alt=\"rotina\" width=\"300\"/>\n",
    "<p> <br> </p>"
   ]
  },
  {
   "attachments": {},
   "cell_type": "markdown",
   "metadata": {},
   "source": [
    "<h3> Funções Embutidas </h3>\n",
    "\n",
    "O python conta com várias funções embutidas, mas nessa aula aprenderemos a criar nossas próprias funções!\n",
    "\n",
    "<img src=\"https://hermes.digitalinnovation.one/articles/cover/afa3c3ef-047c-4f65-82ed-6c6ddb0efc02.png\" alt=\"rotina\" width=\"300\"/>"
   ]
  },
  {
   "attachments": {},
   "cell_type": "markdown",
   "metadata": {},
   "source": [
    "<H3> Primeira Função </H3>"
   ]
  },
  {
   "cell_type": "code",
   "execution_count": null,
   "metadata": {},
   "outputs": [],
   "source": [
    "def funcao():\n",
    "    print(\"Olá Mundo!\")\n",
    "\n",
    "funcao()"
   ]
  },
  {
   "attachments": {},
   "cell_type": "markdown",
   "metadata": {},
   "source": [
    "<H3> Parâmetros </H3>\n",
    "\n",
    "* Os parâmetros são usados para receber valores de entrada que serão utilizados dentro do bloco de código da função."
   ]
  },
  {
   "cell_type": "code",
   "execution_count": null,
   "metadata": {},
   "outputs": [],
   "source": [
    "def imprime_nome(nome):\n",
    "    print(f\"Olá {nome}!\")\n",
    "\n",
    "imprime_nome(\"Adamastor\")"
   ]
  },
  {
   "attachments": {},
   "cell_type": "markdown",
   "metadata": {},
   "source": [
    "<H3> Função Return </H3>\n",
    "\n",
    "* Além de receber, a função precisa retornar uma informação.\n",
    "* Nesse caso utilizamos o Return! Ele serve para a função retornar algum valor."
   ]
  },
  {
   "cell_type": "code",
   "execution_count": null,
   "metadata": {},
   "outputs": [],
   "source": [
    "def soma(a, b):\n",
    "    print(a + b)\n",
    "    \n",
    "soma(2, 3)"
   ]
  },
  {
   "cell_type": "code",
   "execution_count": null,
   "metadata": {},
   "outputs": [],
   "source": [
    "def soma(a, b):\n",
    "    resultado = a + b\n",
    "    return resultado\n",
    "\n",
    "soma(2, 3)"
   ]
  },
  {
   "cell_type": "code",
   "execution_count": null,
   "metadata": {},
   "outputs": [],
   "source": [
    "def soma(a, b):\n",
    "    print(a + b)\n",
    "    \n",
    "soma(2, 3)*2"
   ]
  },
  {
   "cell_type": "code",
   "execution_count": null,
   "metadata": {},
   "outputs": [],
   "source": [
    "type(soma(2, 3))"
   ]
  },
  {
   "cell_type": "code",
   "execution_count": null,
   "metadata": {},
   "outputs": [],
   "source": [
    "def soma(a, b):\n",
    "    resultado = a + b\n",
    "    return resultado\n",
    "\n",
    "soma(2, 3)*2"
   ]
  },
  {
   "cell_type": "code",
   "execution_count": null,
   "metadata": {},
   "outputs": [],
   "source": [
    "type(soma(2, 3))"
   ]
  },
  {
   "attachments": {},
   "cell_type": "markdown",
   "metadata": {},
   "source": [
    "### __Escopo das Funções__\n",
    "\n",
    "* As funções podem ser consideradas como blocos de comandos que funcionam de forma autônoma em um código.\n",
    "* Esse conceito permite explicar as diferenças entre variáveis globais e locais.\n",
    "\n",
    "### *Variáveis globais:*\n",
    "* Existem e podem ser utilizadas em todo o código e em qualquer função.\n",
    "\n",
    "### *Variáveis locais:*\n",
    "* Só existem e podem ser utilizadas dentro da função na qual foram criadas."
   ]
  },
  {
   "cell_type": "code",
   "execution_count": null,
   "metadata": {},
   "outputs": [],
   "source": [
    "# Exemplo 1\n",
    "x = 5 # Variável global.\n",
    "\n",
    "def pot():\n",
    "    return x**2\n",
    "\n",
    "pot()"
   ]
  },
  {
   "cell_type": "code",
   "execution_count": null,
   "metadata": {},
   "outputs": [],
   "source": [
    "# Exemplo 2\n",
    "\n",
    "def soma1():\n",
    "    a = 2 # Variável local.\n",
    "    b = 6 # Variável local.\n",
    "    return a + b\n",
    "print(soma1())"
   ]
  },
  {
   "cell_type": "code",
   "execution_count": null,
   "metadata": {},
   "outputs": [],
   "source": [
    "def subtracao1():\n",
    "    return a - b\n",
    "print(subtracao1())"
   ]
  },
  {
   "cell_type": "code",
   "execution_count": null,
   "metadata": {},
   "outputs": [],
   "source": [
    "def soma2():\n",
    "    a = 3\n",
    "    b = 7\n",
    "    return a + b\n",
    "\n",
    "print(soma2())\n",
    "print(soma1())"
   ]
  },
  {
   "cell_type": "code",
   "execution_count": null,
   "metadata": {},
   "outputs": [],
   "source": [
    "# Exemplo 3\n",
    "\n",
    "# Variáveis globais.\n",
    "c = 1\n",
    "d = 2\n",
    "e = 3\n",
    "def aleatoria(c,d,e):\n",
    "    return (c+d)-e # Variáveis locais.\n",
    "print(aleatoria(e,d,c))"
   ]
  },
  {
   "cell_type": "code",
   "execution_count": null,
   "metadata": {},
   "outputs": [],
   "source": [
    "# Exemplo 4\n",
    "\n",
    "def soma():\n",
    "    global y\n",
    "    y = 2\n",
    "    global z\n",
    "    z = 6\n",
    "    return\n",
    "soma()\n",
    "\n",
    "def subtracao():\n",
    "    return y - z\n",
    "print(subtracao())"
   ]
  },
  {
   "cell_type": "code",
   "execution_count": null,
   "metadata": {},
   "outputs": [],
   "source": [
    "# Exemplo 5\n",
    "\n",
    "def soma():\n",
    "    global a\n",
    "    a = 2\n",
    "    global b\n",
    "    b = 6\n",
    "    return\n",
    "\n",
    "def subtracao():\n",
    "    return a - b\n",
    "print(subtracao())"
   ]
  },
  {
   "attachments": {},
   "cell_type": "markdown",
   "metadata": {},
   "source": [
    "### *Ordem das funções:*\n",
    "\n",
    "* Uma função só pode ser chamada se ela tiver sido criada antes.\n",
    "* O Python segue o código de cima para baixo."
   ]
  },
  {
   "cell_type": "code",
   "execution_count": null,
   "metadata": {},
   "outputs": [],
   "source": [
    "# Exemplo 1\n",
    "print(mult(2*3))\n",
    "\n",
    "def mult(x, y):\n",
    "    return x * y"
   ]
  },
  {
   "attachments": {},
   "cell_type": "markdown",
   "metadata": {},
   "source": [
    "### *Funções aninhadas e recursivas:*\n",
    "* O uso de uma função dentro de outra função.\n",
    "* O uso da função dentro dela mesma."
   ]
  },
  {
   "cell_type": "code",
   "execution_count": null,
   "metadata": {},
   "outputs": [],
   "source": [
    "# Exemplo 1\n",
    "\n",
    "def raiz(i):\n",
    "    return i**(1/2)\n",
    "\n",
    "def contas(j):\n",
    "    return j + raiz(j)\n",
    "\n",
    "contas(4)"
   ]
  },
  {
   "cell_type": "code",
   "execution_count": null,
   "metadata": {},
   "outputs": [],
   "source": [
    "# Exemplo 2\n",
    "\n",
    "def fat(n):\n",
    "  if n == 0:\n",
    "    return 1\n",
    "  else:\n",
    "    return n*fat(n-1)\n",
    "  \n",
    "fat(3)"
   ]
  },
  {
   "attachments": {},
   "cell_type": "markdown",
   "metadata": {},
   "source": [
    "### __Outras Características__"
   ]
  },
  {
   "attachments": {},
   "cell_type": "markdown",
   "metadata": {},
   "source": [
    "#### 1. Retorno de Múltiplos Valores"
   ]
  },
  {
   "attachments": {},
   "cell_type": "markdown",
   "metadata": {},
   "source": [
    "Das funções que vimos, todas retornam apenas 1 valor, mas podemos criar funções que retornam múltiplos valores!"
   ]
  },
  {
   "cell_type": "code",
   "execution_count": 2,
   "metadata": {},
   "outputs": [],
   "source": [
    "\n",
    "#? Exemplo:\n",
    "\n",
    "def operacoes(a, b):\n",
    "    soma = a + b\n",
    "    diferenca = a - b\n",
    "    prod = a * b\n",
    "    div = a / b\n",
    "    return soma, diferenca, prod, div"
   ]
  },
  {
   "cell_type": "code",
   "execution_count": 3,
   "metadata": {},
   "outputs": [
    {
     "data": {
      "text/plain": [
       "(6, -4, 5, 0.2)"
      ]
     },
     "execution_count": 3,
     "metadata": {},
     "output_type": "execute_result"
    }
   ],
   "source": [
    "operacoes(1, 5)"
   ]
  },
  {
   "cell_type": "code",
   "execution_count": 4,
   "metadata": {},
   "outputs": [
    {
     "data": {
      "text/plain": [
       "tuple"
      ]
     },
     "execution_count": 4,
     "metadata": {},
     "output_type": "execute_result"
    }
   ],
   "source": [
    "type(operacoes(1, 5))"
   ]
  },
  {
   "cell_type": "code",
   "execution_count": 6,
   "metadata": {},
   "outputs": [
    {
     "name": "stdout",
     "output_type": "stream",
     "text": [
      "(11, 7, 18, 4.5)\n",
      "A soma é 11, a diferença 7, o produto é 18 e o quociente, 4.5\n"
     ]
    }
   ],
   "source": [
    "\n",
    "#! Atribuição Múltipla\n",
    "\n",
    "resultado = operacoes(9, 2)\n",
    "#* resultado = (11, 7, 18, 4.5)\n",
    "print(resultado)\n",
    "\n",
    "soma, subtracao, mult, div = operacoes(9, 2)\n",
    "\n",
    "#* soma, subtracao, mult, div = (11, 7, 18, 4.5)\n",
    "# Equivalente a:\n",
    "#TODO soma = 11\n",
    "#TODO subtracao = 7\n",
    "#TODO mult = 18\n",
    "#TODO div = 4.5\n",
    "\n",
    "print(f\"A soma é {soma}, a diferença {subtracao}, o produto é {mult} e o quociente, {div}\")"
   ]
  },
  {
   "attachments": {},
   "cell_type": "markdown",
   "metadata": {},
   "source": [
    "#### 2. Docstrings"
   ]
  },
  {
   "cell_type": "code",
   "execution_count": 7,
   "metadata": {},
   "outputs": [
    {
     "name": "stdout",
     "output_type": "stream",
     "text": [
      "Help on built-in function len in module builtins:\n",
      "\n",
      "len(obj, /)\n",
      "    Return the number of items in a container.\n",
      "\n"
     ]
    }
   ],
   "source": [
    "# É como documentamos uma função, dizendo o que ela faz.\n",
    "\n",
    "help(len)"
   ]
  },
  {
   "cell_type": "code",
   "execution_count": 11,
   "metadata": {},
   "outputs": [
    {
     "name": "stdout",
     "output_type": "stream",
     "text": [
      "Hello\n",
      "Help on function hello in module __main__:\n",
      "\n",
      "hello()\n",
      "    (None) -> None\n",
      "    Essa função imprime a palavra Hello\n",
      "\n"
     ]
    }
   ],
   "source": [
    "def hello():\n",
    "    \"\"\"(None) -> None\n",
    "    Essa função imprime a palavra Hello\n",
    "    \"\"\"\n",
    "    print('Hello')\n",
    "    \n",
    "hello()\n",
    "\n",
    "help(hello)"
   ]
  },
  {
   "cell_type": "code",
   "execution_count": 12,
   "metadata": {},
   "outputs": [
    {
     "name": "stdout",
     "output_type": "stream",
     "text": [
      "Help on function operacoes in module __main__:\n",
      "\n",
      "operacoes(a, b)\n",
      "    (numeric, numeric) -> (numeric, numeric, numeric, numeric)\n",
      "    Essa função retorna os valores da soma, subtração, multiplicação e divisão dos parâmetros.\n",
      "\n"
     ]
    }
   ],
   "source": [
    "def operacoes(a, b):\n",
    "    \"\"\"(numeric, numeric) -> (numeric, numeric, numeric, numeric)\n",
    "    Essa função retorna os valores da soma, subtração, multiplicação e divisão dos parâmetros.\n",
    "    \"\"\"\n",
    "    soma = a + b\n",
    "    diferenca = a - b\n",
    "    prod = a * b\n",
    "    div = a / b\n",
    "    return soma, diferenca, prod, div\n",
    "\n",
    "help(operacoes)"
   ]
  },
  {
   "attachments": {},
   "cell_type": "markdown",
   "metadata": {},
   "source": [
    "#### 3. Argumentos Opcionais (default)"
   ]
  },
  {
   "cell_type": "code",
   "execution_count": 13,
   "metadata": {},
   "outputs": [],
   "source": [
    "def bomdia(nome):\n",
    "    \"\"\"(str) -> None\n",
    "    Imprime bom dia personalizado com o nome.\n",
    "    \"\"\"\n",
    "    print(f\"Bom dia {nome}!\")"
   ]
  },
  {
   "cell_type": "code",
   "execution_count": 14,
   "metadata": {},
   "outputs": [
    {
     "name": "stdout",
     "output_type": "stream",
     "text": [
      "Help on function bomdia in module __main__:\n",
      "\n",
      "bomdia(nome)\n",
      "    (str) -> None\n",
      "    Imprime bom dia personalizado com o nome.\n",
      "\n"
     ]
    }
   ],
   "source": [
    "help(bomdia)"
   ]
  },
  {
   "cell_type": "code",
   "execution_count": 16,
   "metadata": {},
   "outputs": [
    {
     "name": "stdout",
     "output_type": "stream",
     "text": [
      "Bom dia Max!\n"
     ]
    }
   ],
   "source": [
    "bomdia(\"Max\")"
   ]
  },
  {
   "cell_type": "code",
   "execution_count": 17,
   "metadata": {},
   "outputs": [
    {
     "ename": "TypeError",
     "evalue": "bomdia() missing 1 required positional argument: 'nome'",
     "output_type": "error",
     "traceback": [
      "\u001b[1;31m---------------------------------------------------------------------------\u001b[0m",
      "\u001b[1;31mTypeError\u001b[0m                                 Traceback (most recent call last)",
      "Cell \u001b[1;32mIn[17], line 1\u001b[0m\n\u001b[1;32m----> 1\u001b[0m bomdia()\n",
      "\u001b[1;31mTypeError\u001b[0m: bomdia() missing 1 required positional argument: 'nome'"
     ]
    }
   ],
   "source": [
    "bomdia()"
   ]
  },
  {
   "cell_type": "code",
   "execution_count": 18,
   "metadata": {},
   "outputs": [],
   "source": [
    "def bomdia(nome=\"amigo\"):\n",
    "    \"\"\"(str) -> None\n",
    "    Imprime bom dia personalizado com o nome.\n",
    "    \"\"\"\n",
    "    print(f\"Bom dia {nome}!\")"
   ]
  },
  {
   "cell_type": "code",
   "execution_count": 20,
   "metadata": {},
   "outputs": [
    {
     "name": "stdout",
     "output_type": "stream",
     "text": [
      "Bom dia Aninha!\n"
     ]
    }
   ],
   "source": [
    "bomdia(\"Aninha\")"
   ]
  },
  {
   "cell_type": "code",
   "execution_count": null,
   "metadata": {},
   "outputs": [],
   "source": [
    "print(*objects, sep=' ', end='\\n', file=sys.stdout, flush=False)"
   ]
  },
  {
   "cell_type": "code",
   "execution_count": 21,
   "metadata": {},
   "outputs": [
    {
     "name": "stdout",
     "output_type": "stream",
     "text": [
      "Guilherme\n"
     ]
    }
   ],
   "source": [
    "print(\"Guilherme\")"
   ]
  },
  {
   "cell_type": "code",
   "execution_count": 29,
   "metadata": {},
   "outputs": [
    {
     "name": "stdout",
     "output_type": "stream",
     "text": [
      "Henrique\n",
      "Guilherme\n",
      "Leticia\n",
      "Milena\n"
     ]
    }
   ],
   "source": [
    "print(\"Henrique\", \"Guilherme\", \"Leticia\", \"Milena\", sep=\"\\n\")  # sep=\"\\n\""
   ]
  },
  {
   "cell_type": "code",
   "execution_count": 30,
   "metadata": {},
   "outputs": [
    {
     "name": "stdout",
     "output_type": "stream",
     "text": [
      "Guilherme; Henrique; Leticia; Milena - São os integrantes do grupo 4"
     ]
    }
   ],
   "source": [
    "print(\"Guilherme\", \"Henrique\", \"Leticia\", \"Milena\", end=\" - São os integrantes do grupo 4\", sep=\"; \")"
   ]
  }
 ],
 "metadata": {
  "kernelspec": {
   "display_name": "Python 3",
   "language": "python",
   "name": "python3"
  },
  "language_info": {
   "codemirror_mode": {
    "name": "ipython",
    "version": 3
   },
   "file_extension": ".py",
   "mimetype": "text/x-python",
   "name": "python",
   "nbconvert_exporter": "python",
   "pygments_lexer": "ipython3",
   "version": "3.11.3"
  },
  "orig_nbformat": 4
 },
 "nbformat": 4,
 "nbformat_minor": 2
}
