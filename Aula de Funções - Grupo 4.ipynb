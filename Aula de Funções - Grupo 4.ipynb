{
 "cells": [
  {
   "attachments": {},
   "cell_type": "markdown",
   "metadata": {},
   "source": [
    "# __Aula 4 - Funções__\n",
    "\n",
    "##### *Grupo 4:*\n",
    "* **Guilherme Freitas** - [GvFreitas1](https://github.com/GvFreitas1)\n",
    "* **Henrique Lindoso** - [Osodnil](https://github.com/Osodnil)\n",
    "* **Leticia Amy** - [leticiaamyy](https://github.com/leticiaamyy)\n",
    "* **Milena Ramos** - [mi-ramos](https://github.com/mi-ramos)\n",
    "\n",
    "##### *Monitora:*\n",
    "* **Cinthya Beneducci** - [LaQuokka](https://github.com/LaQuokka)\n"
   ]
  },
  {
   "attachments": {},
   "cell_type": "markdown",
   "metadata": {},
   "source": [
    "### __Introdução__"
   ]
  }
 ],
 "metadata": {
  "language_info": {
   "name": "python"
  },
  "orig_nbformat": 4
 },
 "nbformat": 4,
 "nbformat_minor": 2
}
