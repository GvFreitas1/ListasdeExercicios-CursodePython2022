{
 "cells": [
  {
   "attachments": {},
   "cell_type": "markdown",
   "metadata": {},
   "source": [
    "# __Aula 4 - Funções__\n",
    "\n",
    "##### *Grupo 4:*\n",
    "* **Guilherme Freitas** - [GvFreitas1](https://github.com/GvFreitas1)\n",
    "* **Henrique Lindoso** - [Osodnil](https://github.com/Osodnil)\n",
    "* **Leticia Amy** - [leticiaamyy](https://github.com/leticiaamyy)\n",
    "* **Milena Ramos** - [mi-ramos](https://github.com/mi-ramos)\n",
    "\n",
    "##### *Monitora:*\n",
    "* **Cinthya Beneducci** - [LaQuokka](https://github.com/LaQuokka)\n"
   ]
  },
  {
   "attachments": {},
   "cell_type": "markdown",
   "metadata": {},
   "source": [
    "### __Introdução__"
   ]
  },
  {
   "attachments": {},
   "cell_type": "markdown",
   "metadata": {},
   "source": [
    "### __Escopo das Funções__\n",
    "\n",
    "* As funções podem ser consideradas como blocos de comandos que funcionam de forma autônoma em um código.\n",
    "* Esse conceito permite explicar as diferenças entre variáveis globais e locais.\n",
    "\n",
    "### *Variáveis globais:*\n",
    "* Existem e podem ser utilizadas em todo o código e em qualquer função.\n",
    "\n",
    "### *Variáveis locais:*\n",
    "* Só existem e podem ser utilizadas dentro da função na qual foram criadas."
   ]
  },
  {
   "cell_type": "code",
   "execution_count": null,
   "metadata": {},
   "outputs": [],
   "source": [
    "# Exemplo 1\n",
    "x = 5 # Variável global.\n",
    "\n",
    "def pot():\n",
    "    return x**2\n",
    "\n",
    "pot()"
   ]
  },
  {
   "cell_type": "code",
   "execution_count": null,
   "metadata": {},
   "outputs": [],
   "source": [
    "# Exemplo 2\n",
    "\n",
    "def soma1():\n",
    "    a = 2 # Variável local.\n",
    "    b = 6 # Variável local.\n",
    "    return a + b\n",
    "print(soma1())"
   ]
  },
  {
   "cell_type": "code",
   "execution_count": null,
   "metadata": {},
   "outputs": [],
   "source": [
    "def subtracao1():\n",
    "    return a - b\n",
    "print(subtracao1())"
   ]
  },
  {
   "cell_type": "code",
   "execution_count": null,
   "metadata": {},
   "outputs": [],
   "source": [
    "def soma2():\n",
    "    a = 3\n",
    "    b = 7\n",
    "    return a + b\n",
    "\n",
    "print(soma2())\n",
    "print(soma1())"
   ]
  },
  {
   "cell_type": "code",
   "execution_count": null,
   "metadata": {},
   "outputs": [],
   "source": [
    "# Exemplo 3\n",
    "\n",
    "# Variáveis globais.\n",
    "c = 1\n",
    "d = 2\n",
    "e = 3\n",
    "def aleatoria(c,d,e):\n",
    "    return (c+d)-e # Variáveis locais.\n",
    "print(aleatoria(e,d,c))"
   ]
  },
  {
   "cell_type": "code",
   "execution_count": null,
   "metadata": {},
   "outputs": [],
   "source": [
    "# Exemplo 4\n",
    "\n",
    "def soma():\n",
    "    global y\n",
    "    y = 2\n",
    "    global z\n",
    "    z = 6\n",
    "    return\n",
    "soma()\n",
    "\n",
    "def subtracao():\n",
    "    return y - z\n",
    "print(subtracao())"
   ]
  },
  {
   "cell_type": "code",
   "execution_count": null,
   "metadata": {},
   "outputs": [],
   "source": [
    "# Exemplo 5\n",
    "\n",
    "def soma():\n",
    "    global a\n",
    "    a = 2\n",
    "    global b\n",
    "    b = 6\n",
    "    return\n",
    "\n",
    "def subtracao():\n",
    "    return a - b\n",
    "print(subtracao())"
   ]
  },
  {
   "attachments": {},
   "cell_type": "markdown",
   "metadata": {},
   "source": [
    "### *Ordem das funções:*\n",
    "\n",
    "* Uma função só pode ser chamada se ela tiver sido criada antes.\n",
    "* O Python segue o código de cima para baixo."
   ]
  },
  {
   "cell_type": "code",
   "execution_count": null,
   "metadata": {},
   "outputs": [],
   "source": [
    "# Exemplo 1\n",
    "print(mult(2*3))\n",
    "\n",
    "def mult(x, y):\n",
    "    return x * y"
   ]
  },
  {
   "attachments": {},
   "cell_type": "markdown",
   "metadata": {},
   "source": [
    "### *Funções aninhadas e recursivas:*\n",
    "* O uso de uma função dentro de outra função.\n",
    "* O uso da função dentro dela mesma."
   ]
  },
  {
   "cell_type": "code",
   "execution_count": null,
   "metadata": {},
   "outputs": [],
   "source": [
    "# Exemplo 1\n",
    "\n",
    "def raiz(i):\n",
    "    return i**(1/2)\n",
    "\n",
    "def contas(j):\n",
    "    return j + raiz(j)\n",
    "\n",
    "contas(4)"
   ]
  },
  {
   "cell_type": "code",
   "execution_count": null,
   "metadata": {},
   "outputs": [],
   "source": [
    "# Exemplo 2\n",
    "\n",
    "def fat(n):\n",
    "  if n == 0:\n",
    "    return 1\n",
    "  else:\n",
    "    return n*fat(n-1)\n",
    "  \n",
    "fat(3)"
   ]
  },
  {
   "attachments": {},
   "cell_type": "markdown",
   "metadata": {},
   "source": [
    "### __Outras Características__"
   ]
  },
  {
   "attachments": {},
   "cell_type": "markdown",
   "metadata": {},
   "source": [
    "#### Retorno de Múltiplos Valores"
   ]
  },
  {
   "attachments": {},
   "cell_type": "markdown",
   "metadata": {},
   "source": [
    "#### Docstrings"
   ]
  },
  {
   "attachments": {},
   "cell_type": "markdown",
   "metadata": {},
   "source": [
    "#### Argumentos Opcionais (default)"
   ]
  }
 ],
 "metadata": {
  "kernelspec": {
   "display_name": "Python 3",
   "language": "python",
   "name": "python3"
  },
  "language_info": {
   "codemirror_mode": {
    "name": "ipython",
    "version": 3
   },
   "file_extension": ".py",
   "mimetype": "text/x-python",
   "name": "python",
   "nbconvert_exporter": "python",
   "pygments_lexer": "ipython3",
   "version": "3.9.2"
  },
  "orig_nbformat": 4
 },
 "nbformat": 4,
 "nbformat_minor": 2
}
