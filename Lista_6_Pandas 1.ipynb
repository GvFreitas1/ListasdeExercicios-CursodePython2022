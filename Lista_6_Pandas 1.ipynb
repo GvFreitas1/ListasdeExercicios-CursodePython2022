{
  "cells": [
    {
      "cell_type": "markdown",
      "id": "1cbe4420",
      "metadata": {
        "id": "1cbe4420"
      },
      "source": [
        "## Junto com esta lista do Jupyter, a base de dados \"data_pandas.csv\" vai ser fundamental para realizar os exercícios a seguir."
      ]
    },
    {
      "cell_type": "markdown",
      "id": "20a6507e",
      "metadata": {
        "id": "20a6507e"
      },
      "source": [
        "### 1) O arquivo \"data_pandas.csv\" é uma base de dados com preços históricos das vendas da empresa de supermercado que registrou dados em 3 filiais diferentes por 3 meses."
      ]
    },
    {
      "cell_type": "markdown",
      "id": "4554006a",
      "metadata": {
        "id": "4554006a"
      },
      "source": [
        "![Descri%C3%A7%C3%A3o.jpeg](attachment:Descri%C3%A7%C3%A3o.jpeg)"
      ]
    },
    {
      "cell_type": "markdown",
      "id": "0ebfe383",
      "metadata": {
        "id": "0ebfe383"
      },
      "source": [
        "#### a) Inicialmente, precisamos importar o Pandas para nosso código e armazenar os dados contidos no arquivo \"data_pandas.csv\" dentro de uma variável"
      ]
    },
    {
      "cell_type": "code",
      "execution_count": null,
      "id": "91959610",
      "metadata": {
        "id": "91959610"
      },
      "outputs": [],
      "source": []
    },
    {
      "cell_type": "markdown",
      "id": "8ffbba4d",
      "metadata": {
        "id": "8ffbba4d"
      },
      "source": [
        "#### b) Nessa etapa, busque gerar visualizações básicas do dataframe:\n",
        "           1) As cinco primeiras linhas; \n",
        "           2) As cinco últimas linhas;\n",
        "           3) Quantas linhas e colunas possuem no dataframe\n",
        "           4) Quais colunas existem no DataFrame qual o tipo de dados que cada coluna possui\n",
        "           5) Alguns dados estatísticos das variáveis quantitativas\n",
        "               - Média do valor total de cada compra\n",
        "               - Qual quantidade vendida mais é recorrente\n",
        "               - Receita total das vendas\n",
        "               - Menor e maior valor total de todas as vendas"
      ]
    },
    {
      "cell_type": "code",
      "execution_count": null,
      "id": "e9801058",
      "metadata": {
        "collapsed": true,
        "id": "e9801058",
        "outputId": "4829008a-1ece-4100-8fd1-2512f7e2c8a3"
      },
      "outputs": [],
      "source": [
        "# 1) As cinco primeiras linhas\n"
      ]
    },
    {
      "cell_type": "code",
      "execution_count": null,
      "id": "44505775",
      "metadata": {
        "collapsed": true,
        "id": "44505775",
        "outputId": "48d40642-33bc-4b60-b4c1-51b9698de6cd"
      },
      "outputs": [],
      "source": [
        "# 2) As cinco últimas linhas\n"
      ]
    },
    {
      "cell_type": "code",
      "execution_count": null,
      "id": "d92476d7",
      "metadata": {
        "id": "d92476d7",
        "outputId": "2edf184d-2a1b-4ff5-9474-b0b0e7fe3e89"
      },
      "outputs": [],
      "source": [
        "# 3) Quantas linhas e colunas possuem no dataframe\n"
      ]
    },
    {
      "cell_type": "code",
      "execution_count": null,
      "id": "16d5891d",
      "metadata": {
        "colab": {
          "base_uri": "https://localhost:8080/",
          "height": 217
        },
        "collapsed": true,
        "id": "16d5891d",
        "outputId": "efd60c74-d872-4102-b7a8-2b0ab3e2b6f7"
      },
      "outputs": [],
      "source": [
        "# 4) Quais colunas existem no DataFrame qual o tipo de dados que cada coluna possui\n"
      ]
    },
    {
      "cell_type": "code",
      "execution_count": null,
      "id": "3edd4331",
      "metadata": {
        "collapsed": true,
        "id": "3edd4331",
        "outputId": "f49e8749-3bc4-4bd4-e619-a4b7fcd9de9c"
      },
      "outputs": [],
      "source": [
        "# 5) Alguns dados estatísticos das variáveis quantitativas\n",
        "        # - Média do valor total de cada compra\n",
        "        # - Qual quantidade vendida mais é recorrente\n",
        "        # - Receita total das vendas\n",
        "        # - Menor e maior valor total de todas as vendas\n"
      ]
    },
    {
      "cell_type": "markdown",
      "id": "cea6f4f2",
      "metadata": {
        "id": "cea6f4f2"
      },
      "source": [
        "#### c) Apague do DataFrame algumas colunas que não serão úteis para nossos exercícios e exibia o DataFrame para confirmar que elas foram excluídas\n",
        "         - \"Invoice ID\"\n",
        "         - \"City\"\n",
        "         - \"Time\""
      ]
    },
    {
      "cell_type": "code",
      "execution_count": null,
      "id": "ecceff6e",
      "metadata": {
        "collapsed": true,
        "id": "ecceff6e",
        "outputId": "9a94d5d9-f0d0-42c1-e6f1-df1f0509b8e5"
      },
      "outputs": [],
      "source": []
    },
    {
      "cell_type": "markdown",
      "id": "94139bd6",
      "metadata": {
        "id": "94139bd6"
      },
      "source": [
        "# "
      ]
    },
    {
      "cell_type": "markdown",
      "id": "601de4ea",
      "metadata": {
        "id": "601de4ea"
      },
      "source": [
        "### 2) Após entender do que o seu Data Set se trata, chegou a hora de realizar a limpeza de dados. Dessa forma, existem dois casos de \"sujeira\" dentro de um conjunto de dados:\n",
        "            1) NaN \n",
        "            2) Casos duplicados"
      ]
    },
    {
      "cell_type": "markdown",
      "id": "542edf4b",
      "metadata": {
        "id": "542edf4b"
      },
      "source": [
        "#### a) Identifique quantos casos de NaN encontramos em cada uma das colunas e encontre um jeito de substituir esses valores. (Dica: Imposto = Preço total * 0.05)"
      ]
    },
    {
      "cell_type": "code",
      "execution_count": null,
      "id": "dbf3742f",
      "metadata": {
        "collapsed": true,
        "id": "dbf3742f"
      },
      "outputs": [],
      "source": []
    },
    {
      "cell_type": "markdown",
      "id": "0d7b3ee8",
      "metadata": {
        "id": "0d7b3ee8"
      },
      "source": [
        "#### b) Identifique quantas linhas duplicadas existem na base de dados, exiba elas e, por fim, exclua-as do DataFrame"
      ]
    },
    {
      "cell_type": "code",
      "execution_count": null,
      "id": "4a9c9013",
      "metadata": {
        "collapsed": true,
        "id": "4a9c9013",
        "outputId": "decdd8ce-99d0-431a-fea5-1a5c58ca406f"
      },
      "outputs": [],
      "source": []
    }
  ],
  "metadata": {
    "colab": {
      "provenance": []
    },
    "kernelspec": {
      "display_name": "Python 3",
      "language": "python",
      "name": "python3"
    },
    "language_info": {
      "codemirror_mode": {
        "name": "ipython",
        "version": 3
      },
      "file_extension": ".py",
      "mimetype": "text/x-python",
      "name": "python",
      "nbconvert_exporter": "python",
      "pygments_lexer": "ipython3",
      "version": "3.8.8"
    }
  },
  "nbformat": 4,
  "nbformat_minor": 5
}
