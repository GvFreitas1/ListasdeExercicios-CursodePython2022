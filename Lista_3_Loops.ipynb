{
  "cells": [
    {
      "cell_type": "markdown",
      "id": "2eebb078",
      "metadata": {
        "id": "2eebb078"
      },
      "source": [
        "**Questão 1 - 9, a salvação:**\n",
        "\n",
        "Escreva um código que retorne a soma de todos os números até 1000 que sejam divisíveis por 9 e a quantidade de números que foram somados.\n",
        "  \n",
        "  Dica: analise bem a questão e escolha o laço mais condizente.\n"
      ]
    },
    {
      "cell_type": "code",
      "execution_count": null,
      "id": "0203b2bb",
      "metadata": {
        "id": "0203b2bb",
        "outputId": "577a5b5d-bb2d-46e5-92a6-b404e5cfc87c"
      },
      "outputs": [],
      "source": []
    },
    {
      "cell_type": "markdown",
      "id": "cb7accf3",
      "metadata": {
        "id": "cb7accf3"
      },
      "source": [
        "**Questão 2 - Ajuda nas etec's:**\n",
        "\n",
        "No começo do ano a FEA.Dev deu aulas de python gratuitas em algumas etec's de São Paulo. Ao ver o que a programação poderia fazer, o professor Roberval, de matemática, pediu para que construíssemos um programa que fizesse uma Progressão Aritimética (PA) automaticamente, apenas inserindo o **primeiro termo** e sua **razão**, para que ele pudesse ser mais ágil em suas aulas. \n",
        "\n",
        "*Lembre-se que uma PA é uma sequência de números em que cada termo é igual ao termo anterior somado a um número (razão). Ex -> 1, 4, 7, 10... os números vão seguindo de 3 em 3 (razão).*"
      ]
    },
    {
      "cell_type": "markdown",
      "id": "-YsYTrgTH5uR",
      "metadata": {
        "id": "-YsYTrgTH5uR"
      },
      "source": [
        "a) Sua missão é montar um programa que peça dois inputs: o do primeiro termo e da razão e retorne a sequência. Sua P.A deve ter 10 termos."
      ]
    },
    {
      "cell_type": "code",
      "execution_count": null,
      "id": "0VVb581xJu4t",
      "metadata": {
        "id": "0VVb581xJu4t"
      },
      "outputs": [],
      "source": []
    },
    {
      "cell_type": "code",
      "execution_count": null,
      "id": "ee774619",
      "metadata": {
        "id": "ee774619",
        "outputId": "527cee08-4611-407e-ea38-ea1d80fcc2fe"
      },
      "outputs": [],
      "source": []
    },
    {
      "cell_type": "markdown",
      "id": "cc9fb3cb",
      "metadata": {
        "id": "cc9fb3cb"
      },
      "source": [
        "b) Roberval ficou animado com o novo programa criado por você e mostrou pra um amigo dele que dá aula para o fundamental 1. Ao ver a mágica acontecendo o amigo do professor Roberval quase implorou para que você construísse uma tabuada automática para ele.\n",
        "\n",
        "Escreva um código que receba o input de um número e retorne sua tabuada padrão, multiplicando até 10 e ajude o amigo de Roberval a automatizar suas aulas.\n",
        "  \n",
        " OBS: deixe sua tabuada toda alinhada conforme exemplo:\n",
        " \n",
        "    n = 7\n",
        "    \n",
        "    7 x 1 = 7\n",
        "    7 x 2 = 14\n",
        "    .\n",
        "    .\n",
        "    .\n",
        "    7 X  9 = 63\n",
        "    7 X 10 = 70"
      ]
    },
    {
      "cell_type": "code",
      "execution_count": null,
      "id": "f83df876",
      "metadata": {
        "id": "f83df876",
        "outputId": "9ec6c5ff-22a4-4d1b-a30d-8300a691ee6b"
      },
      "outputs": [],
      "source": []
    },
    {
      "cell_type": "markdown",
      "id": "b24436d4",
      "metadata": {
        "id": "b24436d4"
      },
      "source": [
        "**Questão 3 - Soma infinita:**\n",
        "\n",
        "Crie um programa que peça para digitar um número constantemente, até que o usário digite o número 0. Em seguida mostre a soma de todos os valores inputados, e a quantidade de números que foram inputados.\n",
        "  "
      ]
    },
    {
      "cell_type": "code",
      "execution_count": null,
      "id": "IVNnot6HYLbv",
      "metadata": {
        "colab": {
          "base_uri": "https://localhost:8080/"
        },
        "id": "IVNnot6HYLbv",
        "outputId": "f5e1f882-fe2e-4bac-e656-832a6714a144"
      },
      "outputs": [],
      "source": []
    },
    {
      "cell_type": "code",
      "execution_count": null,
      "id": "5593459b",
      "metadata": {
        "id": "5593459b",
        "outputId": "a348fff2-b87d-439e-8021-cd55b40cb87e"
      },
      "outputs": [],
      "source": []
    },
    {
      "cell_type": "markdown",
      "id": "vAQnrfCQxNrV",
      "metadata": {
        "id": "vAQnrfCQxNrV"
      },
      "source": [
        "**Questão 4 - Bad Romance:** \n",
        "\n",
        "De volta a 2009. Tem umas músicas com um refrão tão gostosinho que fica martelando na nossa mente, então vamos aproveitar para analisar e exercitar nossas skills de programação. Escreva um código que conte quantas vezes a letra \"a\" aparece em duas estrofes do famoso hit de Lady Gaga:"
      ]
    },
    {
      "cell_type": "code",
      "execution_count": null,
      "id": "82DqDw7h0YIl",
      "metadata": {
        "colab": {
          "base_uri": "https://localhost:8080/"
        },
        "id": "82DqDw7h0YIl",
        "outputId": "56d5b48c-505d-4224-f396-88729d8facc3"
      },
      "outputs": [],
      "source": [
        "bad_romance = \"\"\"Rah, rah-ah-ah-ah\n",
        "                 Roma, roma-ma\n",
        "                 Gaga, ooh-la-la\n",
        "                 Want your bad romance\n",
        "\n",
        "                 Rah, rah-ah-ah-ah\n",
        "                 Roma, roma-ma\n",
        "                 Gaga, ooh-la-la\n",
        "                 Want your bad romance\"\"\"\n",
        "                 \n",
        "#####SEU CODIGO COMECA AQUI#####\n"
      ]
    },
    {
      "cell_type": "markdown",
      "id": "GRS7sh_6uA2k",
      "metadata": {
        "id": "GRS7sh_6uA2k"
      },
      "source": [
        "**Questão 5 - Estilo musical:**\n",
        "\n",
        "Ainda pensando na lady Gaga, nosso querido dever separou alguns artistas que ele gosta por estilo musical. Faça um programa que, apenas indicando o estilo musical, retorne todos os artistas desse estilo escolhido que estão dentro do dicionário.\n",
        "\n",
        "PS: estilos musicais presentes no dicionário: Forró, Pagode, Clássica, MPB, Sertanejo, Jazz, Rock e Pop."
      ]
    },
    {
      "cell_type": "code",
      "execution_count": null,
      "id": "dXBJMs_YwuJR",
      "metadata": {
        "colab": {
          "base_uri": "https://localhost:8080/"
        },
        "id": "dXBJMs_YwuJR",
        "outputId": "a7fd5791-7137-4e27-cb11-3e24e8b4a5f8"
      },
      "outputs": [],
      "source": []
    },
    {
      "cell_type": "code",
      "execution_count": null,
      "id": "SFXmyjva-U49",
      "metadata": {
        "id": "SFXmyjva-U49"
      },
      "outputs": [],
      "source": []
    },
    {
      "cell_type": "markdown",
      "id": "DuAmQvBL9XZC",
      "metadata": {
        "id": "DuAmQvBL9XZC"
      },
      "source": [
        "**Questão 6 - Stairway to Heaven:** \n",
        "\n",
        "O grande poder dos Loops é que você poder printar elementos em uma velocidade muuito maior. Utilize esse novo poder para printar os digitos de 1 a 9 da seguinte maneira:"
      ]
    },
    {
      "cell_type": "code",
      "execution_count": null,
      "id": "lMfBpuxxdRwY",
      "metadata": {
        "id": "lMfBpuxxdRwY"
      },
      "outputs": [],
      "source": [
        "\"\"\"\n",
        "1\n",
        "22\n",
        "333\n",
        "4444\n",
        "55555\n",
        "666666\n",
        "7777777\n",
        "88888888\n",
        "999999999\n",
        "\"\"\""
      ]
    },
    {
      "cell_type": "code",
      "execution_count": null,
      "id": "6m9G6F3J94-y",
      "metadata": {
        "colab": {
          "base_uri": "https://localhost:8080/"
        },
        "id": "6m9G6F3J94-y",
        "outputId": "34e2b75a-ff06-444c-d6d4-04da70113f9b"
      },
      "outputs": [],
      "source": []
    },
    {
      "cell_type": "markdown",
      "id": "Qqil80RH3MLd",
      "metadata": {
        "id": "Qqil80RH3MLd"
      },
      "source": [
        "**Questão 7 - A hora dos primos:** \n",
        "Escreva um código que receba o input de um número e verifique se ele é primo ou não."
      ]
    },
    {
      "cell_type": "code",
      "execution_count": null,
      "id": "kbEAMB1z3Lmu",
      "metadata": {
        "colab": {
          "base_uri": "https://localhost:8080/"
        },
        "id": "kbEAMB1z3Lmu",
        "outputId": "3b73959e-cc61-477f-b9cc-b114aa3f3c61"
      },
      "outputs": [],
      "source": []
    },
    {
      "cell_type": "markdown",
      "id": "qlnUxp24zLL7",
      "metadata": {
        "id": "qlnUxp24zLL7"
      },
      "source": [
        "# Questão 8 - A peculiaridade das Startups:\n",
        "\n",
        "Precificar uma Startup sempre foi difícil. A maioria delas não dão lucro nos primeiros anos, mas o potencial de mercado é gigantesco. Como de fato se faz o valuation de uma empresa dessas? um dos métodos para se fazer esse valuation, é multiplicar o faturamento atual dessa Startup por 10! Projetando em 10 anos o que se considera agora.\n",
        "\n",
        "Sua missão é identificar dentro da lista de valores, uma Startup iniciante e fazer seu valuation projetado em 10 anos.\n",
        "\n",
        "PS: Considere o valor de faturamento de uma Startup iniciante menor ou igual a 300 mil."
      ]
    },
    {
      "cell_type": "code",
      "execution_count": null,
      "id": "CrAyVU1L2haZ",
      "metadata": {
        "colab": {
          "base_uri": "https://localhost:8080/"
        },
        "id": "CrAyVU1L2haZ",
        "outputId": "d2665110-6e6f-484e-dcf6-1d1b9f2e5bf5"
      },
      "outputs": [],
      "source": [
        "## valores da lista em milhar\n",
        "\n",
        "faturamentos = {'startup 1': 1000, 'startup 2':500, 'startup 3':60, 'startup 4':250, \n",
        "                'startup 5':600, 'startup 6':700, 'startup 7':54, 'startup 8':230, \n",
        "                'startup 9':300, 'startup 10':95, 'startup 11':850}\n",
        "\n"
      ]
    },
    {
      "cell_type": "markdown",
      "id": "_CC8Mw_NAzYq",
      "metadata": {
        "id": "_CC8Mw_NAzYq"
      },
      "source": [
        "**Exercício extra** \n",
        "\n",
        "*Mais um dia como estagiário no FEA.dev S.A. Você chega para fazer seu trabalho rotineiro de enviar e-mails para os clientes pedindo (alguma coisa). No entanto, essa semana foram prospectados mais alguns clientes e as informações básicas deles chegaram de maneira desestruturada:* "
      ]
    },
    {
      "cell_type": "code",
      "execution_count": null,
      "id": "97_-EEHhATd-",
      "metadata": {
        "id": "97_-EEHhATd-"
      },
      "outputs": [],
      "source": [
        "nomes_clientes = ['Gustavo', 'Kevyn', 'Max', 'Thais']  \n",
        "sobrenomes_clientes = ['Yamachi', 'Marcelino', 'Juan', 'Teixeira']\n",
        "email = ['gustavo.yamachi@email.com', 'kevyn.marcelino@email.com']"
      ]
    },
    {
      "cell_type": "markdown",
      "id": "_GvpmF7QDP9s",
      "metadata": {
        "id": "_GvpmF7QDP9s"
      },
      "source": [
        "Perceba como nem todos os e-mails dos clientes estão na lista e que os nomes e sobrenomes vieram separados. Você nota, porém que o padrão de e-mail é sempre o mesmo: \"Nome\".\"Sobrenome\"\"@email.com\". Dessa forma, escreva um código que identifique o endereço dos outros clientes e atribua à lista \"emails\""
      ]
    },
    {
      "cell_type": "code",
      "execution_count": null,
      "id": "RGBwfDAECCde",
      "metadata": {
        "id": "RGBwfDAECCde"
      },
      "outputs": [],
      "source": [
        "#####SEU CODIGO COMECA AQUI#####\n",
        "emails = []\n"
      ]
    },
    {
      "cell_type": "code",
      "execution_count": null,
      "id": "FJEW0k7gErd6",
      "metadata": {
        "colab": {
          "base_uri": "https://localhost:8080/"
        },
        "id": "FJEW0k7gErd6",
        "outputId": "c1e99c9d-4bde-4cf4-91e6-ef0019722bc0"
      },
      "outputs": [],
      "source": [
        "emails"
      ]
    },
    {
      "cell_type": "markdown",
      "id": "ssB-1jhevy2a",
      "metadata": {
        "id": "ssB-1jhevy2a"
      },
      "source": [
        "b) Crie um loop que passe pela lista de e-mails envie uma mensagem personalizada para cada um desses clientes. Seu código deverá gerar 4 mensagens no seguinte formato:\n",
        "\n",
        "\"To: (email do cliente), Bom dia (nome do cliente), agradecemos muito por ter escolhido a FEA.dev\"\n",
        "\n",
        "Dica: para facilitar a relação de clientes e seus respectivos endereços de e-mail, utilize a estrutura de dicionários"
      ]
    },
    {
      "cell_type": "code",
      "execution_count": null,
      "id": "8u1nrYm0E0HA",
      "metadata": {
        "colab": {
          "base_uri": "https://localhost:8080/"
        },
        "id": "8u1nrYm0E0HA",
        "outputId": "7010da0b-c561-4069-af88-ed3e8beffe8a"
      },
      "outputs": [],
      "source": []
    }
  ],
  "metadata": {
    "colab": {
      "provenance": []
    },
    "kernelspec": {
      "display_name": "Python 3 (ipykernel)",
      "language": "python",
      "name": "python3"
    },
    "language_info": {
      "codemirror_mode": {
        "name": "ipython",
        "version": 3
      },
      "file_extension": ".py",
      "mimetype": "text/x-python",
      "name": "python",
      "nbconvert_exporter": "python",
      "pygments_lexer": "ipython3",
      "version": "3.9.7"
    }
  },
  "nbformat": 4,
  "nbformat_minor": 5
}
