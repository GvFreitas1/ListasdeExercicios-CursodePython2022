{
  "cells": [
    {
      "cell_type": "markdown",
      "id": "01ddbbc7",
      "metadata": {
        "id": "01ddbbc7"
      },
      "source": [
        "Para todas as questões abaixo comente o que você está fazendo no código"
      ]
    },
    {
      "cell_type": "markdown",
      "id": "d828cc4f",
      "metadata": {
        "id": "d828cc4f"
      },
      "source": [
        "Questão 1: Crie um conversor de real em dólares. Imprima o resultado usando a função format."
      ]
    },
    {
      "cell_type": "code",
      "execution_count": null,
      "id": "b415317b",
      "metadata": {
        "colab": {
          "base_uri": "https://localhost:8080/"
        },
        "id": "b415317b",
        "outputId": "f9f66056-d4a9-4cfc-80dd-95db8921caed"
      },
      "outputs": [],
      "source": []
    },
    {
      "cell_type": "markdown",
      "id": "c2e76171",
      "metadata": {
        "id": "c2e76171"
      },
      "source": [
        "Questão 2:Crie um sistema que imprima o valor que você vai pagar e o desconto que você teria em determinado item do supermercado. Imprima concatenando."
      ]
    },
    {
      "cell_type": "code",
      "execution_count": null,
      "id": "ddb842a5",
      "metadata": {
        "id": "ddb842a5",
        "outputId": "ab716b89-eb1d-4428-f386-9284ee2272df"
      },
      "outputs": [],
      "source": []
    },
    {
      "cell_type": "markdown",
      "id": "d09d1e38",
      "metadata": {
        "id": "d09d1e38"
      },
      "source": [
        "Questão 3: Você chegou na última questão da Fuvest, e se você acertar essa você entra na USP.\n",
        "A questão diz o seguinte:\n",
        "Faça as operações abaixo usando os operadores e imprima o resultado delas:\n",
        "    2 multiplicado por 3\n",
        "    2 adicionado a 65\n",
        "    5 dividido por 10\n",
        "    O resto da divisão de 4 por 3\n",
        "    Subtrair 4 de 10\n",
        "    2 elevado a 4\n",
        "    A parte inteira do resultado de 10 dividido por 3\n",
        "    A raíz quadrada de 4\n"
      ]
    },
    {
      "cell_type": "code",
      "execution_count": null,
      "id": "1ea606e8",
      "metadata": {
        "id": "1ea606e8",
        "outputId": "f13f5641-2d95-4674-a31b-54d814aaddd6"
      },
      "outputs": [],
      "source": []
    },
    {
      "cell_type": "markdown",
      "id": "2a1c24f2",
      "metadata": {
        "id": "2a1c24f2"
      },
      "source": [
        "Questão 4: Você está correndo risco de ser jubilado, então, precisa escrever uma carta para o reitor com seus dados pessoais:nome,idade,curso e ano de ingresso, para suplicar pela sua estadia na USP. Use seus dados como variáveis e os imprima:"
      ]
    },
    {
      "cell_type": "code",
      "execution_count": null,
      "id": "fdbc24fe",
      "metadata": {
        "id": "fdbc24fe",
        "outputId": "5fb2c7ea-6feb-427c-fc48-1a523fd61a4e"
      },
      "outputs": [],
      "source": []
    },
    {
      "cell_type": "markdown",
      "id": "8cdae94d",
      "metadata": {
        "id": "8cdae94d"
      },
      "source": [
        "Questão 5:Calcule a função abaixo:\n",
        "1. 4a^2+5b a=5 b=3\n",
        "2. 4a-(3b)/2 a=92 b=76"
      ]
    },
    {
      "cell_type": "code",
      "execution_count": null,
      "id": "89c6d2ff",
      "metadata": {
        "id": "89c6d2ff",
        "outputId": "454c6266-9bec-4660-8df3-4c9ad273f2fb"
      },
      "outputs": [],
      "source": [
        "#questão 1\n",
        "\n",
        "#questão 2\n",
        "\n"
      ]
    },
    {
      "cell_type": "markdown",
      "id": "bfd4096f",
      "metadata": {
        "id": "bfd4096f"
      },
      "source": [
        "Questão 5: Hoje é seu dia de sorte, seu chefe falou que você e todos os outros estagiários vão ter um aumento de 7,3% nos salários. Faça um programa que mostre automaticamente o valor do salário com o aumento quando o estagiário inserir o quanto ganha atualmente."
      ]
    },
    {
      "cell_type": "code",
      "execution_count": null,
      "id": "b10e3513",
      "metadata": {
        "id": "b10e3513",
        "outputId": "8e0f6d7f-c2a3-4c1b-fe3b-fbc68baf5a7c"
      },
      "outputs": [],
      "source": []
    },
    {
      "cell_type": "markdown",
      "id": "444bf6ca",
      "metadata": {
        "id": "444bf6ca"
      },
      "source": [
        "Questão 6: Agora, você vai fazer uma calculadora, na qual o usuário insere 2 números, e você precisa imprimir, usando a função format, a soma, subtração, divisão e seu resto.(números inteiros)"
      ]
    },
    {
      "cell_type": "code",
      "execution_count": null,
      "id": "504ad475",
      "metadata": {
        "id": "504ad475",
        "outputId": "adadc16c-a777-47ff-cf79-845abef8afa8"
      },
      "outputs": [],
      "source": []
    },
    {
      "cell_type": "markdown",
      "id": "2c6ecac5",
      "metadata": {
        "id": "2c6ecac5"
      },
      "source": [
        "Questão 7:Você está preparando um evento para o seu instituto e precisa fazer uma ficha de cadastro. Nele a pessoa vai ter que inserir nome, altura, comida predileta,e idade(só números)."
      ]
    },
    {
      "cell_type": "code",
      "execution_count": null,
      "id": "4fade6c5",
      "metadata": {
        "id": "4fade6c5",
        "outputId": "a575c2a6-69ea-482c-cd94-6b717b78088c"
      },
      "outputs": [],
      "source": []
    },
    {
      "cell_type": "markdown",
      "id": "3c38647c",
      "metadata": {
        "id": "3c38647c"
      },
      "source": [
        "Questão 8:Faça um programa que leia um número inteiro e mostre seu sucessor e seu antecessor."
      ]
    },
    {
      "cell_type": "code",
      "execution_count": null,
      "id": "c35fd4bb",
      "metadata": {
        "id": "c35fd4bb",
        "outputId": "685b831f-5bbd-4ae7-dc76-8c1745de1d83"
      },
      "outputs": [],
      "source": []
    },
    {
      "cell_type": "markdown",
      "id": "2f2cf42c",
      "metadata": {
        "id": "2f2cf42c"
      },
      "source": [
        "Questão 9: Escreva um programa que calcule a quantidade de latas de tintas\n",
        "necessárias e o custo para pintar tanques cilíndricos de combustível,\n",
        "em que são fornecidos a altura e o raio desse cilindro. Sabe-se que a\n",
        "lata de tinta custa R$50,00; cada lata contém 5 litros e cada litro de\n",
        "tinta pinta 3 m2\n",
        "Area do Cilindro = 2.pi.r.(h+r)(área lateral e as 2 bases)(considere pi=3)\n"
      ]
    },
    {
      "cell_type": "code",
      "execution_count": null,
      "id": "0fba5eed",
      "metadata": {
        "id": "0fba5eed",
        "outputId": "8d213880-2214-48da-a32e-3c665a41c94c"
      },
      "outputs": [],
      "source": []
    },
    {
      "cell_type": "markdown",
      "id": "6ce3458e",
      "metadata": {
        "id": "6ce3458e"
      },
      "source": [
        "Questão 10: Escreva um programa que peça para o usuário inserir a quantidade de dias que ele irá viajar com o carro e a quantidade de km que ele irá percorrer. Calcule o quanto ele irá pagar, sabendo que o preço por dia de aluguel é 85 reais e 0,35 centavos por km rodado."
      ]
    },
    {
      "cell_type": "code",
      "execution_count": null,
      "id": "c3adc408",
      "metadata": {
        "id": "c3adc408",
        "outputId": "0b269f27-ee06-418f-d5f5-774d1efe735e"
      },
      "outputs": [],
      "source": []
    },
    {
      "cell_type": "markdown",
      "id": "0376787d",
      "metadata": {
        "id": "0376787d"
      },
      "source": [
        "Questão 11: Escreva um programa que leia um número que exiba sua parte inteira."
      ]
    },
    {
      "cell_type": "code",
      "execution_count": null,
      "id": "d1d48d68",
      "metadata": {
        "id": "d1d48d68",
        "outputId": "da752a93-a285-47c6-a377-ecddc2efd97e"
      },
      "outputs": [],
      "source": []
    },
    {
      "cell_type": "markdown",
      "id": "9aeddde4",
      "metadata": {
        "id": "9aeddde4"
      },
      "source": [
        "Questão 12: Encontre o tipo das seguintes variáveis, usando a função type(). Imprima o resultado com print(f.\n",
        "Amanda\n",
        "12\n",
        "12.4\n"
      ]
    },
    {
      "cell_type": "code",
      "execution_count": null,
      "id": "e2f0adfb",
      "metadata": {
        "id": "e2f0adfb",
        "outputId": "b89e01e9-814f-4304-d89f-7fb9477e6990"
      },
      "outputs": [],
      "source": []
    },
    {
      "cell_type": "markdown",
      "id": "327493cd",
      "metadata": {
        "id": "327493cd"
      },
      "source": [
        "Questão 13:Você vai fazer intercâmbio nos Eua, e quer saber se você tem que levar muitas roupas de frio.\n",
        "\n",
        "a)então precisa fazer um conversor de temperatura de fahrenheit para celsius\n"
      ]
    },
    {
      "cell_type": "code",
      "execution_count": null,
      "id": "80645449",
      "metadata": {
        "id": "80645449",
        "outputId": "87418661-57e7-4b19-d636-38cb81ae0c91"
      },
      "outputs": [],
      "source": []
    },
    {
      "cell_type": "markdown",
      "id": "fa24c31f",
      "metadata": {
        "id": "fa24c31f"
      },
      "source": [
        "b)Agora, suponha que a temperatura convertida é um número com vírgula, arredonde ele com a função round."
      ]
    },
    {
      "cell_type": "code",
      "execution_count": null,
      "id": "b170cf6c",
      "metadata": {
        "id": "b170cf6c",
        "outputId": "c4a3a042-9143-4eaf-b991-73c2528a3e79"
      },
      "outputs": [],
      "source": []
    },
    {
      "cell_type": "markdown",
      "id": "60427fa0",
      "metadata": {
        "id": "60427fa0"
      },
      "source": [
        "Questão 14: Faça um programa que mostre se a cidade inserida começa com \"SANTO\" ou não.\n",
        "    "
      ]
    },
    {
      "cell_type": "code",
      "execution_count": null,
      "id": "1e269cd1",
      "metadata": {
        "id": "1e269cd1",
        "outputId": "a8bf0440-a71a-42e0-b8b7-a064dbc2564d"
      },
      "outputs": [],
      "source": []
    },
    {
      "cell_type": "markdown",
      "id": "4fa1e207",
      "metadata": {
        "id": "4fa1e207"
      },
      "source": [
        "Questão 15:Escreva um programa que leia o nome completo de uma pessoa e mostre:\n",
        "        -O nome com todas as letras maiúsculas e minúsculas\n",
        "        -Quantas letras ao todo sem contar os espaços\n",
        "        -Quantas letras tem o primeiro nome"
      ]
    },
    {
      "cell_type": "code",
      "execution_count": null,
      "id": "e1bb43cb",
      "metadata": {
        "id": "e1bb43cb",
        "outputId": "3739c264-559d-4ccf-9467-b94f45bf18df"
      },
      "outputs": [],
      "source": []
    },
    {
      "cell_type": "markdown",
      "id": "2094f174",
      "metadata": {
        "id": "2094f174"
      },
      "source": [
        "Questão 16: Você quer achar seus parentes da família \"Soares\". Então, faça um programa que detecte se o nome inserido é da sua família."
      ]
    },
    {
      "cell_type": "code",
      "execution_count": null,
      "id": "4618ae4a",
      "metadata": {
        "id": "4618ae4a",
        "outputId": "e46f6854-f97e-4603-e891-f711afdef516"
      },
      "outputs": [],
      "source": []
    },
    {
      "cell_type": "markdown",
      "id": "80d66cd3",
      "metadata": {
        "id": "80d66cd3"
      },
      "source": [
        "Questão 17:Você está indo para o interusp, e está fazendo a lista dos 5 objetos mais importantes:bota,protetor-solar,camisinha,shorts e desodorante.\n",
        "a)Você se lembrou que as tattoos são mais importantes que o proteto-solar. Retire o protetor da lista e adicione as tattoos."
      ]
    },
    {
      "cell_type": "code",
      "execution_count": null,
      "id": "9781c566",
      "metadata": {
        "id": "9781c566",
        "outputId": "94f9f7b3-c7e1-468c-9f2a-74386bd5a80c"
      },
      "outputs": [],
      "source": []
    },
    {
      "cell_type": "markdown",
      "id": "d38c2ac4",
      "metadata": {
        "id": "d38c2ac4"
      },
      "source": [
        "b)Além disso, você gosta de listas organizadas por ordem alfabética, coloque-as como tal, e imprima o índice do item 'desodorante'."
      ]
    },
    {
      "cell_type": "code",
      "execution_count": null,
      "id": "b8f866f2",
      "metadata": {
        "id": "b8f866f2",
        "outputId": "465d12d4-6c8c-4d2b-d8e8-a62010f495bd"
      },
      "outputs": [],
      "source": [
        "\n"
      ]
    },
    {
      "cell_type": "markdown",
      "id": "97eaf882",
      "metadata": {
        "id": "97eaf882"
      },
      "source": [
        "Questão 18:Chegou o final do semestre e você tem suas notas 7,9.5,8.0,2.0,1.0,3.0. Imprima sua nota máxima, mínima e a soma delas."
      ]
    },
    {
      "cell_type": "code",
      "execution_count": null,
      "id": "4adec086",
      "metadata": {
        "id": "4adec086",
        "outputId": "3b34329f-cd30-4e93-bb32-77fa500480a7"
      },
      "outputs": [],
      "source": []
    },
    {
      "cell_type": "markdown",
      "id": "5205ead5",
      "metadata": {
        "id": "5205ead5"
      },
      "source": [
        "Questão 19: Chegando a Copa do mundo, é importante saber as 10 melhores seleções do mundo rankeadas pela FIFA:\n",
        "'Brasil','Belgica','Argentina','França','Iglaterra','Italia','Holanda','Espanha','Portugal','Alemanha'.Sabendo disso, extraia:\n",
        "        a)Os 2 primeiros colocados \n",
        "        b)os últimos 4 colocados\n",
        "        c)Em que posição está o nosso rival 'Argentina'"
      ]
    },
    {
      "cell_type": "code",
      "execution_count": null,
      "id": "7aeed7e6",
      "metadata": {
        "id": "7aeed7e6",
        "outputId": "759ab4be-083a-4bc8-ed3b-2b904520d2b4"
      },
      "outputs": [],
      "source": []
    },
    {
      "cell_type": "markdown",
      "id": "7990e715",
      "metadata": {
        "id": "7990e715"
      },
      "source": [
        "Questão 20:Faça um dicionário com os seguintes dados cadastrais dos alunos da Usp\n",
        "    Nome - Juliano\n",
        "    idade - 20 anos\n",
        "    Instituto - ECA\n",
        "    "
      ]
    },
    {
      "cell_type": "code",
      "execution_count": null,
      "id": "66c3bc17",
      "metadata": {
        "id": "66c3bc17",
        "outputId": "001623af-cb2d-4412-d9ec-af33638e7a00"
      },
      "outputs": [],
      "source": []
    },
    {
      "cell_type": "markdown",
      "id": "9f98d738",
      "metadata": {
        "id": "9f98d738"
      },
      "source": [
        "b) Agora você vai precisar fazer algumas alterações\n",
        "    1. Mude o nome de Juliano para Pedro\n",
        "    2.Adicione mais um campo 'Ano de ingresso - 2019'\n",
        "    3.Imprima só o ano de ingresso do aluno(só o valor)\n",
        "    4.Imprima todo o dicionário"
      ]
    },
    {
      "cell_type": "code",
      "execution_count": null,
      "id": "b33a6987",
      "metadata": {
        "id": "b33a6987",
        "outputId": "3d9f73ec-147a-4eb3-d8a9-3edf62f5407b"
      },
      "outputs": [],
      "source": []
    }
  ],
  "metadata": {
    "colab": {
      "provenance": []
    },
    "kernelspec": {
      "display_name": "Python 3 (ipykernel)",
      "language": "python",
      "name": "python3"
    },
    "language_info": {
      "codemirror_mode": {
        "name": "ipython",
        "version": 3
      },
      "file_extension": ".py",
      "mimetype": "text/x-python",
      "name": "python",
      "nbconvert_exporter": "python",
      "pygments_lexer": "ipython3",
      "version": "3.9.12"
    }
  },
  "nbformat": 4,
  "nbformat_minor": 5
}
