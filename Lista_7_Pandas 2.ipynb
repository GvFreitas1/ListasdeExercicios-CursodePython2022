{
  "cells": [
    {
      "cell_type": "code",
      "execution_count": null,
      "metadata": {
        "id": "lDilBXvGpCiI"
      },
      "outputs": [],
      "source": [
        "#Create a virtual env: py -3 -m venv .venv\n",
        "#Activate virtual env: .venv\\scripts\\activate\n",
        "#Install libraries on virtual env: python -m pip install matplotlib"
      ]
    },
    {
      "cell_type": "code",
      "execution_count": null,
      "metadata": {
        "id": "xJC-vwqbpCiJ"
      },
      "outputs": [],
      "source": [
        "import pandas as pd\n",
        "import numpy as np\n",
        "import os"
      ]
    },
    {
      "cell_type": "markdown",
      "metadata": {
        "id": "CcTm-QXBpCiK"
      },
      "source": [
        "Para responder os exercícios a seguir, utilize os dados fornecidos na planilha \"Bilateral_Country_Shares_govt_nationality_full.csv\""
      ]
    },
    {
      "cell_type": "code",
      "execution_count": null,
      "metadata": {
        "id": "xG9W8o8HpCiN"
      },
      "outputs": [],
      "source": [
        "shares_gov = pd.read_csv(\"D:\\\\Users\\\\Thais\\\\Documents\\\\Python Scripts\\\\FEA Dev\\\\Curso - Projetos\\\\data\\\\Bilateral_Country_Shares_govt_nationality_full.csv\", sep = \",\")"
      ]
    },
    {
      "cell_type": "markdown",
      "metadata": {
        "id": "IictuxO1pCiN"
      },
      "source": [
        "1) Retorne em ordem crescente, os países que contem maior \"portfolio_share\" do Brasil nos anos de 2006, 2009 e 2013. Apresente um dataframe para cada ano mencionado (ou seja, 3 dataframes - 06', 09', 13'), contendo duas colunas: \"Nome do País\" e \"Porfolio Share\""
      ]
    },
    {
      "cell_type": "code",
      "execution_count": null,
      "metadata": {
        "id": "UZve3ldIpCiO"
      },
      "outputs": [],
      "source": [
        "db_issuer = shares_gov[shares_gov[\"issuer_nationality\"]==\"BRA\"].query(\"year in (2006,2009, 2013)\")\n",
        "db_2013 = db_issuer[db_issuer['year']==2013].sort_values('portfolio_share',ascending = False)\n",
        "db_2009 = db_issuer[db_issuer['year']==2009].sort_values('portfolio_share',ascending = False)\n",
        "db_2006 = db_issuer[db_issuer['year']==2006].sort_values('portfolio_share',ascending = False)"
      ]
    },
    {
      "cell_type": "markdown",
      "metadata": {
        "id": "e9gBeLBSpCiP"
      },
      "source": [
        "2) É usual que os países se financiem por emissão de dívida interna, ou seja, que o país contenha um \"porfolio_share\" considerável dos seus próprios títulos relativo aos títulos de outros países. Exemplo, em 2017, ~ 27.8% da dívida nacional australiana era composta de títulos emitidos pelo próprio governo australiano. Indique no ano de 2014, qual dos países analisados possuía maior dívida interna? "
      ]
    },
    {
      "cell_type": "code",
      "execution_count": null,
      "metadata": {
        "id": "LSx0NoSapCiP"
      },
      "outputs": [],
      "source": [
        "db_2014 = shares_gov[shares_gov[\"year\"]==2014]\n",
        "db_self_debt = db_2014[db_2014[\"investor\"]==db_2014[\"issuer_nationality\"]].sort_values(by='portfolio_share', ascending= False)\n"
      ]
    },
    {
      "cell_type": "markdown",
      "metadata": {
        "id": "39oc8SGOpCiQ"
      },
      "source": [
        "Para responder os exercícios a seguir, utilize os dados fornecidos na planilha \"236_data.xlsx\" (na aba \"Master\")"
      ]
    },
    {
      "cell_type": "code",
      "execution_count": null,
      "metadata": {
        "id": "kxn_8_IEpCiQ"
      },
      "outputs": [],
      "source": [
        "currencies = pd.read_excel(\"D:\\\\Users\\\\Thais\\\\Documents\\\\Python Scripts\\\\FEA Dev\\\\Curso - Projetos\\\\data\\\\236_data.xlsx\", sheet_name= \"Master\", skiprows=7)\n"
      ]
    },
    {
      "cell_type": "markdown",
      "metadata": {
        "id": "1_tUNnsJpCiR"
      },
      "source": [
        "3) Qual o ano com maior frequência de \"Freely_falling\" como moeda de referência?"
      ]
    },
    {
      "cell_type": "code",
      "execution_count": null,
      "metadata": {
        "id": "NsiqScTYpCiS"
      },
      "outputs": [],
      "source": [
        "year_col = currencies.iloc[:,0]\n",
        "count_ff = currencies.apply(pd.Series.value_counts, axis=1)[['Freely_falling']].fillna(0)\n",
        "final_count_ff = pd.concat([year_col, count_ff], axis=1).sort_values(by = 'Freely_falling', ascending = False)\n",
        "final_count_ff.iloc[0,0]"
      ]
    },
    {
      "cell_type": "markdown",
      "metadata": {
        "id": "VlnR6sF2pCiS"
      },
      "source": [
        "4) Com a queda da União Soviética, além da separação política, foi possível observar uma movimentação na moeda utilizada como âncora. Retorne um dataframe que contenha o ano em que cada país da lista abaixo deixou de utilizar o RUB (ruble)"
      ]
    },
    {
      "cell_type": "code",
      "execution_count": null,
      "metadata": {
        "id": "kuhlbeAwpCiS"
      },
      "outputs": [],
      "source": [
        "#Para ajudar, aqui está uma lista com os nomes dos países (ex-Russia) que deve ser utilizada p este exercício\n",
        "urss_list = [\"Ukraine\", \"Georgia\", \"Uzbekistan\", \"Armenia\", \"Azerbaijan\", \"Kazakhstan\", \"Kyrgyzstan\", \"Moldova\", \n",
        "\"Turkmenistan\", \"Tajikistan\", \"Latvia\", \"Lithuania\", \"Estonia\"]"
      ]
    },
    {
      "cell_type": "code",
      "execution_count": null,
      "metadata": {
        "id": "fv9MTJsLpCiS"
      },
      "outputs": [],
      "source": [
        "selected_df = currencies[currencies.columns.intersection(urss_list)]\n",
        "selected_df_years = pd.concat([year_col, selected_df], axis=1).set_index(\"Country\")\n",
        "\n",
        "years = []\n",
        "for country in urss_list:\n",
        "    selected_df_years[country] = selected_df_years[country].ne(selected_df_years[country].shift().bfill()).astype(int)\n",
        "    year_y = selected_df_years[country].idxmax()\n",
        "    years.append(year_y)\n",
        "\n",
        "final_df = pd.DataFrame({\"Country\":urss_list, \"Years\" : years})\n",
        "\n"
      ]
    },
    {
      "cell_type": "markdown",
      "metadata": {
        "id": "RmIghqgHpCiS"
      },
      "source": [
        "5) Retorne a década em que houve maior troca de \"Currency Anchors\" no mundo"
      ]
    },
    {
      "cell_type": "code",
      "execution_count": null,
      "metadata": {
        "id": "V1EVVMKMpCiT"
      },
      "outputs": [],
      "source": [
        "currencies_indexed = currencies.set_index('Country')\n",
        "countries_list = list(currencies.columns)[1:199]\n",
        "\n",
        "for country in countries_list:\n",
        "    currencies_indexed[country] = currencies_indexed[country].ne(currencies_indexed[country].shift().bfill()).astype(int)\n",
        "\n",
        "currencies_indexed['change'] = currencies_indexed.sum(axis=1)\n",
        "year_x = currencies_indexed['change'].sort_values(ascending=False).reset_index().iloc[0,0]\n",
        "year_x"
      ]
    }
  ],
  "metadata": {
    "kernelspec": {
      "display_name": "Python 3.7.6 ('base')",
      "language": "python",
      "name": "python3"
    },
    "language_info": {
      "codemirror_mode": {
        "name": "ipython",
        "version": 3
      },
      "file_extension": ".py",
      "mimetype": "text/x-python",
      "name": "python",
      "nbconvert_exporter": "python",
      "pygments_lexer": "ipython3",
      "version": "3.7.6"
    },
    "orig_nbformat": 4,
    "vscode": {
      "interpreter": {
        "hash": "e3eb86e430a5509920f3453e77c50f3391ea3767bdb44dcc3e78c42ca90283f8"
      }
    },
    "colab": {
      "provenance": []
    }
  },
  "nbformat": 4,
  "nbformat_minor": 0
}