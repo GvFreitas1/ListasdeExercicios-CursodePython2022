{
 "cells": [
  {
   "cell_type": "markdown",
   "metadata": {},
   "source": [
    "# **Projeto Final: Análise de Dados - Grupo 4**\n",
    "\n",
    "Utilizaremos o DataSet \"*Preços dos Carros no Brasil*\".\n",
    "\n",
    "Nosso objetivo é verificar se existe alguma conexão das variáveis nas relações:\n",
    "* Tempo x Preço Médio\n",
    "* Tamanho do Motor x Combustível\n",
    "* Marca/Modelo x Preço Médio"
   ]
  },
  {
   "cell_type": "markdown",
   "metadata": {},
   "source": [
    "## Tratamento de Dados"
   ]
  },
  {
   "cell_type": "code",
   "execution_count": 2,
   "metadata": {},
   "outputs": [],
   "source": [
    "# Importando as Bibliotecas\n",
    "\n",
    "import pandas as pd\n",
    "import numpy as np"
   ]
  },
  {
   "cell_type": "code",
   "execution_count": 3,
   "metadata": {},
   "outputs": [
    {
     "name": "stdout",
     "output_type": "stream",
     "text": [
      "   year_of_reference month_of_reference fipe_code authentication  brand  \\\n",
      "0               2021            January  038001-6     tlp4qry07m  Acura   \n",
      "1               2021            January  038001-6     s1wksdv9by  Acura   \n",
      "2               2021            January  038001-6     skrbcfnkch  Acura   \n",
      "3               2021            January  038001-6     rxzh76d5db  Acura   \n",
      "4               2021            January  038001-6     qrm322tpd8  Acura   \n",
      "\n",
      "     model      fuel    gear  engine_size  year_model  avg_price_brl  \n",
      "0  NSX 3.0  Gasoline  manual          3.0        1995        40374.0  \n",
      "1  NSX 3.0  Gasoline  manual          3.0        1994        38939.0  \n",
      "2  NSX 3.0  Gasoline  manual          3.0        1993        37648.0  \n",
      "3  NSX 3.0  Gasoline  manual          3.0        1992        35962.0  \n",
      "4  NSX 3.0  Gasoline  manual          3.0        1991        32863.0  \n",
      "\n",
      "year_of_reference       int64\n",
      "month_of_reference     object\n",
      "fipe_code              object\n",
      "authentication         object\n",
      "brand                  object\n",
      "model                  object\n",
      "fuel                   object\n",
      "gear                   object\n",
      "engine_size           float64\n",
      "year_model              int64\n",
      "avg_price_brl         float64\n",
      "dtype: object\n",
      "\n",
      "(599007, 11)\n"
     ]
    }
   ],
   "source": [
    "# Lendo o DataFrame e Analisando as Variáveis\n",
    "\n",
    "df = pd.read_csv(\"fipe_cars.csv\")\n",
    "\n",
    "print(df.head(), df.dtypes, df.shape, sep=\"\\n\\n\")\n"
   ]
  },
  {
   "cell_type": "code",
   "execution_count": 4,
   "metadata": {},
   "outputs": [
    {
     "name": "stdout",
     "output_type": "stream",
     "text": [
      "year_of_reference     0\n",
      "month_of_reference    0\n",
      "fipe_code             0\n",
      "authentication        0\n",
      "brand                 0\n",
      "model                 0\n",
      "fuel                  0\n",
      "gear                  0\n",
      "engine_size           0\n",
      "year_model            0\n",
      "avg_price_brl         0\n",
      "dtype: int64\n"
     ]
    },
    {
     "data": {
      "text/html": [
       "<div>\n",
       "<style scoped>\n",
       "    .dataframe tbody tr th:only-of-type {\n",
       "        vertical-align: middle;\n",
       "    }\n",
       "\n",
       "    .dataframe tbody tr th {\n",
       "        vertical-align: top;\n",
       "    }\n",
       "\n",
       "    .dataframe thead th {\n",
       "        text-align: right;\n",
       "    }\n",
       "</style>\n",
       "<table border=\"1\" class=\"dataframe\">\n",
       "  <thead>\n",
       "    <tr style=\"text-align: right;\">\n",
       "      <th></th>\n",
       "      <th>year_of_reference</th>\n",
       "      <th>month_of_reference</th>\n",
       "      <th>brand</th>\n",
       "      <th>model</th>\n",
       "      <th>fuel</th>\n",
       "      <th>engine_size</th>\n",
       "      <th>avg_price_brl</th>\n",
       "    </tr>\n",
       "  </thead>\n",
       "  <tbody>\n",
       "    <tr>\n",
       "      <th>0</th>\n",
       "      <td>2021</td>\n",
       "      <td>January</td>\n",
       "      <td>Acura</td>\n",
       "      <td>NSX 3.0</td>\n",
       "      <td>Gasoline</td>\n",
       "      <td>3.0</td>\n",
       "      <td>40374.0</td>\n",
       "    </tr>\n",
       "    <tr>\n",
       "      <th>1</th>\n",
       "      <td>2021</td>\n",
       "      <td>January</td>\n",
       "      <td>Acura</td>\n",
       "      <td>NSX 3.0</td>\n",
       "      <td>Gasoline</td>\n",
       "      <td>3.0</td>\n",
       "      <td>38939.0</td>\n",
       "    </tr>\n",
       "    <tr>\n",
       "      <th>2</th>\n",
       "      <td>2021</td>\n",
       "      <td>January</td>\n",
       "      <td>Acura</td>\n",
       "      <td>NSX 3.0</td>\n",
       "      <td>Gasoline</td>\n",
       "      <td>3.0</td>\n",
       "      <td>37648.0</td>\n",
       "    </tr>\n",
       "    <tr>\n",
       "      <th>3</th>\n",
       "      <td>2021</td>\n",
       "      <td>January</td>\n",
       "      <td>Acura</td>\n",
       "      <td>NSX 3.0</td>\n",
       "      <td>Gasoline</td>\n",
       "      <td>3.0</td>\n",
       "      <td>35962.0</td>\n",
       "    </tr>\n",
       "    <tr>\n",
       "      <th>4</th>\n",
       "      <td>2021</td>\n",
       "      <td>January</td>\n",
       "      <td>Acura</td>\n",
       "      <td>NSX 3.0</td>\n",
       "      <td>Gasoline</td>\n",
       "      <td>3.0</td>\n",
       "      <td>32863.0</td>\n",
       "    </tr>\n",
       "  </tbody>\n",
       "</table>\n",
       "</div>"
      ],
      "text/plain": [
       "   year_of_reference month_of_reference  brand    model      fuel  \\\n",
       "0               2021            January  Acura  NSX 3.0  Gasoline   \n",
       "1               2021            January  Acura  NSX 3.0  Gasoline   \n",
       "2               2021            January  Acura  NSX 3.0  Gasoline   \n",
       "3               2021            January  Acura  NSX 3.0  Gasoline   \n",
       "4               2021            January  Acura  NSX 3.0  Gasoline   \n",
       "\n",
       "   engine_size  avg_price_brl  \n",
       "0          3.0        40374.0  \n",
       "1          3.0        38939.0  \n",
       "2          3.0        37648.0  \n",
       "3          3.0        35962.0  \n",
       "4          3.0        32863.0  "
      ]
     },
     "execution_count": 4,
     "metadata": {},
     "output_type": "execute_result"
    }
   ],
   "source": [
    "# Limpeza dos Dados\n",
    "\n",
    "print(df.isna().sum())  # Não temos valores NaN!\n",
    "\n",
    "df = df.drop([\"fipe_code\", \"authentication\", \"gear\", \"year_model\"], axis=1)  # Retirando as colunas desnecessárias para a nossa análise\n",
    "\n",
    "df.head()"
   ]
  },
  {
   "cell_type": "code",
   "execution_count": 8,
   "metadata": {},
   "outputs": [
    {
     "name": "stdout",
     "output_type": "stream",
     "text": [
      "4\n"
     ]
    },
    {
     "data": {
      "text/html": [
       "<div>\n",
       "<style scoped>\n",
       "    .dataframe tbody tr th:only-of-type {\n",
       "        vertical-align: middle;\n",
       "    }\n",
       "\n",
       "    .dataframe tbody tr th {\n",
       "        vertical-align: top;\n",
       "    }\n",
       "\n",
       "    .dataframe thead th {\n",
       "        text-align: right;\n",
       "    }\n",
       "</style>\n",
       "<table border=\"1\" class=\"dataframe\">\n",
       "  <thead>\n",
       "    <tr style=\"text-align: right;\">\n",
       "      <th></th>\n",
       "      <th>year_of_reference</th>\n",
       "      <th>month_of_reference</th>\n",
       "      <th>brand</th>\n",
       "      <th>model</th>\n",
       "      <th>fuel</th>\n",
       "      <th>engine_size</th>\n",
       "      <th>avg_price_brl</th>\n",
       "    </tr>\n",
       "  </thead>\n",
       "  <tbody>\n",
       "    <tr>\n",
       "      <th>135875</th>\n",
       "      <td>2021</td>\n",
       "      <td>June</td>\n",
       "      <td>Renault</td>\n",
       "      <td>DUSTER OROCH Dyna. 2.0 Flex 16V Mec.</td>\n",
       "      <td>Gasoline</td>\n",
       "      <td>2.0</td>\n",
       "      <td>69893.0</td>\n",
       "    </tr>\n",
       "    <tr>\n",
       "      <th>215184</th>\n",
       "      <td>2021</td>\n",
       "      <td>October</td>\n",
       "      <td>GM - Chevrolet</td>\n",
       "      <td>A-10 2.5/4.1</td>\n",
       "      <td>Gasoline</td>\n",
       "      <td>2.5</td>\n",
       "      <td>8879.0</td>\n",
       "    </tr>\n",
       "    <tr>\n",
       "      <th>383231</th>\n",
       "      <td>2022</td>\n",
       "      <td>May</td>\n",
       "      <td>GM - Chevrolet</td>\n",
       "      <td>Monza Classic SE 2.0 /MPFI e EFI 2p e 4p</td>\n",
       "      <td>Gasoline</td>\n",
       "      <td>2.0</td>\n",
       "      <td>10655.0</td>\n",
       "    </tr>\n",
       "    <tr>\n",
       "      <th>559711</th>\n",
       "      <td>2022</td>\n",
       "      <td>December</td>\n",
       "      <td>Ford</td>\n",
       "      <td>Ranger Limited 3.0 PSE 4x4 CD TB Diesel</td>\n",
       "      <td>Diesel</td>\n",
       "      <td>3.0</td>\n",
       "      <td>64638.0</td>\n",
       "    </tr>\n",
       "  </tbody>\n",
       "</table>\n",
       "</div>"
      ],
      "text/plain": [
       "        year_of_reference month_of_reference           brand  \\\n",
       "135875               2021               June         Renault   \n",
       "215184               2021            October  GM - Chevrolet   \n",
       "383231               2022                May  GM - Chevrolet   \n",
       "559711               2022           December            Ford   \n",
       "\n",
       "                                           model      fuel  engine_size  \\\n",
       "135875      DUSTER OROCH Dyna. 2.0 Flex 16V Mec.  Gasoline          2.0   \n",
       "215184                              A-10 2.5/4.1  Gasoline          2.5   \n",
       "383231  Monza Classic SE 2.0 /MPFI e EFI 2p e 4p  Gasoline          2.0   \n",
       "559711   Ranger Limited 3.0 PSE 4x4 CD TB Diesel    Diesel          3.0   \n",
       "\n",
       "        avg_price_brl  \n",
       "135875        69893.0  \n",
       "215184         8879.0  \n",
       "383231        10655.0  \n",
       "559711        64638.0  "
      ]
     },
     "execution_count": 8,
     "metadata": {},
     "output_type": "execute_result"
    }
   ],
   "source": [
    "# Identificando linhas duplicadas e eliminando-as.\n",
    "\n",
    "print(df.duplicated().sum())\n",
    "df.loc[df.duplicated()]"
   ]
  },
  {
   "cell_type": "code",
   "execution_count": 9,
   "metadata": {},
   "outputs": [
    {
     "name": "stdout",
     "output_type": "stream",
     "text": [
      "0\n"
     ]
    }
   ],
   "source": [
    "df = df.drop_duplicates()\n",
    "print(df.duplicated().sum())"
   ]
  },
  {
   "cell_type": "markdown",
   "metadata": {},
   "source": [
    "## Visualização de Dados"
   ]
  }
 ],
 "metadata": {
  "kernelspec": {
   "display_name": "Python 3",
   "language": "python",
   "name": "python3"
  },
  "language_info": {
   "codemirror_mode": {
    "name": "ipython",
    "version": 3
   },
   "file_extension": ".py",
   "mimetype": "text/x-python",
   "name": "python",
   "nbconvert_exporter": "python",
   "pygments_lexer": "ipython3",
   "version": "3.9.2"
  },
  "orig_nbformat": 4
 },
 "nbformat": 4,
 "nbformat_minor": 2
}
