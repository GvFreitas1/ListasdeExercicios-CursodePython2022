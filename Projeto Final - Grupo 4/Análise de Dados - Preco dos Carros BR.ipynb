{
 "cells": [
  {
   "cell_type": "markdown",
   "metadata": {},
   "source": [
    "# **Projeto Final: Análise de Dados - Grupo 4**\n",
    "\n",
    "Utilizaremos o DataSet \"*Preços dos Carros no Brasil*\".\n",
    "\n",
    "Nosso objetivo é verificar se existe alguma conexão das variáveis nas relações:\n",
    "* Tempo x Preço Médio\n",
    "* Combustível x Tamanho do Motor\n",
    "* Marca x Preço Médio"
   ]
  },
  {
   "cell_type": "markdown",
   "metadata": {},
   "source": [
    "# Sobre o DataSet a ser analisado\n",
    "\n",
    "Cerca de 600 mil carros foram colocados no documento a ser analisado. Os dados foram extraídos do site da FIPE, que atualiza mensalmente as informações, sendo necessário, representar a data que o dado foi obtido.\n",
    "\n",
    "Cada linha da tabela representa um carro em específico, diferenciando-o por diversos fatores, como o ano e mês de referência, o tipo de combustível utilizado, o tipo de câmbio, o tamanho do motor, o código fipe, a marca e modelo e por fim, o preço médio que o carro é encontrado no Brasil, em reais.\n",
    "\n",
    "\n",
    "# Variáveis\n",
    "* year_of_reference: ano correspondente à data que o dado foi coletado. \n",
    "* month_of_reference: mês referente à data que o dado foi coletado.\n",
    "* fipe_code: identificação utilizada para cada modelo de carro no site da FIPE.\n",
    "* authentication: código que autentica a consulta no site da FIPE.\n",
    "* brand: marca de cada carro nos dados.\n",
    "* model: modelo de cada carro nos dados.\n",
    "* fuel: tipo de combustível que o carro comporta (diesel ou gasolina)\n",
    "* gear: tipo do câmbio de cada carro (automático ou manual); caso não esteja escrito 'Aut', assume-se que o carro em questão é necessariamente, manual.\n",
    "* engine_size: tamanho do motor em centímetros cúbicos.\n",
    "* year_model: corresponde à versão do modelo de cada carro analisado.\n",
    "* avg_price_brl: média do preço do carro em reais, de acordo com a FIPE."
   ]
  },
  {
   "cell_type": "code",
   "execution_count": 18,
   "metadata": {},
   "outputs": [
    {
     "name": "stdout",
     "output_type": "stream",
     "text": [
      "Requirement already satisfied: pandas in c:\\users\\user\\appdata\\local\\programs\\python\\python311\\lib\\site-packages (2.0.1)\n",
      "Requirement already satisfied: numpy in c:\\users\\user\\appdata\\local\\programs\\python\\python311\\lib\\site-packages (1.24.3)\n",
      "Requirement already satisfied: pandas_datareader in c:\\users\\user\\appdata\\local\\programs\\python\\python311\\lib\\site-packages (0.10.0)\n",
      "Requirement already satisfied: seaborn in c:\\users\\user\\appdata\\local\\programs\\python\\python311\\lib\\site-packages (0.12.2)\n",
      "Requirement already satisfied: plotly in c:\\users\\user\\appdata\\local\\programs\\python\\python311\\lib\\site-packages (5.15.0)\n",
      "Requirement already satisfied: matplotlib in c:\\users\\user\\appdata\\local\\programs\\python\\python311\\lib\\site-packages (3.7.1)\n",
      "Requirement already satisfied: scipy in c:\\users\\user\\appdata\\local\\programs\\python\\python311\\lib\\site-packages (1.10.1)\n",
      "Requirement already satisfied: python-dateutil>=2.8.2 in c:\\users\\user\\appdata\\local\\programs\\python\\python311\\lib\\site-packages (from pandas) (2.8.2)\n",
      "Requirement already satisfied: pytz>=2020.1 in c:\\users\\user\\appdata\\local\\programs\\python\\python311\\lib\\site-packages (from pandas) (2023.3)\n",
      "Requirement already satisfied: tzdata>=2022.1 in c:\\users\\user\\appdata\\local\\programs\\python\\python311\\lib\\site-packages (from pandas) (2023.3)\n",
      "Requirement already satisfied: lxml in c:\\users\\user\\appdata\\local\\programs\\python\\python311\\lib\\site-packages (from pandas_datareader) (4.9.2)\n",
      "Requirement already satisfied: requests>=2.19.0 in c:\\users\\user\\appdata\\local\\programs\\python\\python311\\lib\\site-packages (from pandas_datareader) (2.31.0)\n",
      "Requirement already satisfied: tenacity>=6.2.0 in c:\\users\\user\\appdata\\local\\programs\\python\\python311\\lib\\site-packages (from plotly) (8.2.2)\n",
      "Requirement already satisfied: packaging in c:\\users\\user\\appdata\\local\\programs\\python\\python311\\lib\\site-packages (from plotly) (23.1)\n",
      "Requirement already satisfied: contourpy>=1.0.1 in c:\\users\\user\\appdata\\local\\programs\\python\\python311\\lib\\site-packages (from matplotlib) (1.0.7)\n",
      "Requirement already satisfied: cycler>=0.10 in c:\\users\\user\\appdata\\local\\programs\\python\\python311\\lib\\site-packages (from matplotlib) (0.11.0)\n",
      "Requirement already satisfied: fonttools>=4.22.0 in c:\\users\\user\\appdata\\local\\programs\\python\\python311\\lib\\site-packages (from matplotlib) (4.39.4)\n",
      "Requirement already satisfied: kiwisolver>=1.0.1 in c:\\users\\user\\appdata\\local\\programs\\python\\python311\\lib\\site-packages (from matplotlib) (1.4.4)\n",
      "Requirement already satisfied: pillow>=6.2.0 in c:\\users\\user\\appdata\\local\\programs\\python\\python311\\lib\\site-packages (from matplotlib) (9.5.0)\n",
      "Requirement already satisfied: pyparsing>=2.3.1 in c:\\users\\user\\appdata\\local\\programs\\python\\python311\\lib\\site-packages (from matplotlib) (3.0.9)\n",
      "Requirement already satisfied: six>=1.5 in c:\\users\\user\\appdata\\local\\programs\\python\\python311\\lib\\site-packages (from python-dateutil>=2.8.2->pandas) (1.16.0)\n",
      "Requirement already satisfied: charset-normalizer<4,>=2 in c:\\users\\user\\appdata\\local\\programs\\python\\python311\\lib\\site-packages (from requests>=2.19.0->pandas_datareader) (3.1.0)\n",
      "Requirement already satisfied: idna<4,>=2.5 in c:\\users\\user\\appdata\\local\\programs\\python\\python311\\lib\\site-packages (from requests>=2.19.0->pandas_datareader) (3.4)\n",
      "Requirement already satisfied: urllib3<3,>=1.21.1 in c:\\users\\user\\appdata\\local\\programs\\python\\python311\\lib\\site-packages (from requests>=2.19.0->pandas_datareader) (1.26.16)\n",
      "Requirement already satisfied: certifi>=2017.4.17 in c:\\users\\user\\appdata\\local\\programs\\python\\python311\\lib\\site-packages (from requests>=2.19.0->pandas_datareader) (2023.5.7)\n",
      "Note: you may need to restart the kernel to use updated packages.\n"
     ]
    }
   ],
   "source": [
    "# Importando as Bibliotecas\n",
    "\n",
    "%pip install pandas numpy pandas_datareader seaborn plotly matplotlib scipy\n",
    "import pandas as pd\n",
    "import numpy as np\n",
    "import pandas_datareader.data as web\n",
    "import seaborn as sns\n",
    "import plotly.express as px\n",
    "import plotly.subplots as sp\n",
    "import plotly.graph_objects as go\n",
    "import matplotlib.colors as mcolors\n",
    "import matplotlib.pyplot as plt\n",
    "import matplotlib.lines as mlines\n",
    "import matplotlib.ticker as mticker\n",
    "from scipy.stats import pearsonr"
   ]
  },
  {
   "cell_type": "markdown",
   "metadata": {},
   "source": [
    "## Tratamento de Dados"
   ]
  },
  {
   "cell_type": "code",
   "execution_count": 19,
   "metadata": {},
   "outputs": [
    {
     "name": "stdout",
     "output_type": "stream",
     "text": [
      "   year_of_reference month_of_reference fipe_code authentication  brand   \n",
      "0               2021            January  038001-6     tlp4qry07m  Acura  \\\n",
      "1               2021            January  038001-6     s1wksdv9by  Acura   \n",
      "2               2021            January  038001-6     skrbcfnkch  Acura   \n",
      "3               2021            January  038001-6     rxzh76d5db  Acura   \n",
      "4               2021            January  038001-6     qrm322tpd8  Acura   \n",
      "\n",
      "     model      fuel    gear  engine_size  year_model  avg_price_brl  \n",
      "0  NSX 3.0  Gasoline  manual          3.0        1995        40374.0  \n",
      "1  NSX 3.0  Gasoline  manual          3.0        1994        38939.0  \n",
      "2  NSX 3.0  Gasoline  manual          3.0        1993        37648.0  \n",
      "3  NSX 3.0  Gasoline  manual          3.0        1992        35962.0  \n",
      "4  NSX 3.0  Gasoline  manual          3.0        1991        32863.0  \n",
      "\n",
      "year_of_reference       int64\n",
      "month_of_reference     object\n",
      "fipe_code              object\n",
      "authentication         object\n",
      "brand                  object\n",
      "model                  object\n",
      "fuel                   object\n",
      "gear                   object\n",
      "engine_size           float64\n",
      "year_model              int64\n",
      "avg_price_brl         float64\n",
      "dtype: object\n",
      "\n",
      "(599007, 11)\n"
     ]
    }
   ],
   "source": [
    "# Lendo o DataFrame e Analisando as Variáveis\n",
    "\n",
    "df = pd.read_csv(\"fipe_cars.csv\")\n",
    "\n",
    "print(df.head(), df.dtypes, df.shape, sep=\"\\n\\n\")\n"
   ]
  },
  {
   "cell_type": "code",
   "execution_count": 20,
   "metadata": {},
   "outputs": [
    {
     "name": "stdout",
     "output_type": "stream",
     "text": [
      "year_of_reference     0\n",
      "month_of_reference    0\n",
      "fipe_code             0\n",
      "authentication        0\n",
      "brand                 0\n",
      "model                 0\n",
      "fuel                  0\n",
      "gear                  0\n",
      "engine_size           0\n",
      "year_model            0\n",
      "avg_price_brl         0\n",
      "dtype: int64\n"
     ]
    },
    {
     "data": {
      "text/html": [
       "<div>\n",
       "<style scoped>\n",
       "    .dataframe tbody tr th:only-of-type {\n",
       "        vertical-align: middle;\n",
       "    }\n",
       "\n",
       "    .dataframe tbody tr th {\n",
       "        vertical-align: top;\n",
       "    }\n",
       "\n",
       "    .dataframe thead th {\n",
       "        text-align: right;\n",
       "    }\n",
       "</style>\n",
       "<table border=\"1\" class=\"dataframe\">\n",
       "  <thead>\n",
       "    <tr style=\"text-align: right;\">\n",
       "      <th></th>\n",
       "      <th>year_of_reference</th>\n",
       "      <th>month_of_reference</th>\n",
       "      <th>brand</th>\n",
       "      <th>model</th>\n",
       "      <th>fuel</th>\n",
       "      <th>engine_size</th>\n",
       "      <th>avg_price_brl</th>\n",
       "    </tr>\n",
       "  </thead>\n",
       "  <tbody>\n",
       "    <tr>\n",
       "      <th>0</th>\n",
       "      <td>2021</td>\n",
       "      <td>January</td>\n",
       "      <td>Acura</td>\n",
       "      <td>NSX 3.0</td>\n",
       "      <td>Gasoline</td>\n",
       "      <td>3.0</td>\n",
       "      <td>40374.0</td>\n",
       "    </tr>\n",
       "    <tr>\n",
       "      <th>1</th>\n",
       "      <td>2021</td>\n",
       "      <td>January</td>\n",
       "      <td>Acura</td>\n",
       "      <td>NSX 3.0</td>\n",
       "      <td>Gasoline</td>\n",
       "      <td>3.0</td>\n",
       "      <td>38939.0</td>\n",
       "    </tr>\n",
       "    <tr>\n",
       "      <th>2</th>\n",
       "      <td>2021</td>\n",
       "      <td>January</td>\n",
       "      <td>Acura</td>\n",
       "      <td>NSX 3.0</td>\n",
       "      <td>Gasoline</td>\n",
       "      <td>3.0</td>\n",
       "      <td>37648.0</td>\n",
       "    </tr>\n",
       "    <tr>\n",
       "      <th>3</th>\n",
       "      <td>2021</td>\n",
       "      <td>January</td>\n",
       "      <td>Acura</td>\n",
       "      <td>NSX 3.0</td>\n",
       "      <td>Gasoline</td>\n",
       "      <td>3.0</td>\n",
       "      <td>35962.0</td>\n",
       "    </tr>\n",
       "    <tr>\n",
       "      <th>4</th>\n",
       "      <td>2021</td>\n",
       "      <td>January</td>\n",
       "      <td>Acura</td>\n",
       "      <td>NSX 3.0</td>\n",
       "      <td>Gasoline</td>\n",
       "      <td>3.0</td>\n",
       "      <td>32863.0</td>\n",
       "    </tr>\n",
       "  </tbody>\n",
       "</table>\n",
       "</div>"
      ],
      "text/plain": [
       "   year_of_reference month_of_reference  brand    model      fuel   \n",
       "0               2021            January  Acura  NSX 3.0  Gasoline  \\\n",
       "1               2021            January  Acura  NSX 3.0  Gasoline   \n",
       "2               2021            January  Acura  NSX 3.0  Gasoline   \n",
       "3               2021            January  Acura  NSX 3.0  Gasoline   \n",
       "4               2021            January  Acura  NSX 3.0  Gasoline   \n",
       "\n",
       "   engine_size  avg_price_brl  \n",
       "0          3.0        40374.0  \n",
       "1          3.0        38939.0  \n",
       "2          3.0        37648.0  \n",
       "3          3.0        35962.0  \n",
       "4          3.0        32863.0  "
      ]
     },
     "execution_count": 20,
     "metadata": {},
     "output_type": "execute_result"
    }
   ],
   "source": [
    "# Limpeza dos Dados\n",
    "\n",
    "print(df.isna().sum())  # Não temos valores NaN!\n",
    "\n",
    "df = df.drop([\"fipe_code\", \"authentication\", \"gear\", \"year_model\"], axis=1)  # Retirando as colunas desnecessárias para a nossa análise\n",
    "\n",
    "df.head()"
   ]
  },
  {
   "cell_type": "code",
   "execution_count": 21,
   "metadata": {},
   "outputs": [
    {
     "name": "stdout",
     "output_type": "stream",
     "text": [
      "4\n"
     ]
    },
    {
     "data": {
      "text/html": [
       "<div>\n",
       "<style scoped>\n",
       "    .dataframe tbody tr th:only-of-type {\n",
       "        vertical-align: middle;\n",
       "    }\n",
       "\n",
       "    .dataframe tbody tr th {\n",
       "        vertical-align: top;\n",
       "    }\n",
       "\n",
       "    .dataframe thead th {\n",
       "        text-align: right;\n",
       "    }\n",
       "</style>\n",
       "<table border=\"1\" class=\"dataframe\">\n",
       "  <thead>\n",
       "    <tr style=\"text-align: right;\">\n",
       "      <th></th>\n",
       "      <th>year_of_reference</th>\n",
       "      <th>month_of_reference</th>\n",
       "      <th>brand</th>\n",
       "      <th>model</th>\n",
       "      <th>fuel</th>\n",
       "      <th>engine_size</th>\n",
       "      <th>avg_price_brl</th>\n",
       "    </tr>\n",
       "  </thead>\n",
       "  <tbody>\n",
       "    <tr>\n",
       "      <th>135875</th>\n",
       "      <td>2021</td>\n",
       "      <td>June</td>\n",
       "      <td>Renault</td>\n",
       "      <td>DUSTER OROCH Dyna. 2.0 Flex 16V Mec.</td>\n",
       "      <td>Gasoline</td>\n",
       "      <td>2.0</td>\n",
       "      <td>69893.0</td>\n",
       "    </tr>\n",
       "    <tr>\n",
       "      <th>215184</th>\n",
       "      <td>2021</td>\n",
       "      <td>October</td>\n",
       "      <td>GM - Chevrolet</td>\n",
       "      <td>A-10 2.5/4.1</td>\n",
       "      <td>Gasoline</td>\n",
       "      <td>2.5</td>\n",
       "      <td>8879.0</td>\n",
       "    </tr>\n",
       "    <tr>\n",
       "      <th>383231</th>\n",
       "      <td>2022</td>\n",
       "      <td>May</td>\n",
       "      <td>GM - Chevrolet</td>\n",
       "      <td>Monza Classic SE 2.0 /MPFI e EFI 2p e 4p</td>\n",
       "      <td>Gasoline</td>\n",
       "      <td>2.0</td>\n",
       "      <td>10655.0</td>\n",
       "    </tr>\n",
       "    <tr>\n",
       "      <th>559711</th>\n",
       "      <td>2022</td>\n",
       "      <td>December</td>\n",
       "      <td>Ford</td>\n",
       "      <td>Ranger Limited 3.0 PSE 4x4 CD TB Diesel</td>\n",
       "      <td>Diesel</td>\n",
       "      <td>3.0</td>\n",
       "      <td>64638.0</td>\n",
       "    </tr>\n",
       "  </tbody>\n",
       "</table>\n",
       "</div>"
      ],
      "text/plain": [
       "        year_of_reference month_of_reference           brand   \n",
       "135875               2021               June         Renault  \\\n",
       "215184               2021            October  GM - Chevrolet   \n",
       "383231               2022                May  GM - Chevrolet   \n",
       "559711               2022           December            Ford   \n",
       "\n",
       "                                           model      fuel  engine_size   \n",
       "135875      DUSTER OROCH Dyna. 2.0 Flex 16V Mec.  Gasoline          2.0  \\\n",
       "215184                              A-10 2.5/4.1  Gasoline          2.5   \n",
       "383231  Monza Classic SE 2.0 /MPFI e EFI 2p e 4p  Gasoline          2.0   \n",
       "559711   Ranger Limited 3.0 PSE 4x4 CD TB Diesel    Diesel          3.0   \n",
       "\n",
       "        avg_price_brl  \n",
       "135875        69893.0  \n",
       "215184         8879.0  \n",
       "383231        10655.0  \n",
       "559711        64638.0  "
      ]
     },
     "execution_count": 21,
     "metadata": {},
     "output_type": "execute_result"
    }
   ],
   "source": [
    "# Identificando linhas duplicadas e eliminando-as.\n",
    "\n",
    "print(df.duplicated().sum())\n",
    "df.loc[df.duplicated()]"
   ]
  },
  {
   "cell_type": "code",
   "execution_count": 22,
   "metadata": {},
   "outputs": [
    {
     "name": "stdout",
     "output_type": "stream",
     "text": [
      "0\n"
     ]
    }
   ],
   "source": [
    "df = df.drop_duplicates()\n",
    "print(df.duplicated().sum())"
   ]
  },
  {
   "cell_type": "code",
   "execution_count": 23,
   "metadata": {},
   "outputs": [
    {
     "name": "stdout",
     "output_type": "stream",
     "text": [
      "(599003, 7)\n"
     ]
    }
   ],
   "source": [
    "# Nova dimensão do DataFrame após a limpeza de dados.\n",
    "print(df.shape)"
   ]
  },
  {
   "cell_type": "code",
   "execution_count": 24,
   "metadata": {},
   "outputs": [
    {
     "data": {
      "text/html": [
       "<div>\n",
       "<style scoped>\n",
       "    .dataframe tbody tr th:only-of-type {\n",
       "        vertical-align: middle;\n",
       "    }\n",
       "\n",
       "    .dataframe tbody tr th {\n",
       "        vertical-align: top;\n",
       "    }\n",
       "\n",
       "    .dataframe thead th {\n",
       "        text-align: right;\n",
       "    }\n",
       "</style>\n",
       "<table border=\"1\" class=\"dataframe\">\n",
       "  <thead>\n",
       "    <tr style=\"text-align: right;\">\n",
       "      <th></th>\n",
       "      <th>brand</th>\n",
       "      <th>model</th>\n",
       "      <th>fuel</th>\n",
       "      <th>engine_size</th>\n",
       "      <th>avg_price_brl</th>\n",
       "      <th>date</th>\n",
       "    </tr>\n",
       "  </thead>\n",
       "  <tbody>\n",
       "    <tr>\n",
       "      <th>0</th>\n",
       "      <td>Acura</td>\n",
       "      <td>NSX 3.0</td>\n",
       "      <td>Gasoline</td>\n",
       "      <td>3.0</td>\n",
       "      <td>40374.0</td>\n",
       "      <td>2021/01</td>\n",
       "    </tr>\n",
       "    <tr>\n",
       "      <th>1</th>\n",
       "      <td>Acura</td>\n",
       "      <td>NSX 3.0</td>\n",
       "      <td>Gasoline</td>\n",
       "      <td>3.0</td>\n",
       "      <td>38939.0</td>\n",
       "      <td>2021/01</td>\n",
       "    </tr>\n",
       "    <tr>\n",
       "      <th>2</th>\n",
       "      <td>Acura</td>\n",
       "      <td>NSX 3.0</td>\n",
       "      <td>Gasoline</td>\n",
       "      <td>3.0</td>\n",
       "      <td>37648.0</td>\n",
       "      <td>2021/01</td>\n",
       "    </tr>\n",
       "    <tr>\n",
       "      <th>3</th>\n",
       "      <td>Acura</td>\n",
       "      <td>NSX 3.0</td>\n",
       "      <td>Gasoline</td>\n",
       "      <td>3.0</td>\n",
       "      <td>35962.0</td>\n",
       "      <td>2021/01</td>\n",
       "    </tr>\n",
       "    <tr>\n",
       "      <th>4</th>\n",
       "      <td>Acura</td>\n",
       "      <td>NSX 3.0</td>\n",
       "      <td>Gasoline</td>\n",
       "      <td>3.0</td>\n",
       "      <td>32863.0</td>\n",
       "      <td>2021/01</td>\n",
       "    </tr>\n",
       "    <tr>\n",
       "      <th>...</th>\n",
       "      <td>...</td>\n",
       "      <td>...</td>\n",
       "      <td>...</td>\n",
       "      <td>...</td>\n",
       "      <td>...</td>\n",
       "      <td>...</td>\n",
       "    </tr>\n",
       "    <tr>\n",
       "      <th>599002</th>\n",
       "      <td>Walk</td>\n",
       "      <td>Buggy Walk Sport 1.6 8V 58cv</td>\n",
       "      <td>Gasoline</td>\n",
       "      <td>1.6</td>\n",
       "      <td>22790.0</td>\n",
       "      <td>2023/01</td>\n",
       "    </tr>\n",
       "    <tr>\n",
       "      <th>599003</th>\n",
       "      <td>Walk</td>\n",
       "      <td>Buggy Walk Sport 1.6 8V 58cv</td>\n",
       "      <td>Gasoline</td>\n",
       "      <td>1.6</td>\n",
       "      <td>22169.0</td>\n",
       "      <td>2023/01</td>\n",
       "    </tr>\n",
       "    <tr>\n",
       "      <th>599004</th>\n",
       "      <td>Walk</td>\n",
       "      <td>Buggy Walk Sport 1.6 8V 58cv</td>\n",
       "      <td>Gasoline</td>\n",
       "      <td>1.6</td>\n",
       "      <td>21565.0</td>\n",
       "      <td>2023/01</td>\n",
       "    </tr>\n",
       "    <tr>\n",
       "      <th>599005</th>\n",
       "      <td>Walk</td>\n",
       "      <td>Buggy Walk Sport 1.6 8V 58cv</td>\n",
       "      <td>Gasoline</td>\n",
       "      <td>1.6</td>\n",
       "      <td>20978.0</td>\n",
       "      <td>2023/01</td>\n",
       "    </tr>\n",
       "    <tr>\n",
       "      <th>599006</th>\n",
       "      <td>Walk</td>\n",
       "      <td>Buggy Walk Sport 1.6 8V 58cv</td>\n",
       "      <td>Gasoline</td>\n",
       "      <td>1.6</td>\n",
       "      <td>18365.0</td>\n",
       "      <td>2023/01</td>\n",
       "    </tr>\n",
       "  </tbody>\n",
       "</table>\n",
       "<p>599003 rows × 6 columns</p>\n",
       "</div>"
      ],
      "text/plain": [
       "        brand                         model      fuel  engine_size   \n",
       "0       Acura                       NSX 3.0  Gasoline          3.0  \\\n",
       "1       Acura                       NSX 3.0  Gasoline          3.0   \n",
       "2       Acura                       NSX 3.0  Gasoline          3.0   \n",
       "3       Acura                       NSX 3.0  Gasoline          3.0   \n",
       "4       Acura                       NSX 3.0  Gasoline          3.0   \n",
       "...       ...                           ...       ...          ...   \n",
       "599002   Walk  Buggy Walk Sport 1.6 8V 58cv  Gasoline          1.6   \n",
       "599003   Walk  Buggy Walk Sport 1.6 8V 58cv  Gasoline          1.6   \n",
       "599004   Walk  Buggy Walk Sport 1.6 8V 58cv  Gasoline          1.6   \n",
       "599005   Walk  Buggy Walk Sport 1.6 8V 58cv  Gasoline          1.6   \n",
       "599006   Walk  Buggy Walk Sport 1.6 8V 58cv  Gasoline          1.6   \n",
       "\n",
       "        avg_price_brl     date  \n",
       "0             40374.0  2021/01  \n",
       "1             38939.0  2021/01  \n",
       "2             37648.0  2021/01  \n",
       "3             35962.0  2021/01  \n",
       "4             32863.0  2021/01  \n",
       "...               ...      ...  \n",
       "599002        22790.0  2023/01  \n",
       "599003        22169.0  2023/01  \n",
       "599004        21565.0  2023/01  \n",
       "599005        20978.0  2023/01  \n",
       "599006        18365.0  2023/01  \n",
       "\n",
       "[599003 rows x 6 columns]"
      ]
     },
     "execution_count": 24,
     "metadata": {},
     "output_type": "execute_result"
    }
   ],
   "source": [
    "# Fundindo as colunas \"year_of_reference\" e \"mounth_of_referece\" como datas do tipo datetime.\n",
    "\n",
    "mapeamento = {'January': \"1\", 'February': \"2\",  'March': \"3\", 'April': \"4\", 'May': \"5\", 'June':\n",
    "              \"6\", 'July': \"7\", 'August': \"8\", 'September': \"9\", 'October': \"10\", 'November': \"11\", 'December': \"12\"}\n",
    "\n",
    "df[\"month_of_reference\"] = df[\"month_of_reference\"].map(mapeamento)  # Transformando as strings do mês com o número correspondente\n",
    "\n",
    "df[\"year_of_reference\"] = df[\"year_of_reference\"].astype(str)  # Transformando os anos em strings\n",
    "\n",
    "df[\"date\"] = df[\"month_of_reference\"].str.cat(df[\"year_of_reference\"], sep=\"/\")  # Juntando os valores no formato de data\n",
    "\n",
    "df[\"date\"] = pd.to_datetime(df[\"date\"], format=\"%m/%Y\").dt.strftime('%Y/%m')  # Transformando em datetime\n",
    "\n",
    "df = df.drop(columns=[\"month_of_reference\", \"year_of_reference\"])  # Retirando as colunas que usamos\n",
    "\n",
    "df"
   ]
  },
  {
   "cell_type": "markdown",
   "metadata": {},
   "source": [
    "## Visualização de Dados"
   ]
  },
  {
   "cell_type": "markdown",
   "metadata": {},
   "source": [
    "### *Tempo x Preço Médio*"
   ]
  },
  {
   "cell_type": "code",
   "execution_count": 25,
   "metadata": {},
   "outputs": [
    {
     "data": {
      "image/png": "[encoded data removed]",
      "text/plain": [
       "<Figure size 1200x700 with 1 Axes>"
      ]
     },
     "metadata": {},
     "output_type": "display_data"
    }
   ],
   "source": [
    "medias_data = df.groupby(\"date\")[\"avg_price_brl\"].mean()\n",
    "\n",
    "datas = df[\"date\"].unique()\n",
    "\n",
    "valores = np.arange(25)\n",
    "\n",
    "cores_dispersao = plt.colormaps[\"Blues\"](np.linspace(0.6, 1, 25))\n",
    "cmap_dispersao = mcolors.ListedColormap(cores_dispersao)\n",
    "\n",
    "coeficientes = np.polyfit(valores, medias_data, 1)\n",
    "regressao = np.polyval(coeficientes, valores)\n",
    "indices_particoes = np.linspace(0, 24, 26, dtype=int)\n",
    "\n",
    "plt.figure(figsize=(12, 7))\n",
    "sns.scatterplot(x=datas, y=medias_data, c=valores, cmap=cmap_dispersao)\n",
    "for i in range(25):\n",
    "    segmento_x = valores[indices_particoes[i]:indices_particoes[i+1]+1]\n",
    "    segmento_y = regressao[indices_particoes[i]:indices_particoes[i+1]+1]\n",
    "    cor = plt.colormaps[\"autumn\"]((-i+22)/32)\n",
    "    plt.plot(segmento_x, segmento_y, color=cor)\n",
    "\n",
    "plt.title(\"Preço Médio dos Carros por Mês\")\n",
    "plt.ylabel(\"Preço Médio\")\n",
    "plt.xlabel(\"Data\")\n",
    "plt.xticks(rotation=45)\n",
    "plt.show()"
   ]
  },
  {
   "cell_type": "code",
   "execution_count": 26,
   "metadata": {},
   "outputs": [
    {
     "data": {
      "text/html": [
       "<div>\n",
       "<style scoped>\n",
       "    .dataframe tbody tr th:only-of-type {\n",
       "        vertical-align: middle;\n",
       "    }\n",
       "\n",
       "    .dataframe tbody tr th {\n",
       "        vertical-align: top;\n",
       "    }\n",
       "\n",
       "    .dataframe thead th {\n",
       "        text-align: right;\n",
       "    }\n",
       "</style>\n",
       "<table border=\"1\" class=\"dataframe\">\n",
       "  <thead>\n",
       "    <tr style=\"text-align: right;\">\n",
       "      <th></th>\n",
       "      <th>janeiro 2021</th>\n",
       "      <th>fevereiro 2021</th>\n",
       "      <th>março 2021</th>\n",
       "      <th>abril 2021</th>\n",
       "      <th>maio 2021</th>\n",
       "      <th>junho 2021</th>\n",
       "      <th>julho 2021</th>\n",
       "      <th>agosto 2021</th>\n",
       "      <th>setembro 2021</th>\n",
       "      <th>outubro 2021</th>\n",
       "      <th>...</th>\n",
       "      <th>abril 2022</th>\n",
       "      <th>maio 2022</th>\n",
       "      <th>junho 2022</th>\n",
       "      <th>julho 2022</th>\n",
       "      <th>agosto 2022</th>\n",
       "      <th>setembro 2022</th>\n",
       "      <th>outubro 2022</th>\n",
       "      <th>novembro 2022</th>\n",
       "      <th>dezembro 2022</th>\n",
       "      <th>janeiro 2023</th>\n",
       "    </tr>\n",
       "  </thead>\n",
       "  <tbody>\n",
       "    <tr>\n",
       "      <th>IPCA</th>\n",
       "      <td>0.25</td>\n",
       "      <td>0.86</td>\n",
       "      <td>0.93</td>\n",
       "      <td>0.31</td>\n",
       "      <td>0.83</td>\n",
       "      <td>0.53</td>\n",
       "      <td>0.96</td>\n",
       "      <td>0.87</td>\n",
       "      <td>1.16</td>\n",
       "      <td>1.25</td>\n",
       "      <td>...</td>\n",
       "      <td>1.06</td>\n",
       "      <td>0.47</td>\n",
       "      <td>0.67</td>\n",
       "      <td>-0.68</td>\n",
       "      <td>-0.36</td>\n",
       "      <td>-0.29</td>\n",
       "      <td>0.59</td>\n",
       "      <td>0.41</td>\n",
       "      <td>0.62</td>\n",
       "      <td>0.53</td>\n",
       "    </tr>\n",
       "  </tbody>\n",
       "</table>\n",
       "<p>1 rows × 25 columns</p>\n",
       "</div>"
      ],
      "text/plain": [
       "0    janeiro 2021 fevereiro 2021 março 2021 abril 2021 maio 2021 junho 2021   \n",
       "IPCA         0.25           0.86       0.93       0.31      0.83       0.53  \\\n",
       "\n",
       "0    julho 2021 agosto 2021 setembro 2021 outubro 2021  ... abril 2022   \n",
       "IPCA       0.96        0.87          1.16         1.25  ...       1.06  \\\n",
       "\n",
       "0    maio 2022 junho 2022 julho 2022 agosto 2022 setembro 2022 outubro 2022   \n",
       "IPCA      0.47       0.67      -0.68       -0.36         -0.29         0.59  \\\n",
       "\n",
       "0    novembro 2022 dezembro 2022 janeiro 2023  \n",
       "IPCA          0.41          0.62         0.53  \n",
       "\n",
       "[1 rows x 25 columns]"
      ]
     },
     "execution_count": 26,
     "metadata": {},
     "output_type": "execute_result"
    }
   ],
   "source": [
    "# Os dados são do IBGE: https://www.ibge.gov.br/estatisticas/economicas/precos-e-custos/9256-indice-nacional-de-precos-ao-consumidor-amplo.html?=&t=series-historicas\n",
    "\n",
    "ipca = pd.read_excel(\"ipca_mensal.xlsx\")\n",
    "ipca = ipca.drop(columns=[\"Variação mensal durante o Plano Real\", \"Unnamed: 1\"])\n",
    "ipca.columns = ipca.iloc[0]\n",
    "ipca = ipca.drop([0, 1, 3, 4])\n",
    "ipca.iloc[0] = ipca.iloc[0].str.replace(',', '.').astype(float)\n",
    "ipca.index = [\"IPCA\"]\n",
    "ipca = ipca.loc[:, \"janeiro 2021\":\"janeiro 2023\"]\n",
    "ipca"
   ]
  },
  {
   "cell_type": "code",
   "execution_count": 27,
   "metadata": {},
   "outputs": [
    {
     "data": {
      "text/html": [
       "<div>\n",
       "<style scoped>\n",
       "    .dataframe tbody tr th:only-of-type {\n",
       "        vertical-align: middle;\n",
       "    }\n",
       "\n",
       "    .dataframe tbody tr th {\n",
       "        vertical-align: top;\n",
       "    }\n",
       "\n",
       "    .dataframe thead th {\n",
       "        text-align: right;\n",
       "    }\n",
       "</style>\n",
       "<table border=\"1\" class=\"dataframe\">\n",
       "  <thead>\n",
       "    <tr style=\"text-align: right;\">\n",
       "      <th></th>\n",
       "      <th>janeiro 2021</th>\n",
       "      <th>fevereiro 2021</th>\n",
       "      <th>março 2021</th>\n",
       "      <th>abril 2021</th>\n",
       "      <th>maio 2021</th>\n",
       "      <th>junho 2021</th>\n",
       "      <th>julho 2021</th>\n",
       "      <th>agosto 2021</th>\n",
       "      <th>setembro 2021</th>\n",
       "      <th>outubro 2021</th>\n",
       "      <th>...</th>\n",
       "      <th>abril 2022</th>\n",
       "      <th>maio 2022</th>\n",
       "      <th>junho 2022</th>\n",
       "      <th>julho 2022</th>\n",
       "      <th>agosto 2022</th>\n",
       "      <th>setembro 2022</th>\n",
       "      <th>outubro 2022</th>\n",
       "      <th>novembro 2022</th>\n",
       "      <th>dezembro 2022</th>\n",
       "      <th>janeiro 2023</th>\n",
       "    </tr>\n",
       "  </thead>\n",
       "  <tbody>\n",
       "    <tr>\n",
       "      <th>Taxa de variação</th>\n",
       "      <td>0.0938</td>\n",
       "      <td>0.1358</td>\n",
       "      <td>0.0521</td>\n",
       "      <td>-0.0064</td>\n",
       "      <td>0.0505</td>\n",
       "      <td>0.0739</td>\n",
       "      <td>0.0181</td>\n",
       "      <td>-0.0587</td>\n",
       "      <td>0.0654</td>\n",
       "      <td>0.1213</td>\n",
       "      <td>...</td>\n",
       "      <td>-0.0849</td>\n",
       "      <td>0.0623</td>\n",
       "      <td>0.0686</td>\n",
       "      <td>-0.0929</td>\n",
       "      <td>-0.0947</td>\n",
       "      <td>-0.0856</td>\n",
       "      <td>0.0329</td>\n",
       "      <td>-0.0221</td>\n",
       "      <td>-0.1117</td>\n",
       "      <td>0.0271</td>\n",
       "    </tr>\n",
       "  </tbody>\n",
       "</table>\n",
       "<p>1 rows × 25 columns</p>\n",
       "</div>"
      ],
      "text/plain": [
       "0                janeiro 2021 fevereiro 2021 março 2021 abril 2021 maio 2021   \n",
       "Taxa de variação       0.0938         0.1358     0.0521    -0.0064    0.0505  \\\n",
       "\n",
       "0                junho 2021 julho 2021 agosto 2021 setembro 2021 outubro 2021   \n",
       "Taxa de variação     0.0739     0.0181     -0.0587        0.0654       0.1213  \\\n",
       "\n",
       "0                 ... abril 2022 maio 2022 junho 2022 julho 2022 agosto 2022   \n",
       "Taxa de variação  ...    -0.0849    0.0623     0.0686    -0.0929     -0.0947  \\\n",
       "\n",
       "0                setembro 2022 outubro 2022 novembro 2022 dezembro 2022   \n",
       "Taxa de variação       -0.0856       0.0329       -0.0221       -0.1117  \\\n",
       "\n",
       "0                janeiro 2023  \n",
       "Taxa de variação       0.0271  \n",
       "\n",
       "[1 rows x 25 columns]"
      ]
     },
     "execution_count": 27,
     "metadata": {},
     "output_type": "execute_result"
    }
   ],
   "source": [
    "# Os dados são do site Index Mundi: https://www.indexmundi.com/pt/pre%c3%a7os-de-mercado/?mercadoria=petr%c3%b3leo-bruto-brent&meses=60\n",
    "\n",
    "petroleo = pd.read_excel(\"petroleo.xlsx\")\n",
    "petroleo = petroleo.drop(columns=[\"Mês\", \"Preço\"])\n",
    "petroleo = petroleo.iloc[31:56].T\n",
    "petroleo.columns = ipca.columns\n",
    "petroleo"
   ]
  },
  {
   "cell_type": "code",
   "execution_count": 28,
   "metadata": {},
   "outputs": [
    {
     "data": {
      "application/vnd.plotly.v1+json": {
       "config": {
        "plotlyServerURL": "https://plot.ly"
       },
       "data": [
        {
         "hovertemplate": "variable=IPCA<br>0=%{x}<br>value=%{y}<extra></extra>",
         "legendgroup": "IPCA",
         "line": {
          "color": "#F6222E",
          "dash": "solid",
          "shape": "spline"
         },
         "marker": {
          "size": 7,
          "symbol": "diamond"
         },
         "mode": "lines+markers",
         "name": "IPCA",
         "orientation": "v",
         "showlegend": true,
         "type": "scatter",
         "x": [
          "janeiro 2021",
          "fevereiro 2021",
          "março 2021",
          "abril 2021",
          "maio 2021",
          "junho 2021",
          "julho 2021",
          "agosto 2021",
          "setembro 2021",
          "outubro 2021",
          "novembro 2021",
          "dezembro 2021",
          "janeiro 2022",
          "fevereiro 2022",
          "março 2022",
          "abril 2022",
          "maio 2022",
          "junho 2022",
          "julho 2022",
          "agosto 2022",
          "setembro 2022",
          "outubro 2022",
          "novembro 2022",
          "dezembro 2022",
          "janeiro 2023"
         ],
         "xaxis": "x",
         "y": [
          0.25,
          1.1099999999999999,
          2.04,
          2.35,
          3.18,
          3.71,
          4.67,
          5.54,
          6.7,
          7.95,
          8.9,
          9.63,
          10.170000000000002,
          11.180000000000001,
          12.8,
          13.860000000000001,
          14.330000000000002,
          15.000000000000002,
          14.320000000000002,
          13.960000000000003,
          13.670000000000003,
          14.260000000000003,
          14.670000000000003,
          15.290000000000003,
          15.820000000000002
         ],
         "yaxis": "y"
        },
        {
         "hovertemplate": "variable=Preço dos Carros<br>0=%{x}<br>value=%{y}<extra></extra>",
         "legendgroup": "Preço dos Carros",
         "line": {
          "color": "#3283FE",
          "dash": "solid",
          "shape": "spline"
         },
         "marker": {
          "size": 7,
          "symbol": "hexagon"
         },
         "mode": "lines+markers",
         "name": "Preço dos Carros",
         "orientation": "v",
         "showlegend": true,
         "type": "scatter",
         "x": [
          "janeiro 2021",
          "fevereiro 2021",
          "março 2021",
          "abril 2021",
          "maio 2021",
          "junho 2021",
          "julho 2021",
          "agosto 2021",
          "setembro 2021",
          "outubro 2021",
          "novembro 2021",
          "dezembro 2021",
          "janeiro 2022",
          "fevereiro 2022",
          "março 2022",
          "abril 2022",
          "maio 2022",
          "junho 2022",
          "julho 2022",
          "agosto 2022",
          "setembro 2022",
          "outubro 2022",
          "novembro 2022",
          "dezembro 2022",
          "janeiro 2023"
         ],
         "xaxis": "x",
         "y": [
          0,
          0.9643731419884577,
          2.2994118278979547,
          5.850775777875302,
          7.600478846834584,
          14.530661891415345,
          17.952659539482244,
          20.156199253793524,
          22.542881148450117,
          24.733702206982958,
          28.17390847802186,
          31.241958972928863,
          34.05869300882855,
          36.19701120955683,
          38.16314750392657,
          39.57581331570477,
          40.74022473688853,
          42.007818421011535,
          42.016135842226866,
          41.88003685102686,
          43.66040008465665,
          43.13951167764416,
          44.781355007018135,
          44.795301389361285,
          47.73718054056692
         ],
         "yaxis": "y"
        },
        {
         "hovertemplate": "variable=Petróleo<br>0=%{x}<br>value=%{y}<extra></extra>",
         "legendgroup": "Petróleo",
         "line": {
          "color": "#1CBE4F",
          "dash": "solid",
          "shape": "spline"
         },
         "marker": {
          "size": 7,
          "symbol": "square"
         },
         "mode": "lines+markers",
         "name": "Petróleo",
         "orientation": "v",
         "showlegend": true,
         "type": "scatter",
         "x": [
          "janeiro 2021",
          "fevereiro 2021",
          "março 2021",
          "abril 2021",
          "maio 2021",
          "junho 2021",
          "julho 2021",
          "agosto 2021",
          "setembro 2021",
          "outubro 2021",
          "novembro 2021",
          "dezembro 2021",
          "janeiro 2022",
          "fevereiro 2022",
          "março 2022",
          "abril 2022",
          "maio 2022",
          "junho 2022",
          "julho 2022",
          "agosto 2022",
          "setembro 2022",
          "outubro 2022",
          "novembro 2022",
          "dezembro 2022",
          "janeiro 2023"
         ],
         "xaxis": "x",
         "y": [
          0,
          13.58,
          18.790000000000003,
          18.15,
          23.2,
          30.589999999999996,
          32.4,
          26.529999999999998,
          33.07,
          45.199999999999996,
          41.76,
          33.76,
          48.85999999999999,
          60.81999999999999,
          81.53,
          73.04,
          79.27000000000001,
          86.13000000000001,
          76.84,
          67.37,
          58.81000000000001,
          62.10000000000001,
          59.89000000000001,
          48.720000000000006,
          51.43000000000001
         ],
         "yaxis": "y"
        }
       ],
       "layout": {
        "height": 600,
        "legend": {
         "title": {
          "text": "Indicador"
         },
         "tracegroupgap": 0
        },
        "margin": {
         "t": 60
        },
        "template": {
         "data": {
          "bar": [
           {
            "error_x": {
             "color": "#2a3f5f"
            },
            "error_y": {
             "color": "#2a3f5f"
            },
            "marker": {
             "line": {
              "color": "#E5ECF6",
              "width": 0.5
             },
             "pattern": {
              "fillmode": "overlay",
              "size": 10,
              "solidity": 0.2
             }
            },
            "type": "bar"
           }
          ],
          "barpolar": [
           {
            "marker": {
             "line": {
              "color": "#E5ECF6",
              "width": 0.5
             },
             "pattern": {
              "fillmode": "overlay",
              "size": 10,
              "solidity": 0.2
             }
            },
            "type": "barpolar"
           }
          ],
          "carpet": [
           {
            "aaxis": {
             "endlinecolor": "#2a3f5f",
             "gridcolor": "white",
             "linecolor": "white",
             "minorgridcolor": "white",
             "startlinecolor": "#2a3f5f"
            },
            "baxis": {
             "endlinecolor": "#2a3f5f",
             "gridcolor": "white",
             "linecolor": "white",
             "minorgridcolor": "white",
             "startlinecolor": "#2a3f5f"
            },
            "type": "carpet"
           }
          ],
          "choropleth": [
           {
            "colorbar": {
             "outlinewidth": 0,
             "ticks": ""
            },
            "type": "choropleth"
           }
          ],
          "contour": [
           {
            "colorbar": {
             "outlinewidth": 0,
             "ticks": ""
            },
            "colorscale": [
             [
              0,
              "#0d0887"
             ],
             [
              0.1111111111111111,
              "#46039f"
             ],
             [
              0.2222222222222222,
              "#7201a8"
             ],
             [
              0.3333333333333333,
              "#9c179e"
             ],
             [
              0.4444444444444444,
              "#bd3786"
             ],
             [
              0.5555555555555556,
              "#d8576b"
             ],
             [
              0.6666666666666666,
              "#ed7953"
             ],
             [
              0.7777777777777778,
              "#fb9f3a"
             ],
             [
              0.8888888888888888,
              "#fdca26"
             ],
             [
              1,
              "#f0f921"
             ]
            ],
            "type": "contour"
           }
          ],
          "contourcarpet": [
           {
            "colorbar": {
             "outlinewidth": 0,
             "ticks": ""
            },
            "type": "contourcarpet"
           }
          ],
          "heatmap": [
           {
            "colorbar": {
             "outlinewidth": 0,
             "ticks": ""
            },
            "colorscale": [
             [
              0,
              "#0d0887"
             ],
             [
              0.1111111111111111,
              "#46039f"
             ],
             [
              0.2222222222222222,
              "#7201a8"
             ],
             [
              0.3333333333333333,
              "#9c179e"
             ],
             [
              0.4444444444444444,
              "#bd3786"
             ],
             [
              0.5555555555555556,
              "#d8576b"
             ],
             [
              0.6666666666666666,
              "#ed7953"
             ],
             [
              0.7777777777777778,
              "#fb9f3a"
             ],
             [
              0.8888888888888888,
              "#fdca26"
             ],
             [
              1,
              "#f0f921"
             ]
            ],
            "type": "heatmap"
           }
          ],
          "heatmapgl": [
           {
            "colorbar": {
             "outlinewidth": 0,
             "ticks": ""
            },
            "colorscale": [
             [
              0,
              "#0d0887"
             ],
             [
              0.1111111111111111,
              "#46039f"
             ],
             [
              0.2222222222222222,
              "#7201a8"
             ],
             [
              0.3333333333333333,
              "#9c179e"
             ],
             [
              0.4444444444444444,
              "#bd3786"
             ],
             [
              0.5555555555555556,
              "#d8576b"
             ],
             [
              0.6666666666666666,
              "#ed7953"
             ],
             [
              0.7777777777777778,
              "#fb9f3a"
             ],
             [
              0.8888888888888888,
              "#fdca26"
             ],
             [
              1,
              "#f0f921"
             ]
            ],
            "type": "heatmapgl"
           }
          ],
          "histogram": [
           {
            "marker": {
             "pattern": {
              "fillmode": "overlay",
              "size": 10,
              "solidity": 0.2
             }
            },
            "type": "histogram"
           }
          ],
          "histogram2d": [
           {
            "colorbar": {
             "outlinewidth": 0,
             "ticks": ""
            },
            "colorscale": [
             [
              0,
              "#0d0887"
             ],
             [
              0.1111111111111111,
              "#46039f"
             ],
             [
              0.2222222222222222,
              "#7201a8"
             ],
             [
              0.3333333333333333,
              "#9c179e"
             ],
             [
              0.4444444444444444,
              "#bd3786"
             ],
             [
              0.5555555555555556,
              "#d8576b"
             ],
             [
              0.6666666666666666,
              "#ed7953"
             ],
             [
              0.7777777777777778,
              "#fb9f3a"
             ],
             [
              0.8888888888888888,
              "#fdca26"
             ],
             [
              1,
              "#f0f921"
             ]
            ],
            "type": "histogram2d"
           }
          ],
          "histogram2dcontour": [
           {
            "colorbar": {
             "outlinewidth": 0,
             "ticks": ""
            },
            "colorscale": [
             [
              0,
              "#0d0887"
             ],
             [
              0.1111111111111111,
              "#46039f"
             ],
             [
              0.2222222222222222,
              "#7201a8"
             ],
             [
              0.3333333333333333,
              "#9c179e"
             ],
             [
              0.4444444444444444,
              "#bd3786"
             ],
             [
              0.5555555555555556,
              "#d8576b"
             ],
             [
              0.6666666666666666,
              "#ed7953"
             ],
             [
              0.7777777777777778,
              "#fb9f3a"
             ],
             [
              0.8888888888888888,
              "#fdca26"
             ],
             [
              1,
              "#f0f921"
             ]
            ],
            "type": "histogram2dcontour"
           }
          ],
          "mesh3d": [
           {
            "colorbar": {
             "outlinewidth": 0,
             "ticks": ""
            },
            "type": "mesh3d"
           }
          ],
          "parcoords": [
           {
            "line": {
             "colorbar": {
              "outlinewidth": 0,
              "ticks": ""
             }
            },
            "type": "parcoords"
           }
          ],
          "pie": [
           {
            "automargin": true,
            "type": "pie"
           }
          ],
          "scatter": [
           {
            "fillpattern": {
             "fillmode": "overlay",
             "size": 10,
             "solidity": 0.2
            },
            "type": "scatter"
           }
          ],
          "scatter3d": [
           {
            "line": {
             "colorbar": {
              "outlinewidth": 0,
              "ticks": ""
             }
            },
            "marker": {
             "colorbar": {
              "outlinewidth": 0,
              "ticks": ""
             }
            },
            "type": "scatter3d"
           }
          ],
          "scattercarpet": [
           {
            "marker": {
             "colorbar": {
              "outlinewidth": 0,
              "ticks": ""
             }
            },
            "type": "scattercarpet"
           }
          ],
          "scattergeo": [
           {
            "marker": {
             "colorbar": {
              "outlinewidth": 0,
              "ticks": ""
             }
            },
            "type": "scattergeo"
           }
          ],
          "scattergl": [
           {
            "marker": {
             "colorbar": {
              "outlinewidth": 0,
              "ticks": ""
             }
            },
            "type": "scattergl"
           }
          ],
          "scattermapbox": [
           {
            "marker": {
             "colorbar": {
              "outlinewidth": 0,
              "ticks": ""
             }
            },
            "type": "scattermapbox"
           }
          ],
          "scatterpolar": [
           {
            "marker": {
             "colorbar": {
              "outlinewidth": 0,
              "ticks": ""
             }
            },
            "type": "scatterpolar"
           }
          ],
          "scatterpolargl": [
           {
            "marker": {
             "colorbar": {
              "outlinewidth": 0,
              "ticks": ""
             }
            },
            "type": "scatterpolargl"
           }
          ],
          "scatterternary": [
           {
            "marker": {
             "colorbar": {
              "outlinewidth": 0,
              "ticks": ""
             }
            },
            "type": "scatterternary"
           }
          ],
          "surface": [
           {
            "colorbar": {
             "outlinewidth": 0,
             "ticks": ""
            },
            "colorscale": [
             [
              0,
              "#0d0887"
             ],
             [
              0.1111111111111111,
              "#46039f"
             ],
             [
              0.2222222222222222,
              "#7201a8"
             ],
             [
              0.3333333333333333,
              "#9c179e"
             ],
             [
              0.4444444444444444,
              "#bd3786"
             ],
             [
              0.5555555555555556,
              "#d8576b"
             ],
             [
              0.6666666666666666,
              "#ed7953"
             ],
             [
              0.7777777777777778,
              "#fb9f3a"
             ],
             [
              0.8888888888888888,
              "#fdca26"
             ],
             [
              1,
              "#f0f921"
             ]
            ],
            "type": "surface"
           }
          ],
          "table": [
           {
            "cells": {
             "fill": {
              "color": "#EBF0F8"
             },
             "line": {
              "color": "white"
             }
            },
            "header": {
             "fill": {
              "color": "#C8D4E3"
             },
             "line": {
              "color": "white"
             }
            },
            "type": "table"
           }
          ]
         },
         "layout": {
          "annotationdefaults": {
           "arrowcolor": "#2a3f5f",
           "arrowhead": 0,
           "arrowwidth": 1
          },
          "autotypenumbers": "strict",
          "coloraxis": {
           "colorbar": {
            "outlinewidth": 0,
            "ticks": ""
           }
          },
          "colorscale": {
           "diverging": [
            [
             0,
             "#8e0152"
            ],
            [
             0.1,
             "#c51b7d"
            ],
            [
             0.2,
             "#de77ae"
            ],
            [
             0.3,
             "#f1b6da"
            ],
            [
             0.4,
             "#fde0ef"
            ],
            [
             0.5,
             "#f7f7f7"
            ],
            [
             0.6,
             "#e6f5d0"
            ],
            [
             0.7,
             "#b8e186"
            ],
            [
             0.8,
             "#7fbc41"
            ],
            [
             0.9,
             "#4d9221"
            ],
            [
             1,
             "#276419"
            ]
           ],
           "sequential": [
            [
             0,
             "#0d0887"
            ],
            [
             0.1111111111111111,
             "#46039f"
            ],
            [
             0.2222222222222222,
             "#7201a8"
            ],
            [
             0.3333333333333333,
             "#9c179e"
            ],
            [
             0.4444444444444444,
             "#bd3786"
            ],
            [
             0.5555555555555556,
             "#d8576b"
            ],
            [
             0.6666666666666666,
             "#ed7953"
            ],
            [
             0.7777777777777778,
             "#fb9f3a"
            ],
            [
             0.8888888888888888,
             "#fdca26"
            ],
            [
             1,
             "#f0f921"
            ]
           ],
           "sequentialminus": [
            [
             0,
             "#0d0887"
            ],
            [
             0.1111111111111111,
             "#46039f"
            ],
            [
             0.2222222222222222,
             "#7201a8"
            ],
            [
             0.3333333333333333,
             "#9c179e"
            ],
            [
             0.4444444444444444,
             "#bd3786"
            ],
            [
             0.5555555555555556,
             "#d8576b"
            ],
            [
             0.6666666666666666,
             "#ed7953"
            ],
            [
             0.7777777777777778,
             "#fb9f3a"
            ],
            [
             0.8888888888888888,
             "#fdca26"
            ],
            [
             1,
             "#f0f921"
            ]
           ]
          },
          "colorway": [
           "#636efa",
           "#EF553B",
           "#00cc96",
           "#ab63fa",
           "#FFA15A",
           "#19d3f3",
           "#FF6692",
           "#B6E880",
           "#FF97FF",
           "#FECB52"
          ],
          "font": {
           "color": "#2a3f5f"
          },
          "geo": {
           "bgcolor": "white",
           "lakecolor": "white",
           "landcolor": "#E5ECF6",
           "showlakes": true,
           "showland": true,
           "subunitcolor": "white"
          },
          "hoverlabel": {
           "align": "left"
          },
          "hovermode": "closest",
          "mapbox": {
           "style": "light"
          },
          "paper_bgcolor": "white",
          "plot_bgcolor": "#E5ECF6",
          "polar": {
           "angularaxis": {
            "gridcolor": "white",
            "linecolor": "white",
            "ticks": ""
           },
           "bgcolor": "#E5ECF6",
           "radialaxis": {
            "gridcolor": "white",
            "linecolor": "white",
            "ticks": ""
           }
          },
          "scene": {
           "xaxis": {
            "backgroundcolor": "#E5ECF6",
            "gridcolor": "white",
            "gridwidth": 2,
            "linecolor": "white",
            "showbackground": true,
            "ticks": "",
            "zerolinecolor": "white"
           },
           "yaxis": {
            "backgroundcolor": "#E5ECF6",
            "gridcolor": "white",
            "gridwidth": 2,
            "linecolor": "white",
            "showbackground": true,
            "ticks": "",
            "zerolinecolor": "white"
           },
           "zaxis": {
            "backgroundcolor": "#E5ECF6",
            "gridcolor": "white",
            "gridwidth": 2,
            "linecolor": "white",
            "showbackground": true,
            "ticks": "",
            "zerolinecolor": "white"
           }
          },
          "shapedefaults": {
           "line": {
            "color": "#2a3f5f"
           }
          },
          "ternary": {
           "aaxis": {
            "gridcolor": "white",
            "linecolor": "white",
            "ticks": ""
           },
           "baxis": {
            "gridcolor": "white",
            "linecolor": "white",
            "ticks": ""
           },
           "bgcolor": "#E5ECF6",
           "caxis": {
            "gridcolor": "white",
            "linecolor": "white",
            "ticks": ""
           }
          },
          "title": {
           "x": 0.05
          },
          "xaxis": {
           "automargin": true,
           "gridcolor": "white",
           "linecolor": "white",
           "ticks": "",
           "title": {
            "standoff": 15
           },
           "zerolinecolor": "white",
           "zerolinewidth": 2
          },
          "yaxis": {
           "automargin": true,
           "gridcolor": "white",
           "linecolor": "white",
           "ticks": "",
           "title": {
            "standoff": 15
           },
           "zerolinecolor": "white",
           "zerolinewidth": 2
          }
         }
        },
        "title": {
         "text": "Comparação com o IPCA e Petróleo"
        },
        "width": 900,
        "xaxis": {
         "anchor": "y",
         "domain": [
          0,
          1
         ],
         "tickangle": 50,
         "title": {
          "text": "Data"
         }
        },
        "yaxis": {
         "anchor": "x",
         "domain": [
          0,
          1
         ],
         "title": {
          "text": "Aumento em %"
         }
        }
       }
      }
     },
     "metadata": {},
     "output_type": "display_data"
    }
   ],
   "source": [
    "ipca_acumulado = ipca.loc[\"IPCA\"].cumsum().astype(float)\n",
    "petroleo_acumulado = ((petroleo.loc[\"Taxa de variação\"].cumsum() - petroleo.iloc[0, 0])*100).astype(float)\n",
    "preco_perc = pd.Series((medias_data - medias_data[0])*100/(medias_data[0]))\n",
    "preco_perc.index = ipca_acumulado.index\n",
    "\n",
    "df_comparacoes = pd.concat([ipca_acumulado, preco_perc, petroleo_acumulado], axis=1)\n",
    "df_comparacoes.columns = [\"IPCA\", \"Preço dos Carros\", \"Petróleo\"]\n",
    "\n",
    "cores = [px.colors.qualitative.Alphabet[17], px.colors.qualitative.Alphabet[1], \n",
    "         px.colors.qualitative.Alphabet[9]]\n",
    "\n",
    "fig = px.line(df_comparacoes, x=df_comparacoes.index, y=df_comparacoes.columns, \n",
    "                line_shape=\"spline\", markers=True, color_discrete_sequence=cores)\n",
    "\n",
    "markers = [\"diamond\", \"hexagon\", \"square\"]\n",
    "i = 0 \n",
    "for d in fig.data:\n",
    "    d.marker.symbol = markers[i]\n",
    "    d.marker.size = 7\n",
    "    i += 1\n",
    "\n",
    "fig.update_layout(title='Comparação com o IPCA e Petróleo', xaxis_title='Data',\n",
    "                  yaxis_title='Aumento em %', width=900, height=600,\n",
    "                  legend_title=\"Indicador\")\n",
    "fig.update_xaxes(tickangle=50)\n",
    "\n",
    "fig.show()"
   ]
  },
  {
   "cell_type": "markdown",
   "metadata": {},
   "source": [
    "### *Combustível x Tamanho do Motor*"
   ]
  },
  {
   "cell_type": "code",
   "execution_count": 29,
   "metadata": {},
   "outputs": [
    {
     "data": {
      "application/vnd.plotly.v1+json": {
       "config": {
        "plotlyServerURL": "https://plot.ly"
       },
       "data": [
        {
         "domain": {
          "x": [
           0,
           1
          ],
          "y": [
           0,
           1
          ]
         },
         "hovertemplate": "Combustível=%{label}<br>Frequência=%{value}<extra></extra>",
         "labels": [
          "Gasoline",
          "Diesel",
          "Alcohol"
         ],
         "legendgroup": "",
         "name": "",
         "showlegend": true,
         "textinfo": "percent+label",
         "textposition": "inside",
         "type": "pie",
         "values": [
          493498,
          96147,
          9358
         ]
        }
       ],
       "layout": {
        "height": 500,
        "legend": {
         "tracegroupgap": 0
        },
        "piecolorway": [
         "#636EFA",
         "#EF553B",
         "#00CC96",
         "#AB63FA",
         "#FFA15A",
         "#19D3F3",
         "#FF6692",
         "#B6E880",
         "#FF97FF",
         "#FECB52"
        ],
        "template": {
         "data": {
          "pie": [
           {
            "automargin": true,
            "type": "pie"
           }
          ],
          "scatter": [
           {
            "line": {
             "width": 3
            },
            "marker": {
             "size": 9
            },
            "type": "scatter"
           }
          ],
          "scatter3d": [
           {
            "line": {
             "width": 3
            },
            "marker": {
             "size": 9
            },
            "type": "scatter3d"
           }
          ],
          "scattergeo": [
           {
            "line": {
             "width": 3
            },
            "marker": {
             "size": 9
            },
            "type": "scattergeo"
           }
          ],
          "scattergl": [
           {
            "line": {
             "width": 3
            },
            "marker": {
             "size": 9
            },
            "type": "scattergl"
           }
          ],
          "scatterpolar": [
           {
            "line": {
             "width": 3
            },
            "marker": {
             "size": 9
            },
            "type": "scatterpolar"
           }
          ],
          "scatterpolargl": [
           {
            "line": {
             "width": 3
            },
            "marker": {
             "size": 9
            },
            "type": "scatterpolargl"
           }
          ],
          "scatterternary": [
           {
            "line": {
             "width": 3
            },
            "marker": {
             "size": 9
            },
            "type": "scatterternary"
           }
          ],
          "table": [
           {
            "cells": {
             "height": 30
            },
            "header": {
             "height": 36
            },
            "type": "table"
           }
          ]
         },
         "layout": {
          "font": {
           "size": 18
          },
          "xaxis": {
           "title": {
            "standoff": 15
           }
          },
          "yaxis": {
           "title": {
            "standoff": 15
           }
          }
         }
        },
        "title": {
         "text": "Proporção de Combustíveis"
        },
        "width": 800
       }
      }
     },
     "metadata": {},
     "output_type": "display_data"
    }
   ],
   "source": [
    "df_combustivel = pd.DataFrame()\n",
    "df_combustivel[\"Combustível\"] = df[\"fuel\"].unique()\n",
    "df_combustivel[\"Frequência\"] = np.array(df[\"fuel\"].value_counts())\n",
    "\n",
    "cores = px.colors.qualitative.Plotly\n",
    "# cores = [px.colors.qualitative.Dark24[0], px.colors.qualitative.Set1[4], px.colors.qualitative.Alphabet[9]]\n",
    "fig = px.pie(df_combustivel, values = \"Frequência\", names = \"Combustível\", \n",
    "            title=\"Proporção de Combustíveis\", template=\"presentation\", \n",
    "            color_discrete_sequence=cores)\n",
    "fig.update_layout(width=800, height=500)\n",
    "fig.update_traces(textposition=\"inside\", textinfo=\"percent+label\")\n",
    "fig.show()"
   ]
  },
  {
   "cell_type": "code",
   "execution_count": 30,
   "metadata": {},
   "outputs": [
    {
     "data": {
      "application/vnd.plotly.v1+json": {
       "config": {
        "plotlyServerURL": "https://plot.ly"
       },
       "data": [
        {
         "alignmentgroup": "True",
         "hovertemplate": "Combustível=%{x}<br>Tamanho do Motor=%{y}<extra></extra>",
         "legendgroup": "Gasoline",
         "marker": {
          "color": "#636EFA",
          "pattern": {
           "shape": ""
          }
         },
         "name": "Gasoline",
         "offsetgroup": "Gasoline",
         "orientation": "v",
         "showlegend": true,
         "textposition": "auto",
         "type": "bar",
         "x": [
          "Gasoline"
         ],
         "xaxis": "x",
         "y": [
          2.182725360589101
         ],
         "yaxis": "y"
        },
        {
         "alignmentgroup": "True",
         "hovertemplate": "Combustível=%{x}<br>Tamanho do Motor=%{y}<extra></extra>",
         "legendgroup": "Diesel",
         "marker": {
          "color": "#EF553B",
          "pattern": {
           "shape": ""
          }
         },
         "name": "Diesel",
         "offsetgroup": "Diesel",
         "orientation": "v",
         "showlegend": true,
         "textposition": "auto",
         "type": "bar",
         "x": [
          "Diesel"
         ],
         "xaxis": "x",
         "y": [
          2.7559289421406805
         ],
         "yaxis": "y"
        },
        {
         "alignmentgroup": "True",
         "hovertemplate": "Combustível=%{x}<br>Tamanho do Motor=%{y}<extra></extra>",
         "legendgroup": "Alcohol",
         "marker": {
          "color": "#00CC96",
          "pattern": {
           "shape": ""
          }
         },
         "name": "Alcohol",
         "offsetgroup": "Alcohol",
         "orientation": "v",
         "showlegend": true,
         "textposition": "auto",
         "type": "bar",
         "x": [
          "Alcohol"
         ],
         "xaxis": "x",
         "y": [
          1.6713186578328703
         ],
         "yaxis": "y"
        }
       ],
       "layout": {
        "barmode": "relative",
        "height": 500,
        "legend": {
         "title": {
          "text": "Combustível"
         },
         "tracegroupgap": 0
        },
        "showlegend": false,
        "template": {
         "data": {
          "bar": [
           {
            "error_x": {
             "color": "#2a3f5f"
            },
            "error_y": {
             "color": "#2a3f5f"
            },
            "marker": {
             "line": {
              "color": "#E5ECF6",
              "width": 0.5
             },
             "pattern": {
              "fillmode": "overlay",
              "size": 10,
              "solidity": 0.2
             }
            },
            "type": "bar"
           }
          ],
          "barpolar": [
           {
            "marker": {
             "line": {
              "color": "#E5ECF6",
              "width": 0.5
             },
             "pattern": {
              "fillmode": "overlay",
              "size": 10,
              "solidity": 0.2
             }
            },
            "type": "barpolar"
           }
          ],
          "carpet": [
           {
            "aaxis": {
             "endlinecolor": "#2a3f5f",
             "gridcolor": "white",
             "linecolor": "white",
             "minorgridcolor": "white",
             "startlinecolor": "#2a3f5f"
            },
            "baxis": {
             "endlinecolor": "#2a3f5f",
             "gridcolor": "white",
             "linecolor": "white",
             "minorgridcolor": "white",
             "startlinecolor": "#2a3f5f"
            },
            "type": "carpet"
           }
          ],
          "choropleth": [
           {
            "colorbar": {
             "outlinewidth": 0,
             "ticks": ""
            },
            "type": "choropleth"
           }
          ],
          "contour": [
           {
            "colorbar": {
             "outlinewidth": 0,
             "ticks": ""
            },
            "colorscale": [
             [
              0,
              "#0d0887"
             ],
             [
              0.1111111111111111,
              "#46039f"
             ],
             [
              0.2222222222222222,
              "#7201a8"
             ],
             [
              0.3333333333333333,
              "#9c179e"
             ],
             [
              0.4444444444444444,
              "#bd3786"
             ],
             [
              0.5555555555555556,
              "#d8576b"
             ],
             [
              0.6666666666666666,
              "#ed7953"
             ],
             [
              0.7777777777777778,
              "#fb9f3a"
             ],
             [
              0.8888888888888888,
              "#fdca26"
             ],
             [
              1,
              "#f0f921"
             ]
            ],
            "type": "contour"
           }
          ],
          "contourcarpet": [
           {
            "colorbar": {
             "outlinewidth": 0,
             "ticks": ""
            },
            "type": "contourcarpet"
           }
          ],
          "heatmap": [
           {
            "colorbar": {
             "outlinewidth": 0,
             "ticks": ""
            },
            "colorscale": [
             [
              0,
              "#0d0887"
             ],
             [
              0.1111111111111111,
              "#46039f"
             ],
             [
              0.2222222222222222,
              "#7201a8"
             ],
             [
              0.3333333333333333,
              "#9c179e"
             ],
             [
              0.4444444444444444,
              "#bd3786"
             ],
             [
              0.5555555555555556,
              "#d8576b"
             ],
             [
              0.6666666666666666,
              "#ed7953"
             ],
             [
              0.7777777777777778,
              "#fb9f3a"
             ],
             [
              0.8888888888888888,
              "#fdca26"
             ],
             [
              1,
              "#f0f921"
             ]
            ],
            "type": "heatmap"
           }
          ],
          "heatmapgl": [
           {
            "colorbar": {
             "outlinewidth": 0,
             "ticks": ""
            },
            "colorscale": [
             [
              0,
              "#0d0887"
             ],
             [
              0.1111111111111111,
              "#46039f"
             ],
             [
              0.2222222222222222,
              "#7201a8"
             ],
             [
              0.3333333333333333,
              "#9c179e"
             ],
             [
              0.4444444444444444,
              "#bd3786"
             ],
             [
              0.5555555555555556,
              "#d8576b"
             ],
             [
              0.6666666666666666,
              "#ed7953"
             ],
             [
              0.7777777777777778,
              "#fb9f3a"
             ],
             [
              0.8888888888888888,
              "#fdca26"
             ],
             [
              1,
              "#f0f921"
             ]
            ],
            "type": "heatmapgl"
           }
          ],
          "histogram": [
           {
            "marker": {
             "pattern": {
              "fillmode": "overlay",
              "size": 10,
              "solidity": 0.2
             }
            },
            "type": "histogram"
           }
          ],
          "histogram2d": [
           {
            "colorbar": {
             "outlinewidth": 0,
             "ticks": ""
            },
            "colorscale": [
             [
              0,
              "#0d0887"
             ],
             [
              0.1111111111111111,
              "#46039f"
             ],
             [
              0.2222222222222222,
              "#7201a8"
             ],
             [
              0.3333333333333333,
              "#9c179e"
             ],
             [
              0.4444444444444444,
              "#bd3786"
             ],
             [
              0.5555555555555556,
              "#d8576b"
             ],
             [
              0.6666666666666666,
              "#ed7953"
             ],
             [
              0.7777777777777778,
              "#fb9f3a"
             ],
             [
              0.8888888888888888,
              "#fdca26"
             ],
             [
              1,
              "#f0f921"
             ]
            ],
            "type": "histogram2d"
           }
          ],
          "histogram2dcontour": [
           {
            "colorbar": {
             "outlinewidth": 0,
             "ticks": ""
            },
            "colorscale": [
             [
              0,
              "#0d0887"
             ],
             [
              0.1111111111111111,
              "#46039f"
             ],
             [
              0.2222222222222222,
              "#7201a8"
             ],
             [
              0.3333333333333333,
              "#9c179e"
             ],
             [
              0.4444444444444444,
              "#bd3786"
             ],
             [
              0.5555555555555556,
              "#d8576b"
             ],
             [
              0.6666666666666666,
              "#ed7953"
             ],
             [
              0.7777777777777778,
              "#fb9f3a"
             ],
             [
              0.8888888888888888,
              "#fdca26"
             ],
             [
              1,
              "#f0f921"
             ]
            ],
            "type": "histogram2dcontour"
           }
          ],
          "mesh3d": [
           {
            "colorbar": {
             "outlinewidth": 0,
             "ticks": ""
            },
            "type": "mesh3d"
           }
          ],
          "parcoords": [
           {
            "line": {
             "colorbar": {
              "outlinewidth": 0,
              "ticks": ""
             }
            },
            "type": "parcoords"
           }
          ],
          "pie": [
           {
            "automargin": true,
            "type": "pie"
           }
          ],
          "scatter": [
           {
            "fillpattern": {
             "fillmode": "overlay",
             "size": 10,
             "solidity": 0.2
            },
            "type": "scatter"
           }
          ],
          "scatter3d": [
           {
            "line": {
             "colorbar": {
              "outlinewidth": 0,
              "ticks": ""
             }
            },
            "marker": {
             "colorbar": {
              "outlinewidth": 0,
              "ticks": ""
             }
            },
            "type": "scatter3d"
           }
          ],
          "scattercarpet": [
           {
            "marker": {
             "colorbar": {
              "outlinewidth": 0,
              "ticks": ""
             }
            },
            "type": "scattercarpet"
           }
          ],
          "scattergeo": [
           {
            "marker": {
             "colorbar": {
              "outlinewidth": 0,
              "ticks": ""
             }
            },
            "type": "scattergeo"
           }
          ],
          "scattergl": [
           {
            "marker": {
             "colorbar": {
              "outlinewidth": 0,
              "ticks": ""
             }
            },
            "type": "scattergl"
           }
          ],
          "scattermapbox": [
           {
            "marker": {
             "colorbar": {
              "outlinewidth": 0,
              "ticks": ""
             }
            },
            "type": "scattermapbox"
           }
          ],
          "scatterpolar": [
           {
            "marker": {
             "colorbar": {
              "outlinewidth": 0,
              "ticks": ""
             }
            },
            "type": "scatterpolar"
           }
          ],
          "scatterpolargl": [
           {
            "marker": {
             "colorbar": {
              "outlinewidth": 0,
              "ticks": ""
             }
            },
            "type": "scatterpolargl"
           }
          ],
          "scatterternary": [
           {
            "marker": {
             "colorbar": {
              "outlinewidth": 0,
              "ticks": ""
             }
            },
            "type": "scatterternary"
           }
          ],
          "surface": [
           {
            "colorbar": {
             "outlinewidth": 0,
             "ticks": ""
            },
            "colorscale": [
             [
              0,
              "#0d0887"
             ],
             [
              0.1111111111111111,
              "#46039f"
             ],
             [
              0.2222222222222222,
              "#7201a8"
             ],
             [
              0.3333333333333333,
              "#9c179e"
             ],
             [
              0.4444444444444444,
              "#bd3786"
             ],
             [
              0.5555555555555556,
              "#d8576b"
             ],
             [
              0.6666666666666666,
              "#ed7953"
             ],
             [
              0.7777777777777778,
              "#fb9f3a"
             ],
             [
              0.8888888888888888,
              "#fdca26"
             ],
             [
              1,
              "#f0f921"
             ]
            ],
            "type": "surface"
           }
          ],
          "table": [
           {
            "cells": {
             "fill": {
              "color": "#EBF0F8"
             },
             "line": {
              "color": "white"
             }
            },
            "header": {
             "fill": {
              "color": "#C8D4E3"
             },
             "line": {
              "color": "white"
             }
            },
            "type": "table"
           }
          ]
         },
         "layout": {
          "annotationdefaults": {
           "arrowcolor": "#2a3f5f",
           "arrowhead": 0,
           "arrowwidth": 1
          },
          "autotypenumbers": "strict",
          "coloraxis": {
           "colorbar": {
            "outlinewidth": 0,
            "ticks": ""
           }
          },
          "colorscale": {
           "diverging": [
            [
             0,
             "#8e0152"
            ],
            [
             0.1,
             "#c51b7d"
            ],
            [
             0.2,
             "#de77ae"
            ],
            [
             0.3,
             "#f1b6da"
            ],
            [
             0.4,
             "#fde0ef"
            ],
            [
             0.5,
             "#f7f7f7"
            ],
            [
             0.6,
             "#e6f5d0"
            ],
            [
             0.7,
             "#b8e186"
            ],
            [
             0.8,
             "#7fbc41"
            ],
            [
             0.9,
             "#4d9221"
            ],
            [
             1,
             "#276419"
            ]
           ],
           "sequential": [
            [
             0,
             "#0d0887"
            ],
            [
             0.1111111111111111,
             "#46039f"
            ],
            [
             0.2222222222222222,
             "#7201a8"
            ],
            [
             0.3333333333333333,
             "#9c179e"
            ],
            [
             0.4444444444444444,
             "#bd3786"
            ],
            [
             0.5555555555555556,
             "#d8576b"
            ],
            [
             0.6666666666666666,
             "#ed7953"
            ],
            [
             0.7777777777777778,
             "#fb9f3a"
            ],
            [
             0.8888888888888888,
             "#fdca26"
            ],
            [
             1,
             "#f0f921"
            ]
           ],
           "sequentialminus": [
            [
             0,
             "#0d0887"
            ],
            [
             0.1111111111111111,
             "#46039f"
            ],
            [
             0.2222222222222222,
             "#7201a8"
            ],
            [
             0.3333333333333333,
             "#9c179e"
            ],
            [
             0.4444444444444444,
             "#bd3786"
            ],
            [
             0.5555555555555556,
             "#d8576b"
            ],
            [
             0.6666666666666666,
             "#ed7953"
            ],
            [
             0.7777777777777778,
             "#fb9f3a"
            ],
            [
             0.8888888888888888,
             "#fdca26"
            ],
            [
             1,
             "#f0f921"
            ]
           ]
          },
          "colorway": [
           "#636efa",
           "#EF553B",
           "#00cc96",
           "#ab63fa",
           "#FFA15A",
           "#19d3f3",
           "#FF6692",
           "#B6E880",
           "#FF97FF",
           "#FECB52"
          ],
          "font": {
           "color": "#2a3f5f"
          },
          "geo": {
           "bgcolor": "white",
           "lakecolor": "white",
           "landcolor": "#E5ECF6",
           "showlakes": true,
           "showland": true,
           "subunitcolor": "white"
          },
          "hoverlabel": {
           "align": "left"
          },
          "hovermode": "closest",
          "mapbox": {
           "style": "light"
          },
          "paper_bgcolor": "white",
          "plot_bgcolor": "#E5ECF6",
          "polar": {
           "angularaxis": {
            "gridcolor": "white",
            "linecolor": "white",
            "ticks": ""
           },
           "bgcolor": "#E5ECF6",
           "radialaxis": {
            "gridcolor": "white",
            "linecolor": "white",
            "ticks": ""
           }
          },
          "scene": {
           "xaxis": {
            "backgroundcolor": "#E5ECF6",
            "gridcolor": "white",
            "gridwidth": 2,
            "linecolor": "white",
            "showbackground": true,
            "ticks": "",
            "zerolinecolor": "white"
           },
           "yaxis": {
            "backgroundcolor": "#E5ECF6",
            "gridcolor": "white",
            "gridwidth": 2,
            "linecolor": "white",
            "showbackground": true,
            "ticks": "",
            "zerolinecolor": "white"
           },
           "zaxis": {
            "backgroundcolor": "#E5ECF6",
            "gridcolor": "white",
            "gridwidth": 2,
            "linecolor": "white",
            "showbackground": true,
            "ticks": "",
            "zerolinecolor": "white"
           }
          },
          "shapedefaults": {
           "line": {
            "color": "#2a3f5f"
           }
          },
          "ternary": {
           "aaxis": {
            "gridcolor": "white",
            "linecolor": "white",
            "ticks": ""
           },
           "baxis": {
            "gridcolor": "white",
            "linecolor": "white",
            "ticks": ""
           },
           "bgcolor": "#E5ECF6",
           "caxis": {
            "gridcolor": "white",
            "linecolor": "white",
            "ticks": ""
           }
          },
          "title": {
           "x": 0.05
          },
          "xaxis": {
           "automargin": true,
           "gridcolor": "white",
           "linecolor": "white",
           "ticks": "",
           "title": {
            "standoff": 15
           },
           "zerolinecolor": "white",
           "zerolinewidth": 2
          },
          "yaxis": {
           "automargin": true,
           "gridcolor": "white",
           "linecolor": "white",
           "ticks": "",
           "title": {
            "standoff": 15
           },
           "zerolinecolor": "white",
           "zerolinewidth": 2
          }
         }
        },
        "title": {
         "text": "Média do Tamanho do Motor"
        },
        "width": 800,
        "xaxis": {
         "anchor": "y",
         "categoryarray": [
          "Gasoline",
          "Diesel",
          "Alcohol"
         ],
         "categoryorder": "array",
         "domain": [
          0,
          1
         ],
         "title": {
          "text": "Combustível"
         }
        },
        "yaxis": {
         "anchor": "x",
         "domain": [
          0,
          1
         ],
         "title": {
          "text": "Tamanho do Motor"
         }
        }
       }
      }
     },
     "metadata": {},
     "output_type": "display_data"
    }
   ],
   "source": [
    "df_combustivel[\"Tamanho do Motor\"] = np.flip(np.array(df.groupby(\"fuel\")[\"engine_size\"].mean()))\n",
    "fig = px.bar(df_combustivel, \"Combustível\", \"Tamanho do Motor\", title=\"Média do Tamanho do Motor\",\n",
    "             color=\"Combustível\", color_discrete_sequence=cores)\n",
    "fig.update_layout(width=800, height=500, showlegend=False)\n",
    "fig.show()"
   ]
  },
  {
   "cell_type": "code",
   "execution_count": 31,
   "metadata": {},
   "outputs": [
    {
     "data": {
      "image/png": "[encoded data removed]",
      "text/plain": [
       "<Figure size 1200x700 with 1 Axes>"
      ]
     },
     "metadata": {},
     "output_type": "display_data"
    }
   ],
   "source": [
    "plt.figure(figsize=(12, 7))\n",
    "sns.histplot(df, x=\"engine_size\", bins=30, hue=\"fuel\", stat=\"probability\", multiple=\"stack\",\n",
    "             palette=px.colors.qualitative.Plotly[:3], alpha=0.7, kde=True)\n",
    "\n",
    "plt.title(\"Distribuição do Tamanho dos Motores\")\n",
    "plt.ylabel(\"Frequência Relativa\")\n",
    "plt.xlabel(\"Tamanho do Motor\")\n",
    "\n",
    "Alcohol = mlines.Line2D([], [], color=px.colors.qualitative.Plotly[2], marker='s', linestyle='None',\n",
    "                        markersize=12, label='Alcohol')\n",
    "Diesel = mlines.Line2D([], [], color=px.colors.qualitative.Plotly[1], marker='s', linestyle='None',\n",
    "                       markersize=12, label='Diesel')\n",
    "Gasoline = mlines.Line2D([], [], color=px.colors.qualitative.Plotly[0], marker='s',\n",
    "                         linestyle='None', markersize=12, label='Gasoline')\n",
    "\n",
    "plt.legend(handles=[Alcohol, Diesel, Gasoline], title=\"Combustível\", title_fontsize=\"x-large\",\n",
    "           fontsize=\"x-large\")\n",
    "plt.show()"
   ]
  },
  {
   "cell_type": "markdown",
   "metadata": {},
   "source": [
    "## *Marcas Famosas x Preço Médio*"
   ]
  },
  {
   "cell_type": "code",
   "execution_count": 32,
   "metadata": {},
   "outputs": [
    {
     "data": {
      "application/vnd.plotly.v1+json": {
       "config": {
        "plotlyServerURL": "https://plot.ly"
       },
       "data": [
        {
         "name": "Preço Médio",
         "type": "bar",
         "x": [
          "BMW",
          "Ferrari",
          "Ford",
          "GM - Chevrolet",
          "Honda",
          "Jeep",
          "Mclaren",
          "Mercedes-Benz",
          "Toyota",
          "VW - VolksWagen"
         ],
         "xaxis": "x",
         "y": [
          218673.04938927243,
          2688672.7816436714,
          44885.51482071713,
          48148.18934300796,
          60428.96012529631,
          125816.03265750442,
          2962461.6656934307,
          227130.0918236896,
          84380.74963513958,
          38929.791782276574
         ],
         "yaxis": "y"
        },
        {
         "name": "Quantidade de Modelos",
         "type": "bar",
         "x": [
          "BMW",
          "Ferrari",
          "Ford",
          "GM - Chevrolet",
          "Honda",
          "Jeep",
          "Mclaren",
          "Mercedes-Benz",
          "Toyota",
          "VW - VolksWagen"
         ],
         "xaxis": "x2",
         "y": [
          236,
          23,
          442,
          513,
          96,
          93,
          10,
          396,
          204,
          503
         ],
         "yaxis": "y2"
        }
       ],
       "layout": {
        "annotations": [
         {
          "font": {
           "size": 15
          },
          "showarrow": false,
          "text": "Preço Médio",
          "x": 0.18,
          "xref": "paper",
          "y": 1.1,
          "yref": "paper"
         },
         {
          "showarrow": false,
          "text": "Quantidade de Modelos",
          "x": 0.82,
          "xref": "paper",
          "y": 1.1,
          "yref": "paper"
         }
        ],
        "font": {
         "size": 15
        },
        "showlegend": false,
        "template": {
         "data": {
          "bar": [
           {
            "error_x": {
             "color": "#2a3f5f"
            },
            "error_y": {
             "color": "#2a3f5f"
            },
            "marker": {
             "line": {
              "color": "#E5ECF6",
              "width": 0.5
             },
             "pattern": {
              "fillmode": "overlay",
              "size": 10,
              "solidity": 0.2
             }
            },
            "type": "bar"
           }
          ],
          "barpolar": [
           {
            "marker": {
             "line": {
              "color": "#E5ECF6",
              "width": 0.5
             },
             "pattern": {
              "fillmode": "overlay",
              "size": 10,
              "solidity": 0.2
             }
            },
            "type": "barpolar"
           }
          ],
          "carpet": [
           {
            "aaxis": {
             "endlinecolor": "#2a3f5f",
             "gridcolor": "white",
             "linecolor": "white",
             "minorgridcolor": "white",
             "startlinecolor": "#2a3f5f"
            },
            "baxis": {
             "endlinecolor": "#2a3f5f",
             "gridcolor": "white",
             "linecolor": "white",
             "minorgridcolor": "white",
             "startlinecolor": "#2a3f5f"
            },
            "type": "carpet"
           }
          ],
          "choropleth": [
           {
            "colorbar": {
             "outlinewidth": 0,
             "ticks": ""
            },
            "type": "choropleth"
           }
          ],
          "contour": [
           {
            "colorbar": {
             "outlinewidth": 0,
             "ticks": ""
            },
            "colorscale": [
             [
              0,
              "#0d0887"
             ],
             [
              0.1111111111111111,
              "#46039f"
             ],
             [
              0.2222222222222222,
              "#7201a8"
             ],
             [
              0.3333333333333333,
              "#9c179e"
             ],
             [
              0.4444444444444444,
              "#bd3786"
             ],
             [
              0.5555555555555556,
              "#d8576b"
             ],
             [
              0.6666666666666666,
              "#ed7953"
             ],
             [
              0.7777777777777778,
              "#fb9f3a"
             ],
             [
              0.8888888888888888,
              "#fdca26"
             ],
             [
              1,
              "#f0f921"
             ]
            ],
            "type": "contour"
           }
          ],
          "contourcarpet": [
           {
            "colorbar": {
             "outlinewidth": 0,
             "ticks": ""
            },
            "type": "contourcarpet"
           }
          ],
          "heatmap": [
           {
            "colorbar": {
             "outlinewidth": 0,
             "ticks": ""
            },
            "colorscale": [
             [
              0,
              "#0d0887"
             ],
             [
              0.1111111111111111,
              "#46039f"
             ],
             [
              0.2222222222222222,
              "#7201a8"
             ],
             [
              0.3333333333333333,
              "#9c179e"
             ],
             [
              0.4444444444444444,
              "#bd3786"
             ],
             [
              0.5555555555555556,
              "#d8576b"
             ],
             [
              0.6666666666666666,
              "#ed7953"
             ],
             [
              0.7777777777777778,
              "#fb9f3a"
             ],
             [
              0.8888888888888888,
              "#fdca26"
             ],
             [
              1,
              "#f0f921"
             ]
            ],
            "type": "heatmap"
           }
          ],
          "heatmapgl": [
           {
            "colorbar": {
             "outlinewidth": 0,
             "ticks": ""
            },
            "colorscale": [
             [
              0,
              "#0d0887"
             ],
             [
              0.1111111111111111,
              "#46039f"
             ],
             [
              0.2222222222222222,
              "#7201a8"
             ],
             [
              0.3333333333333333,
              "#9c179e"
             ],
             [
              0.4444444444444444,
              "#bd3786"
             ],
             [
              0.5555555555555556,
              "#d8576b"
             ],
             [
              0.6666666666666666,
              "#ed7953"
             ],
             [
              0.7777777777777778,
              "#fb9f3a"
             ],
             [
              0.8888888888888888,
              "#fdca26"
             ],
             [
              1,
              "#f0f921"
             ]
            ],
            "type": "heatmapgl"
           }
          ],
          "histogram": [
           {
            "marker": {
             "pattern": {
              "fillmode": "overlay",
              "size": 10,
              "solidity": 0.2
             }
            },
            "type": "histogram"
           }
          ],
          "histogram2d": [
           {
            "colorbar": {
             "outlinewidth": 0,
             "ticks": ""
            },
            "colorscale": [
             [
              0,
              "#0d0887"
             ],
             [
              0.1111111111111111,
              "#46039f"
             ],
             [
              0.2222222222222222,
              "#7201a8"
             ],
             [
              0.3333333333333333,
              "#9c179e"
             ],
             [
              0.4444444444444444,
              "#bd3786"
             ],
             [
              0.5555555555555556,
              "#d8576b"
             ],
             [
              0.6666666666666666,
              "#ed7953"
             ],
             [
              0.7777777777777778,
              "#fb9f3a"
             ],
             [
              0.8888888888888888,
              "#fdca26"
             ],
             [
              1,
              "#f0f921"
             ]
            ],
            "type": "histogram2d"
           }
          ],
          "histogram2dcontour": [
           {
            "colorbar": {
             "outlinewidth": 0,
             "ticks": ""
            },
            "colorscale": [
             [
              0,
              "#0d0887"
             ],
             [
              0.1111111111111111,
              "#46039f"
             ],
             [
              0.2222222222222222,
              "#7201a8"
             ],
             [
              0.3333333333333333,
              "#9c179e"
             ],
             [
              0.4444444444444444,
              "#bd3786"
             ],
             [
              0.5555555555555556,
              "#d8576b"
             ],
             [
              0.6666666666666666,
              "#ed7953"
             ],
             [
              0.7777777777777778,
              "#fb9f3a"
             ],
             [
              0.8888888888888888,
              "#fdca26"
             ],
             [
              1,
              "#f0f921"
             ]
            ],
            "type": "histogram2dcontour"
           }
          ],
          "mesh3d": [
           {
            "colorbar": {
             "outlinewidth": 0,
             "ticks": ""
            },
            "type": "mesh3d"
           }
          ],
          "parcoords": [
           {
            "line": {
             "colorbar": {
              "outlinewidth": 0,
              "ticks": ""
             }
            },
            "type": "parcoords"
           }
          ],
          "pie": [
           {
            "automargin": true,
            "type": "pie"
           }
          ],
          "scatter": [
           {
            "fillpattern": {
             "fillmode": "overlay",
             "size": 10,
             "solidity": 0.2
            },
            "type": "scatter"
           }
          ],
          "scatter3d": [
           {
            "line": {
             "colorbar": {
              "outlinewidth": 0,
              "ticks": ""
             }
            },
            "marker": {
             "colorbar": {
              "outlinewidth": 0,
              "ticks": ""
             }
            },
            "type": "scatter3d"
           }
          ],
          "scattercarpet": [
           {
            "marker": {
             "colorbar": {
              "outlinewidth": 0,
              "ticks": ""
             }
            },
            "type": "scattercarpet"
           }
          ],
          "scattergeo": [
           {
            "marker": {
             "colorbar": {
              "outlinewidth": 0,
              "ticks": ""
             }
            },
            "type": "scattergeo"
           }
          ],
          "scattergl": [
           {
            "marker": {
             "colorbar": {
              "outlinewidth": 0,
              "ticks": ""
             }
            },
            "type": "scattergl"
           }
          ],
          "scattermapbox": [
           {
            "marker": {
             "colorbar": {
              "outlinewidth": 0,
              "ticks": ""
             }
            },
            "type": "scattermapbox"
           }
          ],
          "scatterpolar": [
           {
            "marker": {
             "colorbar": {
              "outlinewidth": 0,
              "ticks": ""
             }
            },
            "type": "scatterpolar"
           }
          ],
          "scatterpolargl": [
           {
            "marker": {
             "colorbar": {
              "outlinewidth": 0,
              "ticks": ""
             }
            },
            "type": "scatterpolargl"
           }
          ],
          "scatterternary": [
           {
            "marker": {
             "colorbar": {
              "outlinewidth": 0,
              "ticks": ""
             }
            },
            "type": "scatterternary"
           }
          ],
          "surface": [
           {
            "colorbar": {
             "outlinewidth": 0,
             "ticks": ""
            },
            "colorscale": [
             [
              0,
              "#0d0887"
             ],
             [
              0.1111111111111111,
              "#46039f"
             ],
             [
              0.2222222222222222,
              "#7201a8"
             ],
             [
              0.3333333333333333,
              "#9c179e"
             ],
             [
              0.4444444444444444,
              "#bd3786"
             ],
             [
              0.5555555555555556,
              "#d8576b"
             ],
             [
              0.6666666666666666,
              "#ed7953"
             ],
             [
              0.7777777777777778,
              "#fb9f3a"
             ],
             [
              0.8888888888888888,
              "#fdca26"
             ],
             [
              1,
              "#f0f921"
             ]
            ],
            "type": "surface"
           }
          ],
          "table": [
           {
            "cells": {
             "fill": {
              "color": "#EBF0F8"
             },
             "line": {
              "color": "white"
             }
            },
            "header": {
             "fill": {
              "color": "#C8D4E3"
             },
             "line": {
              "color": "white"
             }
            },
            "type": "table"
           }
          ]
         },
         "layout": {
          "annotationdefaults": {
           "arrowcolor": "#2a3f5f",
           "arrowhead": 0,
           "arrowwidth": 1
          },
          "autotypenumbers": "strict",
          "coloraxis": {
           "colorbar": {
            "outlinewidth": 0,
            "ticks": ""
           }
          },
          "colorscale": {
           "diverging": [
            [
             0,
             "#8e0152"
            ],
            [
             0.1,
             "#c51b7d"
            ],
            [
             0.2,
             "#de77ae"
            ],
            [
             0.3,
             "#f1b6da"
            ],
            [
             0.4,
             "#fde0ef"
            ],
            [
             0.5,
             "#f7f7f7"
            ],
            [
             0.6,
             "#e6f5d0"
            ],
            [
             0.7,
             "#b8e186"
            ],
            [
             0.8,
             "#7fbc41"
            ],
            [
             0.9,
             "#4d9221"
            ],
            [
             1,
             "#276419"
            ]
           ],
           "sequential": [
            [
             0,
             "#0d0887"
            ],
            [
             0.1111111111111111,
             "#46039f"
            ],
            [
             0.2222222222222222,
             "#7201a8"
            ],
            [
             0.3333333333333333,
             "#9c179e"
            ],
            [
             0.4444444444444444,
             "#bd3786"
            ],
            [
             0.5555555555555556,
             "#d8576b"
            ],
            [
             0.6666666666666666,
             "#ed7953"
            ],
            [
             0.7777777777777778,
             "#fb9f3a"
            ],
            [
             0.8888888888888888,
             "#fdca26"
            ],
            [
             1,
             "#f0f921"
            ]
           ],
           "sequentialminus": [
            [
             0,
             "#0d0887"
            ],
            [
             0.1111111111111111,
             "#46039f"
            ],
            [
             0.2222222222222222,
             "#7201a8"
            ],
            [
             0.3333333333333333,
             "#9c179e"
            ],
            [
             0.4444444444444444,
             "#bd3786"
            ],
            [
             0.5555555555555556,
             "#d8576b"
            ],
            [
             0.6666666666666666,
             "#ed7953"
            ],
            [
             0.7777777777777778,
             "#fb9f3a"
            ],
            [
             0.8888888888888888,
             "#fdca26"
            ],
            [
             1,
             "#f0f921"
            ]
           ]
          },
          "colorway": [
           "#636efa",
           "#EF553B",
           "#00cc96",
           "#ab63fa",
           "#FFA15A",
           "#19d3f3",
           "#FF6692",
           "#B6E880",
           "#FF97FF",
           "#FECB52"
          ],
          "font": {
           "color": "#2a3f5f"
          },
          "geo": {
           "bgcolor": "white",
           "lakecolor": "white",
           "landcolor": "#E5ECF6",
           "showlakes": true,
           "showland": true,
           "subunitcolor": "white"
          },
          "hoverlabel": {
           "align": "left"
          },
          "hovermode": "closest",
          "mapbox": {
           "style": "light"
          },
          "paper_bgcolor": "white",
          "plot_bgcolor": "#E5ECF6",
          "polar": {
           "angularaxis": {
            "gridcolor": "white",
            "linecolor": "white",
            "ticks": ""
           },
           "bgcolor": "#E5ECF6",
           "radialaxis": {
            "gridcolor": "white",
            "linecolor": "white",
            "ticks": ""
           }
          },
          "scene": {
           "xaxis": {
            "backgroundcolor": "#E5ECF6",
            "gridcolor": "white",
            "gridwidth": 2,
            "linecolor": "white",
            "showbackground": true,
            "ticks": "",
            "zerolinecolor": "white"
           },
           "yaxis": {
            "backgroundcolor": "#E5ECF6",
            "gridcolor": "white",
            "gridwidth": 2,
            "linecolor": "white",
            "showbackground": true,
            "ticks": "",
            "zerolinecolor": "white"
           },
           "zaxis": {
            "backgroundcolor": "#E5ECF6",
            "gridcolor": "white",
            "gridwidth": 2,
            "linecolor": "white",
            "showbackground": true,
            "ticks": "",
            "zerolinecolor": "white"
           }
          },
          "shapedefaults": {
           "line": {
            "color": "#2a3f5f"
           }
          },
          "ternary": {
           "aaxis": {
            "gridcolor": "white",
            "linecolor": "white",
            "ticks": ""
           },
           "baxis": {
            "gridcolor": "white",
            "linecolor": "white",
            "ticks": ""
           },
           "bgcolor": "#E5ECF6",
           "caxis": {
            "gridcolor": "white",
            "linecolor": "white",
            "ticks": ""
           }
          },
          "title": {
           "x": 0.05
          },
          "xaxis": {
           "automargin": true,
           "gridcolor": "white",
           "linecolor": "white",
           "ticks": "",
           "title": {
            "standoff": 15
           },
           "zerolinecolor": "white",
           "zerolinewidth": 2
          },
          "yaxis": {
           "automargin": true,
           "gridcolor": "white",
           "linecolor": "white",
           "ticks": "",
           "title": {
            "standoff": 15
           },
           "zerolinecolor": "white",
           "zerolinewidth": 2
          }
         }
        },
        "title": {
         "font": {
          "color": "black",
          "size": 20
         },
         "text": "Marcas Famosas",
         "x": 0.5
        },
        "xaxis": {
         "anchor": "y",
         "domain": [
          0,
          0.45
         ]
        },
        "xaxis2": {
         "anchor": "y2",
         "domain": [
          0.55,
          1
         ]
        },
        "yaxis": {
         "anchor": "x",
         "domain": [
          0,
          1
         ]
        },
        "yaxis2": {
         "anchor": "x2",
         "domain": [
          0,
          1
         ]
        }
       }
      }
     },
     "metadata": {},
     "output_type": "display_data"
    }
   ],
   "source": [
    "marcas = np.array(['BMW', 'Ferrari', 'Ford', 'GM - Chevrolet', 'Honda', 'Jeep', 'Mclaren', 'Mercedes-Benz', 'Toyota', 'VW - VolksWagen'])\n",
    "\n",
    "dfm = df[df['brand'].isin(marcas)]\n",
    "\n",
    "df_marcas = pd.DataFrame()\n",
    "df_marcas['Marca'] = marcas\n",
    "df_marcas['Preço Médio'] = list(dfm.groupby('brand')['avg_price_brl'].mean())\n",
    "df_marcas[\"Modelos\"] = list(dfm.groupby(\"brand\")[\"model\"].nunique())\n",
    "\n",
    "fig = sp.make_subplots(rows=1, cols=2)\n",
    "\n",
    "fig.add_trace(go.Bar(x=df_marcas[\"Marca\"], y=df_marcas[\"Preço Médio\"], \n",
    "                     name=\"Preço Médio\"), row=1, col=1)\n",
    "# grafico1.update_layout(width=800, height=500)\n",
    "# grafico1.show()\n",
    "\n",
    "fig.add_trace(go.Bar(x=df_marcas[\"Marca\"], y=df_marcas[\"Modelos\"], \n",
    "                     name=\"Quantidade de Modelos\"), row=1, col=2)\n",
    "#grafico2.update_layout(width=800, height=500)\n",
    "#grafico2.show()\n",
    "\n",
    "fig.update_layout(title_text=\"Marcas Famosas\", title_x=0.5, \n",
    "                  title_font=dict(size=20, color=\"black\"), showlegend=False,annotations=[dict(x=0.18, y=1.1, xref='paper', yref='paper', text='Preço Médio',showarrow=False, font=dict(size=15)), \n",
    "                  dict(x=0.82,y=1.1,xref='paper',yref='paper',text='Quantidade de Modelos', showarrow=False)], font=dict(size=15))\n",
    "\n",
    "fig.show()"
   ]
  },
  {
   "cell_type": "code",
   "execution_count": 33,
   "metadata": {},
   "outputs": [
    {
     "data": {
      "image/png": "[encoded data removed]",
      "text/plain": [
       "<Figure size 800x400 with 1 Axes>"
      ]
     },
     "metadata": {},
     "output_type": "display_data"
    }
   ],
   "source": [
    "cores_dispersao = plt.colormaps[\"Blues\"](np.linspace(0.6, 0.9, 10))\n",
    "cmap_dispersao = mcolors.ListedColormap(cores_dispersao)\n",
    "\n",
    "coeficientes = np.polyfit(df_marcas[\"Preço Médio\"], df_marcas[\"Modelos\"], 1)\n",
    "regressao = np.polyval(coeficientes, df_marcas[\"Preço Médio\"])\n",
    "indices_particoes = np.linspace(0, 9, 11, dtype=int)\n",
    "\n",
    "plt.figure(figsize=(8, 4))\n",
    "fig1 = sns.scatterplot(x=df_marcas[\"Preço Médio\"], y=df_marcas[\"Modelos\"], \n",
    "                c=df_marcas[\"Modelos\"], cmap=cmap_dispersao)\n",
    "\n",
    "for i in range(10):\n",
    "    segmento_x = df_marcas[\"Preço Médio\"][indices_particoes[i]:indices_particoes[i+1]+1]\n",
    "    segmento_y = regressao[indices_particoes[i]:indices_particoes[i+1]+1]\n",
    "    cor = plt.colormaps[\"autumn\"]((-i+9)/6)\n",
    "    plt.plot(segmento_x, segmento_y, color=cor)\n",
    "\n",
    "corr1, p1 = pearsonr(df_marcas['Preço Médio'], df_marcas['Modelos'])  # -0.637 -> Moderada\n",
    "\n",
    "def format_millions1(x, pos):\n",
    "    if x == 0:\n",
    "        return f\"0\"\n",
    "    return f\"{x/1e6:.1f}M\"\n",
    "\n",
    "# Formatação dos eixos x e y\n",
    "ax = plt.gca()\n",
    "ax.xaxis.set_major_formatter(mticker.FuncFormatter(format_millions1))\n",
    "\n",
    "plt.title(f\"Correlação de Pearson: {round(corr1, 3)}\")\n",
    "plt.ylabel(\"Quantidade de Modelos\")\n",
    "plt.xlabel(\"Preço Médio\")\n",
    "plt.xticks(rotation=45)\n",
    "plt.show()"
   ]
  },
  {
   "cell_type": "code",
   "execution_count": 34,
   "metadata": {},
   "outputs": [
    {
     "data": {
      "image/png": "[encoded data removed]",
      "text/plain": [
       "<Figure size 800x400 with 1 Axes>"
      ]
     },
     "metadata": {},
     "output_type": "display_data"
    }
   ],
   "source": [
    "df_sem_luxo = df_marcas[~df_marcas[\"Marca\"].isin([\"Ferrari\", \"Mclaren\"])]\n",
    "\n",
    "cores_dispersao = plt.colormaps[\"Blues\"](np.linspace(0.6, 0.9, 8))\n",
    "cmap_dispersao = mcolors.ListedColormap(cores_dispersao)\n",
    "\n",
    "coeficientes = np.polyfit(df_sem_luxo[\"Preço Médio\"], df_sem_luxo[\"Modelos\"], 1)\n",
    "regressao = np.polyval(coeficientes, df_sem_luxo[\"Preço Médio\"])\n",
    "indices_particoes = np.linspace(0, 7, 9, dtype=int)\n",
    "\n",
    "plt.figure(figsize=(8, 4))\n",
    "fig1 = sns.scatterplot(x=df_sem_luxo[\"Preço Médio\"], y=df_sem_luxo[\"Modelos\"], \n",
    "                c=df_sem_luxo[\"Modelos\"], cmap=cmap_dispersao)\n",
    "\n",
    "for i in range(8):\n",
    "    segmento_x = df_sem_luxo[\"Preço Médio\"][indices_particoes[i]:indices_particoes[i+1]+1]\n",
    "    segmento_y = regressao[indices_particoes[i]:indices_particoes[i+1]+1]\n",
    "    cor = plt.colormaps[\"autumn\"]((-i+9)/6)\n",
    "    plt.plot(segmento_x, segmento_y, color=cor)\n",
    "\n",
    "corr2, p2 = pearsonr(df_sem_luxo['Preço Médio'], df_sem_luxo['Modelos'])  # -0.234 -> Fraca\n",
    "\n",
    "def format_millions2(x, pos):\n",
    "    if x == 0:\n",
    "        return f\"0\"\n",
    "    return f\"{x/1e3:.0f}K\"\n",
    "\n",
    "# Formatação dos eixos x e y\n",
    "ax = plt.gca()\n",
    "ax.xaxis.set_major_formatter(mticker.FuncFormatter(format_millions2))\n",
    "\n",
    "plt.title(f\"Correlação de Pearson: {round(corr2, 3)}\")\n",
    "plt.ylabel(\"Quantidade de Modelos\")\n",
    "plt.xlabel(\"Preço Médio\")\n",
    "plt.xticks(rotation=45)\n",
    "plt.show()"
   ]
  }
 ],
 "metadata": {
  "kernelspec": {
   "display_name": "Python 3",
   "language": "python",
   "name": "python3"
  },
  "language_info": {
   "codemirror_mode": {
    "name": "ipython",
    "version": 3
   },
   "file_extension": ".py",
   "mimetype": "text/x-python",
   "name": "python",
   "nbconvert_exporter": "python",
   "pygments_lexer": "ipython3",
   "version": "3.11.3"
  },
  "orig_nbformat": 4
 },
 "nbformat": 4,
 "nbformat_minor": 2
}
