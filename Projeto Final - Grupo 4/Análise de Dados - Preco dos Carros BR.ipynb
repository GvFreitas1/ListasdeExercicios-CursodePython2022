{
 "cells": [
  {
   "cell_type": "markdown",
   "metadata": {},
   "source": [
    "# **Projeto Final: Análise de Dados - Grupo 4**\n",
    "\n",
    "Utilizaremos o DataSet \"*Preços dos Carros no Brasil*\".\n",
    "\n",
    "Nosso objetivo é verificar se existe alguma conexão das variáveis nas relações:\n",
    "* Tempo x Preço Médio\n",
    "* Combustível x Tamanho do Motor\n",
    "* Marca x Preço Médio"
   ]
  },
  {
   "cell_type": "markdown",
   "metadata": {},
   "source": [
    "# Sobre o DataSet a ser analisado\n",
    "\n",
    "Cerca de 600 mil carros foram colocados no documento a ser analisado. Os dados foram extraídos do site da FIPE, que atualiza mensalmente as informações, sendo necessário, representar a data que o dado foi obtido.\n",
    "\n",
    "Cada linha da tabela representa um carro em específico, diferenciando-o por diversos fatores, como o ano e mês de referência, o tipo de combustível utilizado, o tipo de câmbio, o tamanho do motor, o código fipe, a marca e modelo e por fim, o preço médio que o carro é encontrado no Brasil, em reais.\n",
    "\n",
    "\n",
    "# Variáveis\n",
    "* year_of_reference: ano correspondente à data que o dado foi coletado. \n",
    "* month_of_reference: mês referente à data que o dado foi coletado.\n",
    "* fipe_code: identificação utilizada para cada modelo de carro no site da FIPE.\n",
    "* authentication: código que autentica a consulta no site da FIPE.\n",
    "* brand: marca de cada carro nos dados.\n",
    "* model: modelo de cada carro nos dados.\n",
    "* fuel: tipo de combustível que o carro comporta (diesel ou gasolina)\n",
    "* gear: tipo do câmbio de cada carro (automático ou manual); caso não esteja escrito 'Aut', assume-se que o carro em questão é necessariamente, manual.\n",
    "* engine_size: tamanho do motor em centímetros cúbicos.\n",
    "* year_model: corresponde à versão do modelo de cada carro analisado.\n",
    "* avg_price_brl: média do preço do carro em reais, de acordo com a FIPE."
   ]
  },
  {
   "cell_type": "markdown",
   "metadata": {},
   "source": [
    "## Tratamento de Dados"
   ]
  },
  {
   "cell_type": "code",
   "execution_count": 1,
   "metadata": {},
   "outputs": [
    {
     "ename": "ModuleNotFoundError",
     "evalue": "No module named 'pandas'",
     "output_type": "error",
     "traceback": [
      "\u001b[1;31m---------------------------------------------------------------------------\u001b[0m",
      "\u001b[1;31mModuleNotFoundError\u001b[0m                       Traceback (most recent call last)",
      "Cell \u001b[1;32mIn[1], line 3\u001b[0m\n\u001b[0;32m      1\u001b[0m \u001b[39m# Importando as Bibliotecas\u001b[39;00m\n\u001b[1;32m----> 3\u001b[0m \u001b[39mimport\u001b[39;00m \u001b[39mpandas\u001b[39;00m \u001b[39mas\u001b[39;00m \u001b[39mpd\u001b[39;00m\n\u001b[0;32m      4\u001b[0m \u001b[39mimport\u001b[39;00m \u001b[39mnumpy\u001b[39;00m \u001b[39mas\u001b[39;00m \u001b[39mnp\u001b[39;00m\n",
      "\u001b[1;31mModuleNotFoundError\u001b[0m: No module named 'pandas'"
     ]
    }
   ],
   "source": [
    "# Importando as Bibliotecas\n",
    "\n",
    "import pandas as pd\n",
    "import numpy as np"
   ]
  },
  {
   "cell_type": "code",
   "execution_count": null,
   "metadata": {},
   "outputs": [
    {
     "name": "stdout",
     "output_type": "stream",
     "text": [
      "   year_of_reference month_of_reference fipe_code authentication  brand   \n",
      "0               2021            January  038001-6     tlp4qry07m  Acura  \\\n",
      "1               2021            January  038001-6     s1wksdv9by  Acura   \n",
      "2               2021            January  038001-6     skrbcfnkch  Acura   \n",
      "3               2021            January  038001-6     rxzh76d5db  Acura   \n",
      "4               2021            January  038001-6     qrm322tpd8  Acura   \n",
      "\n",
      "     model      fuel    gear  engine_size  year_model  avg_price_brl  \n",
      "0  NSX 3.0  Gasoline  manual          3.0        1995        40374.0  \n",
      "1  NSX 3.0  Gasoline  manual          3.0        1994        38939.0  \n",
      "2  NSX 3.0  Gasoline  manual          3.0        1993        37648.0  \n",
      "3  NSX 3.0  Gasoline  manual          3.0        1992        35962.0  \n",
      "4  NSX 3.0  Gasoline  manual          3.0        1991        32863.0  \n",
      "\n",
      "year_of_reference       int64\n",
      "month_of_reference     object\n",
      "fipe_code              object\n",
      "authentication         object\n",
      "brand                  object\n",
      "model                  object\n",
      "fuel                   object\n",
      "gear                   object\n",
      "engine_size           float64\n",
      "year_model              int64\n",
      "avg_price_brl         float64\n",
      "dtype: object\n",
      "\n",
      "(599007, 11)\n"
     ]
    }
   ],
   "source": [
    "# Lendo o DataFrame e Analisando as Variáveis\n",
    "\n",
    "df = pd.read_csv(\"fipe_cars.csv\")\n",
    "\n",
    "print(df.head(), df.dtypes, df.shape, sep=\"\\n\\n\")\n"
   ]
  },
  {
   "cell_type": "code",
   "execution_count": null,
   "metadata": {},
   "outputs": [
    {
     "name": "stdout",
     "output_type": "stream",
     "text": [
      "year_of_reference     0\n",
      "month_of_reference    0\n",
      "fipe_code             0\n",
      "authentication        0\n",
      "brand                 0\n",
      "model                 0\n",
      "fuel                  0\n",
      "gear                  0\n",
      "engine_size           0\n",
      "year_model            0\n",
      "avg_price_brl         0\n",
      "dtype: int64\n"
     ]
    },
    {
     "data": {
      "text/html": [
       "<div>\n",
       "<style scoped>\n",
       "    .dataframe tbody tr th:only-of-type {\n",
       "        vertical-align: middle;\n",
       "    }\n",
       "\n",
       "    .dataframe tbody tr th {\n",
       "        vertical-align: top;\n",
       "    }\n",
       "\n",
       "    .dataframe thead th {\n",
       "        text-align: right;\n",
       "    }\n",
       "</style>\n",
       "<table border=\"1\" class=\"dataframe\">\n",
       "  <thead>\n",
       "    <tr style=\"text-align: right;\">\n",
       "      <th></th>\n",
       "      <th>year_of_reference</th>\n",
       "      <th>month_of_reference</th>\n",
       "      <th>brand</th>\n",
       "      <th>model</th>\n",
       "      <th>fuel</th>\n",
       "      <th>engine_size</th>\n",
       "      <th>avg_price_brl</th>\n",
       "    </tr>\n",
       "  </thead>\n",
       "  <tbody>\n",
       "    <tr>\n",
       "      <th>0</th>\n",
       "      <td>2021</td>\n",
       "      <td>January</td>\n",
       "      <td>Acura</td>\n",
       "      <td>NSX 3.0</td>\n",
       "      <td>Gasoline</td>\n",
       "      <td>3.0</td>\n",
       "      <td>40374.0</td>\n",
       "    </tr>\n",
       "    <tr>\n",
       "      <th>1</th>\n",
       "      <td>2021</td>\n",
       "      <td>January</td>\n",
       "      <td>Acura</td>\n",
       "      <td>NSX 3.0</td>\n",
       "      <td>Gasoline</td>\n",
       "      <td>3.0</td>\n",
       "      <td>38939.0</td>\n",
       "    </tr>\n",
       "    <tr>\n",
       "      <th>2</th>\n",
       "      <td>2021</td>\n",
       "      <td>January</td>\n",
       "      <td>Acura</td>\n",
       "      <td>NSX 3.0</td>\n",
       "      <td>Gasoline</td>\n",
       "      <td>3.0</td>\n",
       "      <td>37648.0</td>\n",
       "    </tr>\n",
       "    <tr>\n",
       "      <th>3</th>\n",
       "      <td>2021</td>\n",
       "      <td>January</td>\n",
       "      <td>Acura</td>\n",
       "      <td>NSX 3.0</td>\n",
       "      <td>Gasoline</td>\n",
       "      <td>3.0</td>\n",
       "      <td>35962.0</td>\n",
       "    </tr>\n",
       "    <tr>\n",
       "      <th>4</th>\n",
       "      <td>2021</td>\n",
       "      <td>January</td>\n",
       "      <td>Acura</td>\n",
       "      <td>NSX 3.0</td>\n",
       "      <td>Gasoline</td>\n",
       "      <td>3.0</td>\n",
       "      <td>32863.0</td>\n",
       "    </tr>\n",
       "  </tbody>\n",
       "</table>\n",
       "</div>"
      ],
      "text/plain": [
       "   year_of_reference month_of_reference  brand    model      fuel   \n",
       "0               2021            January  Acura  NSX 3.0  Gasoline  \\\n",
       "1               2021            January  Acura  NSX 3.0  Gasoline   \n",
       "2               2021            January  Acura  NSX 3.0  Gasoline   \n",
       "3               2021            January  Acura  NSX 3.0  Gasoline   \n",
       "4               2021            January  Acura  NSX 3.0  Gasoline   \n",
       "\n",
       "   engine_size  avg_price_brl  \n",
       "0          3.0        40374.0  \n",
       "1          3.0        38939.0  \n",
       "2          3.0        37648.0  \n",
       "3          3.0        35962.0  \n",
       "4          3.0        32863.0  "
      ]
     },
     "execution_count": 707,
     "metadata": {},
     "output_type": "execute_result"
    }
   ],
   "source": [
    "# Limpeza dos Dados\n",
    "\n",
    "print(df.isna().sum())  # Não temos valores NaN!\n",
    "\n",
    "df = df.drop([\"fipe_code\", \"authentication\", \"gear\", \"year_model\"], axis=1)  # Retirando as colunas desnecessárias para a nossa análise\n",
    "\n",
    "df.head()"
   ]
  },
  {
   "cell_type": "code",
   "execution_count": null,
   "metadata": {},
   "outputs": [
    {
     "name": "stdout",
     "output_type": "stream",
     "text": [
      "4\n"
     ]
    },
    {
     "data": {
      "text/html": [
       "<div>\n",
       "<style scoped>\n",
       "    .dataframe tbody tr th:only-of-type {\n",
       "        vertical-align: middle;\n",
       "    }\n",
       "\n",
       "    .dataframe tbody tr th {\n",
       "        vertical-align: top;\n",
       "    }\n",
       "\n",
       "    .dataframe thead th {\n",
       "        text-align: right;\n",
       "    }\n",
       "</style>\n",
       "<table border=\"1\" class=\"dataframe\">\n",
       "  <thead>\n",
       "    <tr style=\"text-align: right;\">\n",
       "      <th></th>\n",
       "      <th>year_of_reference</th>\n",
       "      <th>month_of_reference</th>\n",
       "      <th>brand</th>\n",
       "      <th>model</th>\n",
       "      <th>fuel</th>\n",
       "      <th>engine_size</th>\n",
       "      <th>avg_price_brl</th>\n",
       "    </tr>\n",
       "  </thead>\n",
       "  <tbody>\n",
       "    <tr>\n",
       "      <th>135875</th>\n",
       "      <td>2021</td>\n",
       "      <td>June</td>\n",
       "      <td>Renault</td>\n",
       "      <td>DUSTER OROCH Dyna. 2.0 Flex 16V Mec.</td>\n",
       "      <td>Gasoline</td>\n",
       "      <td>2.0</td>\n",
       "      <td>69893.0</td>\n",
       "    </tr>\n",
       "    <tr>\n",
       "      <th>215184</th>\n",
       "      <td>2021</td>\n",
       "      <td>October</td>\n",
       "      <td>GM - Chevrolet</td>\n",
       "      <td>A-10 2.5/4.1</td>\n",
       "      <td>Gasoline</td>\n",
       "      <td>2.5</td>\n",
       "      <td>8879.0</td>\n",
       "    </tr>\n",
       "    <tr>\n",
       "      <th>383231</th>\n",
       "      <td>2022</td>\n",
       "      <td>May</td>\n",
       "      <td>GM - Chevrolet</td>\n",
       "      <td>Monza Classic SE 2.0 /MPFI e EFI 2p e 4p</td>\n",
       "      <td>Gasoline</td>\n",
       "      <td>2.0</td>\n",
       "      <td>10655.0</td>\n",
       "    </tr>\n",
       "    <tr>\n",
       "      <th>559711</th>\n",
       "      <td>2022</td>\n",
       "      <td>December</td>\n",
       "      <td>Ford</td>\n",
       "      <td>Ranger Limited 3.0 PSE 4x4 CD TB Diesel</td>\n",
       "      <td>Diesel</td>\n",
       "      <td>3.0</td>\n",
       "      <td>64638.0</td>\n",
       "    </tr>\n",
       "  </tbody>\n",
       "</table>\n",
       "</div>"
      ],
      "text/plain": [
       "        year_of_reference month_of_reference           brand   \n",
       "135875               2021               June         Renault  \\\n",
       "215184               2021            October  GM - Chevrolet   \n",
       "383231               2022                May  GM - Chevrolet   \n",
       "559711               2022           December            Ford   \n",
       "\n",
       "                                           model      fuel  engine_size   \n",
       "135875      DUSTER OROCH Dyna. 2.0 Flex 16V Mec.  Gasoline          2.0  \\\n",
       "215184                              A-10 2.5/4.1  Gasoline          2.5   \n",
       "383231  Monza Classic SE 2.0 /MPFI e EFI 2p e 4p  Gasoline          2.0   \n",
       "559711   Ranger Limited 3.0 PSE 4x4 CD TB Diesel    Diesel          3.0   \n",
       "\n",
       "        avg_price_brl  \n",
       "135875        69893.0  \n",
       "215184         8879.0  \n",
       "383231        10655.0  \n",
       "559711        64638.0  "
      ]
     },
     "execution_count": 708,
     "metadata": {},
     "output_type": "execute_result"
    }
   ],
   "source": [
    "# Identificando linhas duplicadas e eliminando-as.\n",
    "\n",
    "print(df.duplicated().sum())\n",
    "df.loc[df.duplicated()]"
   ]
  },
  {
   "cell_type": "code",
   "execution_count": null,
   "metadata": {},
   "outputs": [
    {
     "name": "stdout",
     "output_type": "stream",
     "text": [
      "0\n"
     ]
    }
   ],
   "source": [
    "df = df.drop_duplicates()\n",
    "print(df.duplicated().sum())"
   ]
  },
  {
   "cell_type": "code",
   "execution_count": null,
   "metadata": {},
   "outputs": [
    {
     "name": "stdout",
     "output_type": "stream",
     "text": [
      "(599003, 7)\n"
     ]
    }
   ],
   "source": [
    "# Nova dimensão do DataFrame após a limpeza de dados.\n",
    "print(df.shape)"
   ]
  },
  {
   "cell_type": "code",
   "execution_count": null,
   "metadata": {},
   "outputs": [
    {
     "data": {
      "text/html": [
       "<div>\n",
       "<style scoped>\n",
       "    .dataframe tbody tr th:only-of-type {\n",
       "        vertical-align: middle;\n",
       "    }\n",
       "\n",
       "    .dataframe tbody tr th {\n",
       "        vertical-align: top;\n",
       "    }\n",
       "\n",
       "    .dataframe thead th {\n",
       "        text-align: right;\n",
       "    }\n",
       "</style>\n",
       "<table border=\"1\" class=\"dataframe\">\n",
       "  <thead>\n",
       "    <tr style=\"text-align: right;\">\n",
       "      <th></th>\n",
       "      <th>brand</th>\n",
       "      <th>model</th>\n",
       "      <th>fuel</th>\n",
       "      <th>engine_size</th>\n",
       "      <th>avg_price_brl</th>\n",
       "      <th>date</th>\n",
       "    </tr>\n",
       "  </thead>\n",
       "  <tbody>\n",
       "    <tr>\n",
       "      <th>0</th>\n",
       "      <td>Acura</td>\n",
       "      <td>NSX 3.0</td>\n",
       "      <td>Gasoline</td>\n",
       "      <td>3.0</td>\n",
       "      <td>40374.0</td>\n",
       "      <td>2021/01</td>\n",
       "    </tr>\n",
       "    <tr>\n",
       "      <th>1</th>\n",
       "      <td>Acura</td>\n",
       "      <td>NSX 3.0</td>\n",
       "      <td>Gasoline</td>\n",
       "      <td>3.0</td>\n",
       "      <td>38939.0</td>\n",
       "      <td>2021/01</td>\n",
       "    </tr>\n",
       "    <tr>\n",
       "      <th>2</th>\n",
       "      <td>Acura</td>\n",
       "      <td>NSX 3.0</td>\n",
       "      <td>Gasoline</td>\n",
       "      <td>3.0</td>\n",
       "      <td>37648.0</td>\n",
       "      <td>2021/01</td>\n",
       "    </tr>\n",
       "    <tr>\n",
       "      <th>3</th>\n",
       "      <td>Acura</td>\n",
       "      <td>NSX 3.0</td>\n",
       "      <td>Gasoline</td>\n",
       "      <td>3.0</td>\n",
       "      <td>35962.0</td>\n",
       "      <td>2021/01</td>\n",
       "    </tr>\n",
       "    <tr>\n",
       "      <th>4</th>\n",
       "      <td>Acura</td>\n",
       "      <td>NSX 3.0</td>\n",
       "      <td>Gasoline</td>\n",
       "      <td>3.0</td>\n",
       "      <td>32863.0</td>\n",
       "      <td>2021/01</td>\n",
       "    </tr>\n",
       "    <tr>\n",
       "      <th>...</th>\n",
       "      <td>...</td>\n",
       "      <td>...</td>\n",
       "      <td>...</td>\n",
       "      <td>...</td>\n",
       "      <td>...</td>\n",
       "      <td>...</td>\n",
       "    </tr>\n",
       "    <tr>\n",
       "      <th>599002</th>\n",
       "      <td>Walk</td>\n",
       "      <td>Buggy Walk Sport 1.6 8V 58cv</td>\n",
       "      <td>Gasoline</td>\n",
       "      <td>1.6</td>\n",
       "      <td>22790.0</td>\n",
       "      <td>2023/01</td>\n",
       "    </tr>\n",
       "    <tr>\n",
       "      <th>599003</th>\n",
       "      <td>Walk</td>\n",
       "      <td>Buggy Walk Sport 1.6 8V 58cv</td>\n",
       "      <td>Gasoline</td>\n",
       "      <td>1.6</td>\n",
       "      <td>22169.0</td>\n",
       "      <td>2023/01</td>\n",
       "    </tr>\n",
       "    <tr>\n",
       "      <th>599004</th>\n",
       "      <td>Walk</td>\n",
       "      <td>Buggy Walk Sport 1.6 8V 58cv</td>\n",
       "      <td>Gasoline</td>\n",
       "      <td>1.6</td>\n",
       "      <td>21565.0</td>\n",
       "      <td>2023/01</td>\n",
       "    </tr>\n",
       "    <tr>\n",
       "      <th>599005</th>\n",
       "      <td>Walk</td>\n",
       "      <td>Buggy Walk Sport 1.6 8V 58cv</td>\n",
       "      <td>Gasoline</td>\n",
       "      <td>1.6</td>\n",
       "      <td>20978.0</td>\n",
       "      <td>2023/01</td>\n",
       "    </tr>\n",
       "    <tr>\n",
       "      <th>599006</th>\n",
       "      <td>Walk</td>\n",
       "      <td>Buggy Walk Sport 1.6 8V 58cv</td>\n",
       "      <td>Gasoline</td>\n",
       "      <td>1.6</td>\n",
       "      <td>18365.0</td>\n",
       "      <td>2023/01</td>\n",
       "    </tr>\n",
       "  </tbody>\n",
       "</table>\n",
       "<p>599003 rows × 6 columns</p>\n",
       "</div>"
      ],
      "text/plain": [
       "        brand                         model      fuel  engine_size   \n",
       "0       Acura                       NSX 3.0  Gasoline          3.0  \\\n",
       "1       Acura                       NSX 3.0  Gasoline          3.0   \n",
       "2       Acura                       NSX 3.0  Gasoline          3.0   \n",
       "3       Acura                       NSX 3.0  Gasoline          3.0   \n",
       "4       Acura                       NSX 3.0  Gasoline          3.0   \n",
       "...       ...                           ...       ...          ...   \n",
       "599002   Walk  Buggy Walk Sport 1.6 8V 58cv  Gasoline          1.6   \n",
       "599003   Walk  Buggy Walk Sport 1.6 8V 58cv  Gasoline          1.6   \n",
       "599004   Walk  Buggy Walk Sport 1.6 8V 58cv  Gasoline          1.6   \n",
       "599005   Walk  Buggy Walk Sport 1.6 8V 58cv  Gasoline          1.6   \n",
       "599006   Walk  Buggy Walk Sport 1.6 8V 58cv  Gasoline          1.6   \n",
       "\n",
       "        avg_price_brl     date  \n",
       "0             40374.0  2021/01  \n",
       "1             38939.0  2021/01  \n",
       "2             37648.0  2021/01  \n",
       "3             35962.0  2021/01  \n",
       "4             32863.0  2021/01  \n",
       "...               ...      ...  \n",
       "599002        22790.0  2023/01  \n",
       "599003        22169.0  2023/01  \n",
       "599004        21565.0  2023/01  \n",
       "599005        20978.0  2023/01  \n",
       "599006        18365.0  2023/01  \n",
       "\n",
       "[599003 rows x 6 columns]"
      ]
     },
     "execution_count": 711,
     "metadata": {},
     "output_type": "execute_result"
    }
   ],
   "source": [
    "# Fundindo as colunas \"year_of_reference\" e \"mounth_of_referece\" como datas do tipo datetime.\n",
    "\n",
    "mapeamento = {'January': \"1\", 'February': \"2\",  'March': \"3\", 'April': \"4\", 'May': \"5\", 'June':\n",
    "              \"6\", 'July': \"7\", 'August': \"8\", 'September': \"9\", 'October': \"10\", 'November': \"11\", 'December': \"12\"}\n",
    "\n",
    "df[\"month_of_reference\"] = df[\"month_of_reference\"].map(mapeamento)  # Transformando as strings do mês com o número correspondente\n",
    "\n",
    "df[\"year_of_reference\"] = df[\"year_of_reference\"].astype(str)  # Transformando os anos em strings\n",
    "\n",
    "df[\"date\"] = df[\"month_of_reference\"].str.cat(df[\"year_of_reference\"], sep=\"/\")  # Juntando os valores no formato de data\n",
    "\n",
    "df[\"date\"] = pd.to_datetime(df[\"date\"], format=\"%m/%Y\").dt.strftime('%Y/%m')  # Transformando em datetime\n",
    "\n",
    "df = df.drop(columns=[\"month_of_reference\", \"year_of_reference\"])  # Retirando as colunas que usamos\n",
    "\n",
    "df"
   ]
  },
  {
   "cell_type": "markdown",
   "metadata": {},
   "source": [
    "## Visualização de Dados"
   ]
  },
  {
   "cell_type": "code",
   "execution_count": null,
   "metadata": {},
   "outputs": [],
   "source": [
    "# Importando as Bibliotecas\n",
    "\n",
    "import seaborn as sns\n",
    "import plotly.express as px\n",
    "import matplotlib.colors as mcolors\n",
    "import matplotlib.pyplot as plt\n",
    "from matplotlib.collections import LineCollection"
   ]
  },
  {
   "cell_type": "markdown",
   "metadata": {},
   "source": [
    "### *Tempo x Preço Médio*"
   ]
  },
  {
   "cell_type": "code",
   "execution_count": null,
   "metadata": {},
   "outputs": [
    {
     "data": {
      "image/png": "[encoded data removed]",
      "text/plain": [
       "<Figure size 700x700 with 1 Axes>"
      ]
     },
     "metadata": {},
     "output_type": "display_data"
    }
   ],
   "source": [
    "medias_data = df.groupby(\"date\")[\"avg_price_brl\"].mean()\n",
    "\n",
    "datas = df[\"date\"].unique()\n",
    "\n",
    "valores = np.arange(25)\n",
    "\n",
    "cores_dispersao = plt.colormaps[\"Blues\"](np.linspace(0.6, 1, 25))\n",
    "cmap_dispersao = mcolors.ListedColormap(cores_dispersao)\n",
    "\n",
    "coeficientes = np.polyfit(valores, medias_data, 1)\n",
    "regressao = np.polyval(coeficientes, valores)\n",
    "indices_particoes = np.linspace(0, 24, 26, dtype=int)\n",
    "\n",
    "plt.figure(figsize=(7, 7))\n",
    "sns.scatterplot(x=datas, y=medias_data, c=valores, cmap=cmap_dispersao)\n",
    "for i in range(25):\n",
    "    segmento_x = valores[indices_particoes[i]:indices_particoes[i+1]+1]\n",
    "    segmento_y = regressao[indices_particoes[i]:indices_particoes[i+1]+1]\n",
    "    cor = plt.colormaps[\"autumn\"]((-i+22)/32)\n",
    "    plt.plot(segmento_x, segmento_y, color=cor)\n",
    "\n",
    "plt.title(\"Preço Médio dos Carros por Mês\")\n",
    "plt.ylabel(\"Preço Médio\")\n",
    "plt.xlabel(\"Data\")\n",
    "plt.xticks(rotation=90)\n",
    "plt.show()"
   ]
  },
  {
   "cell_type": "markdown",
   "metadata": {},
   "source": [
    "### *Combustível x Tamanho do Motor*"
   ]
  },
  {
   "cell_type": "code",
   "execution_count": null,
   "metadata": {},
   "outputs": [
    {
     "data": {
      "application/vnd.plotly.v1+json": {
       "config": {
        "plotlyServerURL": "https://plot.ly"
       },
       "data": [
        {
         "domain": {
          "x": [
           0,
           1
          ],
          "y": [
           0,
           1
          ]
         },
         "hovertemplate": "Combustível=%{label}<br>Frequência=%{value}<extra></extra>",
         "labels": [
          "Gasoline",
          "Diesel",
          "Alcohol"
         ],
         "legendgroup": "",
         "name": "",
         "showlegend": true,
         "textinfo": "percent+label",
         "textposition": "inside",
         "type": "pie",
         "values": [
          493498,
          96147,
          9358
         ]
        }
       ],
       "layout": {
        "height": 500,
        "legend": {
         "tracegroupgap": 0
        },
        "piecolorway": [
         "#636EFA",
         "#EF553B",
         "#00CC96",
         "#AB63FA",
         "#FFA15A",
         "#19D3F3",
         "#FF6692",
         "#B6E880",
         "#FF97FF",
         "#FECB52"
        ],
        "template": {
         "data": {
          "pie": [
           {
            "automargin": true,
            "type": "pie"
           }
          ],
          "scatter": [
           {
            "line": {
             "width": 3
            },
            "marker": {
             "size": 9
            },
            "type": "scatter"
           }
          ],
          "scatter3d": [
           {
            "line": {
             "width": 3
            },
            "marker": {
             "size": 9
            },
            "type": "scatter3d"
           }
          ],
          "scattergeo": [
           {
            "line": {
             "width": 3
            },
            "marker": {
             "size": 9
            },
            "type": "scattergeo"
           }
          ],
          "scattergl": [
           {
            "line": {
             "width": 3
            },
            "marker": {
             "size": 9
            },
            "type": "scattergl"
           }
          ],
          "scatterpolar": [
           {
            "line": {
             "width": 3
            },
            "marker": {
             "size": 9
            },
            "type": "scatterpolar"
           }
          ],
          "scatterpolargl": [
           {
            "line": {
             "width": 3
            },
            "marker": {
             "size": 9
            },
            "type": "scatterpolargl"
           }
          ],
          "scatterternary": [
           {
            "line": {
             "width": 3
            },
            "marker": {
             "size": 9
            },
            "type": "scatterternary"
           }
          ],
          "table": [
           {
            "cells": {
             "height": 30
            },
            "header": {
             "height": 36
            },
            "type": "table"
           }
          ]
         },
         "layout": {
          "font": {
           "size": 18
          },
          "xaxis": {
           "title": {
            "standoff": 15
           }
          },
          "yaxis": {
           "title": {
            "standoff": 15
           }
          }
         }
        },
        "title": {
         "text": "Proporção de Combustíveis"
        },
        "width": 800
       }
      }
     },
     "metadata": {},
     "output_type": "display_data"
    }
   ],
   "source": [
    "df_combustivel = pd.DataFrame()\n",
    "df_combustivel[\"Combustível\"] = df[\"fuel\"].unique()\n",
    "df_combustivel[\"Frequência\"] = np.array(df[\"fuel\"].value_counts())\n",
    "\n",
    "fig = px.pie(df_combustivel, values = \"Frequência\", names = \"Combustível\", \n",
    "            title=\"Proporção de Combustíveis\", template=\"presentation\", \n",
    "            color_discrete_sequence=px.colors.qualitative.Plotly)\n",
    "fig.update_layout(width=800, height=500)\n",
    "fig.update_traces(textposition=\"inside\", textinfo=\"percent+label\")\n",
    "fig.show()"
   ]
  },
  {
   "cell_type": "code",
   "execution_count": null,
   "metadata": {},
   "outputs": [
    {
     "data": {
      "application/vnd.plotly.v1+json": {
       "config": {
        "plotlyServerURL": "https://plot.ly"
       },
       "data": [
        {
         "alignmentgroup": "True",
         "hovertemplate": "Combustível=%{x}<br>Tamanho do Motor=%{y}<extra></extra>",
         "legendgroup": "Gasoline",
         "marker": {
          "color": "#636EFA",
          "pattern": {
           "shape": ""
          }
         },
         "name": "Gasoline",
         "offsetgroup": "Gasoline",
         "orientation": "v",
         "showlegend": true,
         "textposition": "auto",
         "type": "bar",
         "x": [
          "Gasoline"
         ],
         "xaxis": "x",
         "y": [
          2.182725360589101
         ],
         "yaxis": "y"
        },
        {
         "alignmentgroup": "True",
         "hovertemplate": "Combustível=%{x}<br>Tamanho do Motor=%{y}<extra></extra>",
         "legendgroup": "Diesel",
         "marker": {
          "color": "#EF553B",
          "pattern": {
           "shape": ""
          }
         },
         "name": "Diesel",
         "offsetgroup": "Diesel",
         "orientation": "v",
         "showlegend": true,
         "textposition": "auto",
         "type": "bar",
         "x": [
          "Diesel"
         ],
         "xaxis": "x",
         "y": [
          2.7559289421406805
         ],
         "yaxis": "y"
        },
        {
         "alignmentgroup": "True",
         "hovertemplate": "Combustível=%{x}<br>Tamanho do Motor=%{y}<extra></extra>",
         "legendgroup": "Alcohol",
         "marker": {
          "color": "#00CC96",
          "pattern": {
           "shape": ""
          }
         },
         "name": "Alcohol",
         "offsetgroup": "Alcohol",
         "orientation": "v",
         "showlegend": true,
         "textposition": "auto",
         "type": "bar",
         "x": [
          "Alcohol"
         ],
         "xaxis": "x",
         "y": [
          1.6713186578328703
         ],
         "yaxis": "y"
        }
       ],
       "layout": {
        "barmode": "relative",
        "height": 500,
        "legend": {
         "title": {
          "text": "Combustível"
         },
         "tracegroupgap": 0
        },
        "showlegend": false,
        "template": {
         "data": {
          "bar": [
           {
            "error_x": {
             "color": "#2a3f5f"
            },
            "error_y": {
             "color": "#2a3f5f"
            },
            "marker": {
             "line": {
              "color": "#E5ECF6",
              "width": 0.5
             },
             "pattern": {
              "fillmode": "overlay",
              "size": 10,
              "solidity": 0.2
             }
            },
            "type": "bar"
           }
          ],
          "barpolar": [
           {
            "marker": {
             "line": {
              "color": "#E5ECF6",
              "width": 0.5
             },
             "pattern": {
              "fillmode": "overlay",
              "size": 10,
              "solidity": 0.2
             }
            },
            "type": "barpolar"
           }
          ],
          "carpet": [
           {
            "aaxis": {
             "endlinecolor": "#2a3f5f",
             "gridcolor": "white",
             "linecolor": "white",
             "minorgridcolor": "white",
             "startlinecolor": "#2a3f5f"
            },
            "baxis": {
             "endlinecolor": "#2a3f5f",
             "gridcolor": "white",
             "linecolor": "white",
             "minorgridcolor": "white",
             "startlinecolor": "#2a3f5f"
            },
            "type": "carpet"
           }
          ],
          "choropleth": [
           {
            "colorbar": {
             "outlinewidth": 0,
             "ticks": ""
            },
            "type": "choropleth"
           }
          ],
          "contour": [
           {
            "colorbar": {
             "outlinewidth": 0,
             "ticks": ""
            },
            "colorscale": [
             [
              0,
              "#0d0887"
             ],
             [
              0.1111111111111111,
              "#46039f"
             ],
             [
              0.2222222222222222,
              "#7201a8"
             ],
             [
              0.3333333333333333,
              "#9c179e"
             ],
             [
              0.4444444444444444,
              "#bd3786"
             ],
             [
              0.5555555555555556,
              "#d8576b"
             ],
             [
              0.6666666666666666,
              "#ed7953"
             ],
             [
              0.7777777777777778,
              "#fb9f3a"
             ],
             [
              0.8888888888888888,
              "#fdca26"
             ],
             [
              1,
              "#f0f921"
             ]
            ],
            "type": "contour"
           }
          ],
          "contourcarpet": [
           {
            "colorbar": {
             "outlinewidth": 0,
             "ticks": ""
            },
            "type": "contourcarpet"
           }
          ],
          "heatmap": [
           {
            "colorbar": {
             "outlinewidth": 0,
             "ticks": ""
            },
            "colorscale": [
             [
              0,
              "#0d0887"
             ],
             [
              0.1111111111111111,
              "#46039f"
             ],
             [
              0.2222222222222222,
              "#7201a8"
             ],
             [
              0.3333333333333333,
              "#9c179e"
             ],
             [
              0.4444444444444444,
              "#bd3786"
             ],
             [
              0.5555555555555556,
              "#d8576b"
             ],
             [
              0.6666666666666666,
              "#ed7953"
             ],
             [
              0.7777777777777778,
              "#fb9f3a"
             ],
             [
              0.8888888888888888,
              "#fdca26"
             ],
             [
              1,
              "#f0f921"
             ]
            ],
            "type": "heatmap"
           }
          ],
          "heatmapgl": [
           {
            "colorbar": {
             "outlinewidth": 0,
             "ticks": ""
            },
            "colorscale": [
             [
              0,
              "#0d0887"
             ],
             [
              0.1111111111111111,
              "#46039f"
             ],
             [
              0.2222222222222222,
              "#7201a8"
             ],
             [
              0.3333333333333333,
              "#9c179e"
             ],
             [
              0.4444444444444444,
              "#bd3786"
             ],
             [
              0.5555555555555556,
              "#d8576b"
             ],
             [
              0.6666666666666666,
              "#ed7953"
             ],
             [
              0.7777777777777778,
              "#fb9f3a"
             ],
             [
              0.8888888888888888,
              "#fdca26"
             ],
             [
              1,
              "#f0f921"
             ]
            ],
            "type": "heatmapgl"
           }
          ],
          "histogram": [
           {
            "marker": {
             "pattern": {
              "fillmode": "overlay",
              "size": 10,
              "solidity": 0.2
             }
            },
            "type": "histogram"
           }
          ],
          "histogram2d": [
           {
            "colorbar": {
             "outlinewidth": 0,
             "ticks": ""
            },
            "colorscale": [
             [
              0,
              "#0d0887"
             ],
             [
              0.1111111111111111,
              "#46039f"
             ],
             [
              0.2222222222222222,
              "#7201a8"
             ],
             [
              0.3333333333333333,
              "#9c179e"
             ],
             [
              0.4444444444444444,
              "#bd3786"
             ],
             [
              0.5555555555555556,
              "#d8576b"
             ],
             [
              0.6666666666666666,
              "#ed7953"
             ],
             [
              0.7777777777777778,
              "#fb9f3a"
             ],
             [
              0.8888888888888888,
              "#fdca26"
             ],
             [
              1,
              "#f0f921"
             ]
            ],
            "type": "histogram2d"
           }
          ],
          "histogram2dcontour": [
           {
            "colorbar": {
             "outlinewidth": 0,
             "ticks": ""
            },
            "colorscale": [
             [
              0,
              "#0d0887"
             ],
             [
              0.1111111111111111,
              "#46039f"
             ],
             [
              0.2222222222222222,
              "#7201a8"
             ],
             [
              0.3333333333333333,
              "#9c179e"
             ],
             [
              0.4444444444444444,
              "#bd3786"
             ],
             [
              0.5555555555555556,
              "#d8576b"
             ],
             [
              0.6666666666666666,
              "#ed7953"
             ],
             [
              0.7777777777777778,
              "#fb9f3a"
             ],
             [
              0.8888888888888888,
              "#fdca26"
             ],
             [
              1,
              "#f0f921"
             ]
            ],
            "type": "histogram2dcontour"
           }
          ],
          "mesh3d": [
           {
            "colorbar": {
             "outlinewidth": 0,
             "ticks": ""
            },
            "type": "mesh3d"
           }
          ],
          "parcoords": [
           {
            "line": {
             "colorbar": {
              "outlinewidth": 0,
              "ticks": ""
             }
            },
            "type": "parcoords"
           }
          ],
          "pie": [
           {
            "automargin": true,
            "type": "pie"
           }
          ],
          "scatter": [
           {
            "fillpattern": {
             "fillmode": "overlay",
             "size": 10,
             "solidity": 0.2
            },
            "type": "scatter"
           }
          ],
          "scatter3d": [
           {
            "line": {
             "colorbar": {
              "outlinewidth": 0,
              "ticks": ""
             }
            },
            "marker": {
             "colorbar": {
              "outlinewidth": 0,
              "ticks": ""
             }
            },
            "type": "scatter3d"
           }
          ],
          "scattercarpet": [
           {
            "marker": {
             "colorbar": {
              "outlinewidth": 0,
              "ticks": ""
             }
            },
            "type": "scattercarpet"
           }
          ],
          "scattergeo": [
           {
            "marker": {
             "colorbar": {
              "outlinewidth": 0,
              "ticks": ""
             }
            },
            "type": "scattergeo"
           }
          ],
          "scattergl": [
           {
            "marker": {
             "colorbar": {
              "outlinewidth": 0,
              "ticks": ""
             }
            },
            "type": "scattergl"
           }
          ],
          "scattermapbox": [
           {
            "marker": {
             "colorbar": {
              "outlinewidth": 0,
              "ticks": ""
             }
            },
            "type": "scattermapbox"
           }
          ],
          "scatterpolar": [
           {
            "marker": {
             "colorbar": {
              "outlinewidth": 0,
              "ticks": ""
             }
            },
            "type": "scatterpolar"
           }
          ],
          "scatterpolargl": [
           {
            "marker": {
             "colorbar": {
              "outlinewidth": 0,
              "ticks": ""
             }
            },
            "type": "scatterpolargl"
           }
          ],
          "scatterternary": [
           {
            "marker": {
             "colorbar": {
              "outlinewidth": 0,
              "ticks": ""
             }
            },
            "type": "scatterternary"
           }
          ],
          "surface": [
           {
            "colorbar": {
             "outlinewidth": 0,
             "ticks": ""
            },
            "colorscale": [
             [
              0,
              "#0d0887"
             ],
             [
              0.1111111111111111,
              "#46039f"
             ],
             [
              0.2222222222222222,
              "#7201a8"
             ],
             [
              0.3333333333333333,
              "#9c179e"
             ],
             [
              0.4444444444444444,
              "#bd3786"
             ],
             [
              0.5555555555555556,
              "#d8576b"
             ],
             [
              0.6666666666666666,
              "#ed7953"
             ],
             [
              0.7777777777777778,
              "#fb9f3a"
             ],
             [
              0.8888888888888888,
              "#fdca26"
             ],
             [
              1,
              "#f0f921"
             ]
            ],
            "type": "surface"
           }
          ],
          "table": [
           {
            "cells": {
             "fill": {
              "color": "#EBF0F8"
             },
             "line": {
              "color": "white"
             }
            },
            "header": {
             "fill": {
              "color": "#C8D4E3"
             },
             "line": {
              "color": "white"
             }
            },
            "type": "table"
           }
          ]
         },
         "layout": {
          "annotationdefaults": {
           "arrowcolor": "#2a3f5f",
           "arrowhead": 0,
           "arrowwidth": 1
          },
          "autotypenumbers": "strict",
          "coloraxis": {
           "colorbar": {
            "outlinewidth": 0,
            "ticks": ""
           }
          },
          "colorscale": {
           "diverging": [
            [
             0,
             "#8e0152"
            ],
            [
             0.1,
             "#c51b7d"
            ],
            [
             0.2,
             "#de77ae"
            ],
            [
             0.3,
             "#f1b6da"
            ],
            [
             0.4,
             "#fde0ef"
            ],
            [
             0.5,
             "#f7f7f7"
            ],
            [
             0.6,
             "#e6f5d0"
            ],
            [
             0.7,
             "#b8e186"
            ],
            [
             0.8,
             "#7fbc41"
            ],
            [
             0.9,
             "#4d9221"
            ],
            [
             1,
             "#276419"
            ]
           ],
           "sequential": [
            [
             0,
             "#0d0887"
            ],
            [
             0.1111111111111111,
             "#46039f"
            ],
            [
             0.2222222222222222,
             "#7201a8"
            ],
            [
             0.3333333333333333,
             "#9c179e"
            ],
            [
             0.4444444444444444,
             "#bd3786"
            ],
            [
             0.5555555555555556,
             "#d8576b"
            ],
            [
             0.6666666666666666,
             "#ed7953"
            ],
            [
             0.7777777777777778,
             "#fb9f3a"
            ],
            [
             0.8888888888888888,
             "#fdca26"
            ],
            [
             1,
             "#f0f921"
            ]
           ],
           "sequentialminus": [
            [
             0,
             "#0d0887"
            ],
            [
             0.1111111111111111,
             "#46039f"
            ],
            [
             0.2222222222222222,
             "#7201a8"
            ],
            [
             0.3333333333333333,
             "#9c179e"
            ],
            [
             0.4444444444444444,
             "#bd3786"
            ],
            [
             0.5555555555555556,
             "#d8576b"
            ],
            [
             0.6666666666666666,
             "#ed7953"
            ],
            [
             0.7777777777777778,
             "#fb9f3a"
            ],
            [
             0.8888888888888888,
             "#fdca26"
            ],
            [
             1,
             "#f0f921"
            ]
           ]
          },
          "colorway": [
           "#636efa",
           "#EF553B",
           "#00cc96",
           "#ab63fa",
           "#FFA15A",
           "#19d3f3",
           "#FF6692",
           "#B6E880",
           "#FF97FF",
           "#FECB52"
          ],
          "font": {
           "color": "#2a3f5f"
          },
          "geo": {
           "bgcolor": "white",
           "lakecolor": "white",
           "landcolor": "#E5ECF6",
           "showlakes": true,
           "showland": true,
           "subunitcolor": "white"
          },
          "hoverlabel": {
           "align": "left"
          },
          "hovermode": "closest",
          "mapbox": {
           "style": "light"
          },
          "paper_bgcolor": "white",
          "plot_bgcolor": "#E5ECF6",
          "polar": {
           "angularaxis": {
            "gridcolor": "white",
            "linecolor": "white",
            "ticks": ""
           },
           "bgcolor": "#E5ECF6",
           "radialaxis": {
            "gridcolor": "white",
            "linecolor": "white",
            "ticks": ""
           }
          },
          "scene": {
           "xaxis": {
            "backgroundcolor": "#E5ECF6",
            "gridcolor": "white",
            "gridwidth": 2,
            "linecolor": "white",
            "showbackground": true,
            "ticks": "",
            "zerolinecolor": "white"
           },
           "yaxis": {
            "backgroundcolor": "#E5ECF6",
            "gridcolor": "white",
            "gridwidth": 2,
            "linecolor": "white",
            "showbackground": true,
            "ticks": "",
            "zerolinecolor": "white"
           },
           "zaxis": {
            "backgroundcolor": "#E5ECF6",
            "gridcolor": "white",
            "gridwidth": 2,
            "linecolor": "white",
            "showbackground": true,
            "ticks": "",
            "zerolinecolor": "white"
           }
          },
          "shapedefaults": {
           "line": {
            "color": "#2a3f5f"
           }
          },
          "ternary": {
           "aaxis": {
            "gridcolor": "white",
            "linecolor": "white",
            "ticks": ""
           },
           "baxis": {
            "gridcolor": "white",
            "linecolor": "white",
            "ticks": ""
           },
           "bgcolor": "#E5ECF6",
           "caxis": {
            "gridcolor": "white",
            "linecolor": "white",
            "ticks": ""
           }
          },
          "title": {
           "x": 0.05
          },
          "xaxis": {
           "automargin": true,
           "gridcolor": "white",
           "linecolor": "white",
           "ticks": "",
           "title": {
            "standoff": 15
           },
           "zerolinecolor": "white",
           "zerolinewidth": 2
          },
          "yaxis": {
           "automargin": true,
           "gridcolor": "white",
           "linecolor": "white",
           "ticks": "",
           "title": {
            "standoff": 15
           },
           "zerolinecolor": "white",
           "zerolinewidth": 2
          }
         }
        },
        "title": {
         "text": "Média do Tamanho do Motor"
        },
        "width": 800,
        "xaxis": {
         "anchor": "y",
         "categoryarray": [
          "Gasoline",
          "Diesel",
          "Alcohol"
         ],
         "categoryorder": "array",
         "domain": [
          0,
          1
         ],
         "title": {
          "text": "Combustível"
         }
        },
        "yaxis": {
         "anchor": "x",
         "domain": [
          0,
          1
         ],
         "title": {
          "text": "Tamanho do Motor"
         }
        }
       }
      }
     },
     "metadata": {},
     "output_type": "display_data"
    }
   ],
   "source": [
    "df_combustivel[\"Tamanho do Motor\"] = np.flip(np.array(df.groupby(\"fuel\")[\"engine_size\"].mean()))\n",
    "fig = px.bar(df_combustivel, \"Combustível\", \"Tamanho do Motor\", title=\"Média do Tamanho do Motor\",\n",
    "             color=\"Combustível\", color_discrete_sequence=px.colors.qualitative.Plotly)\n",
    "fig.update_layout(width=800, height=500, showlegend=False)\n",
    "fig.show()"
   ]
  },
  {
   "cell_type": "markdown",
   "metadata": {},
   "source": [
    "## *Marcas Brasileiras x Preço Médio*"
   ]
  },
  {
   "cell_type": "code",
   "execution_count": null,
   "metadata": {},
   "outputs": [],
   "source": [
    "marcas = df['brand'].unique() # Lista de todas as marcas\n",
    "marcas_br = np.array(['Agrale', 'CBT Jipe', 'EFFA', 'Engesa', 'Envemo','Fibravan', 'Fyber', 'JPX','Lobini','TAC', 'Troller'])\n",
    "marcas_remover = list(set(marcas).difference(marcas_br))\n",
    "marcas_remover.sort()"
   ]
  }
 ],
 "metadata": {
  "kernelspec": {
   "display_name": "Python 3",
   "language": "python",
   "name": "python3"
  },
  "language_info": {
   "codemirror_mode": {
    "name": "ipython",
    "version": 3
   },
   "file_extension": ".py",
   "mimetype": "text/x-python",
   "name": "python",
   "nbconvert_exporter": "python",
   "pygments_lexer": "ipython3",
   "version": "3.11.4"
  },
  "orig_nbformat": 4
 },
 "nbformat": 4,
 "nbformat_minor": 2
}
